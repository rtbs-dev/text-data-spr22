{
 "cells": [
  {
   "cell_type": "code",
   "execution_count": 106,
   "id": "9d189ed0",
   "metadata": {},
   "outputs": [
    {
     "data": {
      "text/plain": [
       "['multiclass_pipe.pkl']"
      ]
     },
     "execution_count": 106,
     "metadata": {},
     "output_type": "execute_result"
    }
   ],
   "source": [
    "import joblib\n",
    "import numpy as np\n",
    "import pandas as pd\n",
    "from sklearn.compose import ColumnTransformer\n",
    "from sklearn.feature_extraction.text import TfidfVectorizer\n",
    "from sklearn.model_selection import train_test_split\n",
    "from sklearn.pipeline import Pipeline\n",
    "from sklearn.svm import LinearSVC\n",
    "\n",
    "#Read in data\n",
    "mtg = (pd.read_feather('../../../data/mtg.feather'))\n",
    "#Drop rows with missing values in the variables of interest\n",
    "mtg = mtg.dropna(subset = ['flavor_text', 'text', 'color_identity']).reset_index(drop=True)\n",
    "\n",
    "#Create numeric labels based on values of colors\n",
    "#New values: X = multiclass, Z = NaN\n",
    "mtg['color_label'] = [np.array(['X']) if len(x) > 1 else x for x in mtg['color_identity']]\n",
    "mtg['color_label'] = [np.array(['Z']) if len(x) == 0 else x for x in mtg['color_label']]\n",
    "mtg['color_label'] = np.concatenate(mtg['color_label'])\n",
    "\n",
    "#Merge labels into MTG data frame\n",
    "labels = pd.DataFrame(mtg['color_label'].unique()).reset_index()\n",
    "#Add one because zero indexed\n",
    "labels['index'] = labels['index']+1\n",
    "labels.columns = ['label', 'color_label']\n",
    "mtg = labels.merge(pd.DataFrame(mtg), how = 'right', on = 'color_label')\n",
    "\n",
    "#Select labels as targets\n",
    "y = mtg['label']\n",
    "\n",
    "#Select text columns as features\n",
    "X = mtg[['text', 'flavor_text']]\n",
    "\n",
    "#Training test split 75/25\n",
    "X_train, X_test, y_train, y_test = train_test_split(X, y, test_size = 0.25)\n",
    "\n",
    "#Preprocess text (this took several hours to debug and I am honestly not joking)\n",
    "preprocess = ColumnTransformer(transformers=[('text', TfidfVectorizer(), 'text'),\n",
    "                                             ('flavor_text', TfidfVectorizer(), 'flavor_text')])\n",
    "\n",
    "#Create pipeline with preprocessing and linear SVC\n",
    "pipe = Pipeline([\n",
    "    ('preprocess', preprocess),\n",
    "    ('LinearSVC', LinearSVC())\n",
    "])\n",
    "\n",
    "#Fit pipe to training data\n",
    "fitted_pipe = pipe.fit(X_train, y_train)\n",
    "\n",
    "#Export pickeled pipe\n",
    "joblib.dump(fitted_pipe, 'multiclass_pipe.pkl')"
   ]
  }
 ],
 "metadata": {
  "kernelspec": {
   "display_name": "Python 3",
   "language": "python",
   "name": "python3"
  },
  "language_info": {
   "codemirror_mode": {
    "name": "ipython",
    "version": 3
   },
   "file_extension": ".py",
   "mimetype": "text/x-python",
   "name": "python",
   "nbconvert_exporter": "python",
   "pygments_lexer": "ipython3",
   "version": "3.8.3"
  }
 },
 "nbformat": 4,
 "nbformat_minor": 5
}
