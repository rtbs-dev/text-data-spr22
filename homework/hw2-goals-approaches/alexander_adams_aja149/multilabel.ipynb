{
 "cells": [
  {
   "cell_type": "code",
   "execution_count": 1,
   "id": "9eec85e7",
   "metadata": {},
   "outputs": [
    {
     "data": {
      "text/plain": [
       "['multilabel_pipe.pkl']"
      ]
     },
     "execution_count": 1,
     "metadata": {},
     "output_type": "execute_result"
    }
   ],
   "source": [
    "import joblib\n",
    "import numpy as np\n",
    "import pandas as pd\n",
    "from sklearn.compose import ColumnTransformer\n",
    "from sklearn.feature_extraction.text import TfidfVectorizer\n",
    "from sklearn.model_selection import train_test_split\n",
    "from sklearn.preprocessing import MultiLabelBinarizer\n",
    "from sklearn.pipeline import Pipeline\n",
    "from sklearn.svm import SVC\n",
    "from sklearn.multiclass import OneVsRestClassifier\n",
    "from sklearn.decomposition import PCA\n",
    "\n",
    "#Read in data\n",
    "mtg = (pd.read_feather('../../../data/mtg.feather'))\n",
    "#Drop rows with missing values in the variables of interest\n",
    "mtg = mtg.dropna(subset = ['flavor_text', 'text', 'color_identity']).reset_index(drop=True)\n",
    "\n",
    "for letter in np.unique(np.concatenate(np.array(mtg['color_identity']))):\n",
    "    mtg[\"is_\"+letter] = [1 if letter in x else 0 for x in mtg['color_identity']]\n",
    "\n",
    "letters = mtg.columns.str.contains('is_')\n",
    "\n",
    "mtg['labels'] = mtg[mtg.columns[letters]].values.tolist()\n",
    "\n",
    "#Select labels as targets\n",
    "mlb = MultiLabelBinarizer()\n",
    "y = mlb.fit_transform(mtg['labels'])\n",
    "#Select text columns as features\n",
    "X = mtg[['text', 'flavor_text']]\n",
    "\n",
    "#Training test split 75/25\n",
    "X_train, X_test, y_train, y_test = train_test_split(X, y, test_size = 0.25)\n",
    "\n",
    "#Preprocess text (this took several hours to debug and I am honestly not joking)\n",
    "preprocess = ColumnTransformer(transformers=[('text', TfidfVectorizer(), 'text'),\n",
    "                                             ('flavor_text', TfidfVectorizer(), 'flavor_text')])\n",
    "\n",
    "#Create pipeline with preprocessing and linear SVC\n",
    "pipe = Pipeline([\n",
    "    ('preprocess', preprocess),\n",
    "    ('classifier', OneVsRestClassifier(SVC()))\n",
    "])\n",
    "\n",
    "#Fit pipe to training data\n",
    "fitted_pipe = pipe.fit(X_train, y_train)\n",
    "\n",
    "#Export pickeled pipe\n",
    "joblib.dump(fitted_pipe, 'multilabel_pipe.pkl')"
   ]
  }
 ],
 "metadata": {
  "kernelspec": {
   "display_name": "Python 3",
   "language": "python",
   "name": "python3"
  },
  "language_info": {
   "codemirror_mode": {
    "name": "ipython",
    "version": 3
   },
   "file_extension": ".py",
   "mimetype": "text/x-python",
   "name": "python",
   "nbconvert_exporter": "python",
   "pygments_lexer": "ipython3",
   "version": "3.8.3"
  }
 },
 "nbformat": 4,
 "nbformat_minor": 5
}
