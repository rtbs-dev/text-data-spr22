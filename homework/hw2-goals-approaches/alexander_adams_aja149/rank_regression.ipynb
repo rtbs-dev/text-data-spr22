{
 "cells": [
  {
   "cell_type": "code",
   "execution_count": 36,
   "id": "d7c5e613",
   "metadata": {},
   "outputs": [
    {
     "data": {
      "text/plain": [
       "['regression_GridSearch.pkl']"
      ]
     },
     "execution_count": 36,
     "metadata": {},
     "output_type": "execute_result"
    }
   ],
   "source": [
    "import joblib\n",
    "import numpy as np\n",
    "import pandas as pd\n",
    "from sklearn.compose import ColumnTransformer\n",
    "from sklearn.feature_extraction.text import TfidfVectorizer\n",
    "from sklearn.model_selection import train_test_split, GridSearchCV, KFold\n",
    "from sklearn.pipeline import Pipeline\n",
    "from sklearn.tree import DecisionTreeRegressor\n",
    "from sklearn.ensemble import RandomForestRegressor\n",
    "from sklearn.neighbors import KNeighborsRegressor\n",
    "from sklearn.linear_model import Lasso\n",
    "\n",
    "#Read in data\n",
    "mtg = (pd.read_feather('../../../data/mtg.feather'))\n",
    "#Drop rows with missing values in the variables of interest\n",
    "mtg = mtg.dropna(subset = ['flavor_text', 'text', 'color_identity', 'edhrec_rank', 'rarity']).reset_index(drop=True)\n",
    "\n",
    "#Create dummy columns based on color labels\n",
    "for letter in np.unique(np.concatenate(np.array(mtg['color_identity']))):\n",
    "    mtg[\"is_\"+letter] = [1 if letter in x else 0 for x in mtg['color_identity']]\n",
    "    \n",
    "#Feature variables: text, flavor text, color labels, rarity\n",
    "mtg = pd.get_dummies(mtg, columns = ['rarity'])\n",
    "\n",
    "#Specify X and Y\n",
    "y = mtg['edhrec_rank']\n",
    "\n",
    "X = mtg[['text','flavor_text','is_B','is_G', 'is_R', 'is_U', 'is_W', 'rarity_uncommon', 'rarity_rare']]\n",
    "\n",
    "#70/30 training-test split\n",
    "X_train, X_test, y_train, y_test = train_test_split(X,y, test_size = 0.3)\n",
    "\n",
    "#(1) Choose a number of folds and specify a random state\n",
    "fold_generator = KFold(n_splits=5, shuffle=True)\n",
    "\n",
    "#(2) Specify a preprocessing step for the text columns\n",
    "preprocess = ColumnTransformer([('text', TfidfVectorizer(), 'text'),\n",
    "                                ('flavor_text', TfidfVectorizer(), 'flavor_text')])\n",
    "\n",
    "#(3) Create the model pipe\n",
    "pipe = Pipeline(steps=[('pre_process', preprocess),\n",
    "                       ('model',None)])\n",
    "\n",
    "#(4) Instantiate the search space\n",
    "search_space = [\n",
    "    # Naive Bayes Classifier\n",
    "    {'model' : [Lasso()]},\n",
    "    \n",
    "    # K-Nearest-Neighbors, also specifying values of K to test\n",
    "    {'model' : [KNeighborsRegressor()],\n",
    "    'model__n_neighbors':[5,10,25,50]},\n",
    "    \n",
    "    # Decision Tree, also specifying depth levels to test\n",
    "    {'model': [DecisionTreeRegressor()],\n",
    "    'model__max_depth':[2,3,4]},\n",
    "    \n",
    "    # Random forest, also specifying depth levels, numbers of estimators, and numbers of features to test\n",
    "    {'model' : [RandomForestRegressor()],\n",
    "    'model__max_depth':[2,3,4],\n",
    "    'model__n_estimators':[500,1000,1500],\n",
    "    'model__max_features':[3,4,5]},\n",
    "]\n",
    "\n",
    "#Assemble the GridSearch\n",
    "search = GridSearchCV(pipe, \n",
    "                      search_space, \n",
    "                      cv = fold_generator,\n",
    "                      scoring='neg_mean_squared_error',\n",
    "                      n_jobs=-1)\n",
    "\n",
    "#Fit the GridSearch\n",
    "search.fit(X_train, y_train)\n",
    "\n",
    "#Save the best estimator \n",
    "joblib.dump(search.best_estimator_, 'regression_GridSearch.pkl')"
   ]
  }
 ],
 "metadata": {
  "kernelspec": {
   "display_name": "Python 3",
   "language": "python",
   "name": "python3"
  },
  "language_info": {
   "codemirror_mode": {
    "name": "ipython",
    "version": 3
   },
   "file_extension": ".py",
   "mimetype": "text/x-python",
   "name": "python",
   "nbconvert_exporter": "python",
   "pygments_lexer": "ipython3",
   "version": "3.8.3"
  }
 },
 "nbformat": 4,
 "nbformat_minor": 5
}
