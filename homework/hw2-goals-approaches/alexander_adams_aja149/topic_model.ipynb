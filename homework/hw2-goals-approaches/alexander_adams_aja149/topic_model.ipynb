{
 "cells": [
  {
   "cell_type": "code",
   "execution_count": 21,
   "id": "dc0af684",
   "metadata": {},
   "outputs": [
    {
     "name": "stderr",
     "output_type": "stream",
     "text": [
      "C:\\Users\\alexi\\Anaconda3\\lib\\site-packages\\scipy\\sparse\\_index.py:124: SparseEfficiencyWarning: Changing the sparsity structure of a csr_matrix is expensive. lil_matrix is more efficient.\n",
      "  self._set_arrayXarray(i, j, x)\n"
     ]
    }
   ],
   "source": [
    "from bertopic import BERTopic\n",
    "import pandas as pd\n",
    "\n",
    "#Read in data, drop NAs, reset index\n",
    "mtg = (pd.read_feather('../../../data/mtg.feather')).dropna(subset = ['flavor_text']).reset_index(drop=True)\n",
    "#Instantiate BERT model\n",
    "topic_model = BERTopic()\n",
    "#Fit model to flavor text\n",
    "topics, probs = topic_model.fit_transform(mtg['flavor_text'])\n",
    "#Save model\n",
    "topic_model.save('hw2_bert_model')"
   ]
  }
 ],
 "metadata": {
  "kernelspec": {
   "display_name": "Python 3",
   "language": "python",
   "name": "python3"
  },
  "language_info": {
   "codemirror_mode": {
    "name": "ipython",
    "version": 3
   },
   "file_extension": ".py",
   "mimetype": "text/x-python",
   "name": "python",
   "nbconvert_exporter": "python",
   "pygments_lexer": "ipython3",
   "version": "3.8.3"
  }
 },
 "nbformat": 4,
 "nbformat_minor": 5
}
