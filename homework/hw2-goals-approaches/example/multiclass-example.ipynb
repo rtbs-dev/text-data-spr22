{
 "cells": [
  {
   "cell_type": "code",
   "execution_count": 6,
   "id": "f6a1eb81",
   "metadata": {},
   "outputs": [
    {
     "name": "stdout",
     "output_type": "stream",
     "text": [
      "stages:\r\n",
      "  multiclass:\r\n",
      "    cmd: python multiclass_pipe.py\r\n",
      "    deps:\r\n",
      "      - multiclass_pipe.py\r\n",
      "      - ../../../data/mtg.feather\r\n",
      "    outs:\r\n",
      "      - multiclass_example.sav\r\n",
      "    params:\r\n",
      "      - preprocessing.ngrams\r\n",
      "    metrics:\r\n",
      "      - metrics.json:\r\n",
      "          cache: false\r\n"
     ]
    }
   ],
   "source": [
    "%cat dvc.yaml"
   ]
  },
  {
   "cell_type": "code",
   "execution_count": 7,
   "id": "bb4f89e8",
   "metadata": {},
   "outputs": [
    {
     "name": "stdout",
     "output_type": "stream",
     "text": [
      "preprocessing:\r\n",
      "  ngrams:\r\n",
      "    smallest: 1\r\n",
      "    largest: 2\r\n"
     ]
    }
   ],
   "source": [
    "%cat params.yaml"
   ]
  },
  {
   "cell_type": "code",
   "execution_count": 9,
   "id": "e4ce2e6b",
   "metadata": {},
   "outputs": [
    {
     "name": "stdout",
     "output_type": "stream",
     "text": [
      "{\"precision\":0.796564367,\"recall\":0.7966616085,\"f1-score\":0.7964695552,\"support\":2636.0}"
     ]
    }
   ],
   "source": [
    "%cat metrics.json"
   ]
  },
  {
   "cell_type": "code",
   "execution_count": 10,
   "id": "107c43c1",
   "metadata": {},
   "outputs": [
    {
     "name": "stdout",
     "output_type": "stream",
     "text": [
      "Path          Metric     exp-1fbbd    workspace    Change\n",
      "metrics.json  f1-score   0.75669      0.79647      0.039775\n",
      "metrics.json  precision  0.75665      0.79656      0.03991\n",
      "metrics.json  recall     0.75683      0.79666      0.039833\n",
      "\n",
      "Path         Param                         exp-1fbbd    workspace    Change\n",
      "params.yaml  preprocessing.ngrams.largest  1            2            1\n",
      "\u001b[0m"
     ]
    }
   ],
   "source": [
    "!dvc exp diff exp-1fbbd"
   ]
  },
  {
   "cell_type": "code",
   "execution_count": 5,
   "id": "fcbf20df",
   "metadata": {},
   "outputs": [
    {
     "name": "stdout",
     "output_type": "stream",
     "text": [
      "import re\r\n",
      "from sklearn.feature_extraction.text import TfidfVectorizer\r\n",
      "from sklearn.model_selection import train_test_split\r\n",
      "from sklearn.svm import LinearSVC\r\n",
      "from sklearn.pipeline import Pipeline\r\n",
      "from sklearn.metrics import classification_report\r\n",
      "import numpy as np\r\n",
      "import yaml\r\n",
      "import pandas as pd\r\n",
      "import pickle\r\n",
      "\r\n",
      "with open(\"params.yaml\", \"r\") as fd:\r\n",
      "    params = yaml.safe_load(fd)\r\n",
      "\r\n",
      "ngrams = params[\"preprocessing\"][\"ngrams\"]\r\n",
      "\r\n",
      "tokenize = re.compile(\r\n",
      "    r\"(?:\\#[\\w\\d]+\\b)\"\r\n",
      "    r\"|(?:\\b\\w[\\/\\&]\\w)\\b\"\r\n",
      "    r\"|(?:\\b\\w[\\w\\'\\d]+)\\b\"\r\n",
      "    r\"|(?:\\{\\w\\})\"  # mana\r\n",
      "    r\"|(?:[+-]\\d\\d?(?:/[+-]\\d\\d?)?)\"  # tokens\r\n",
      ")\r\n",
      "\r\n",
      "df = (\r\n",
      "    pd.read_feather(\"../../../data/mtg.feather\")\r\n",
      "    .drop_duplicates(  # <-- will need to change for your notebook locatio\r\n",
      "        subset=[\"name\"]\r\n",
      "    )\r\n",
      "    .assign(\r\n",
      "        color_singles=lambda df: df[\"color_identity\"]\r\n",
      "        .where(df[\"color_identity\"].str.len() == 1, \"\")\r\n",
      "        .str[0]\r\n",
      "    )[[\"text\", \"flavor_text\", \"color_singles\"]]\r\n",
      "    .dropna()\r\n",
      ")\r\n",
      "\r\n",
      "vectorizer = TfidfVectorizer(\r\n",
      "    min_df=3,\r\n",
      "    max_df=0.8,\r\n",
      "    stop_words=\"english\",\r\n",
      "    ngram_range=(ngrams[\"smallest\"], ngrams[\"largest\"]),\r\n",
      "    tokenizer=tokenize.findall,\r\n",
      ")\r\n",
      "\r\n",
      "multiclf = LinearSVC()\r\n",
      "\r\n",
      "\r\n",
      "pipe = Pipeline(\r\n",
      "    [\r\n",
      "        (\"vec\", vectorizer),\r\n",
      "        (\"clf\", multiclf),\r\n",
      "    ]\r\n",
      ")\r\n",
      "\r\n",
      "X_train, X_test, y_train, y_test = train_test_split(\r\n",
      "    df[\"text\"].str.cat(df[\"flavor_text\"], sep=\" \\n \"),\r\n",
      "    df[\"color_singles\"],\r\n",
      "    random_state=42,\r\n",
      ")\r\n",
      "\r\n",
      "print(\"training model...\")\r\n",
      "pipe.fit(X_train, y_train)\r\n",
      "print(\"done!\")\r\n",
      "\r\n",
      "with open(\"multiclass_example.sav\", \"wb\") as dump:\r\n",
      "    print(\"saving pipeline...\")\r\n",
      "    pickle.dump(pipe, dump)\r\n",
      "    print(\"done!\")\r\n",
      "\r\n",
      "y_pred = pipe.predict(X_test)\r\n",
      "\r\n",
      "metrics = pd.DataFrame(classification_report(y_test, y_pred, output_dict=True))\r\n",
      "print(metrics)\r\n",
      "metrics[\"weighted avg\"].to_json(\"metrics.json\")\r\n"
     ]
    }
   ],
   "source": [
    "%cat multiclass_pipe.py"
   ]
  },
  {
   "cell_type": "code",
   "execution_count": null,
   "id": "0ce310f0",
   "metadata": {},
   "outputs": [],
   "source": []
  }
 ],
 "metadata": {
  "kernelspec": {
   "display_name": "Coconut [conda env:text-data-class]",
   "language": "coconut",
   "name": "conda-env-text-data-class-coconut"
  },
  "language_info": {
   "codemirror_mode": {
    "name": "python",
    "version": 3
   },
   "file_extension": ".coco",
   "mimetype": "text/x-python3",
   "name": "coconut",
   "pygments_lexer": "coconut",
   "version": "2.0.0-a_dev53"
  }
 },
 "nbformat": 4,
 "nbformat_minor": 5
}
