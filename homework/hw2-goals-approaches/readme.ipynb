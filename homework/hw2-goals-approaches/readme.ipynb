{
 "cells": [
  {
   "cell_type": "markdown",
   "id": "18ce53e6",
   "metadata": {},
   "source": [
    "# Homework: Goals & Approaches\n",
    "\n",
    "> The body grows stronger under stress. The mind does not.\n",
    "> \n",
    ">  -- Magic the Gathering, _Fractured Sanity_\n",
    "\n",
    "This homework deals with the goals you must define, along with the approaches you deem necessary to achieve those goals. \n",
    "Key to this will be a focus on your _workflows_: \n",
    "\n",
    "- are they reproducible? \n",
    "- are they maintainable? \n",
    "- are they well-justified and communicated? \n",
    "\n",
    "This is not a \"machine-learning\" course, but machine learning plays a large part in modern text analysis and NLP. \n",
    "Machine learning, in-turn, has a number of issues tracking and solving issues in a collaborative, asynchronous, distributed manner. \n",
    "\n",
    "It's not inherently _wrong_ to use pre-configured models and libraries! \n",
    "In fact, you will likely be unable to create a set of ML algorithms that \"beat\" something others have spent 100's of hours creating, optimizing, and validating. \n",
    "However, to answer the three questions above, we need a way to explicitly track our decisions to use others' work, and efficiently _swap out_ that work for new ideas and directions as the need arises. \n",
    "\n",
    "This homework is a \"part 1\" of sorts, where you will construct several inter-related pipelines in a way that will allow _much easier_ adjustment, experimentation, and measurement in \"part 2\""
   ]
  },
  {
   "cell_type": "markdown",
   "id": "0641ba71",
   "metadata": {},
   "source": [
    "## Setup\n",
    "\n",
    "### Dependencies \n",
    "As before, ensure you have an up-to-date environment to isolate your work. \n",
    "Use the `environment.yml` file in the project root to create/update the `text-data-class` environment. \n",
    "> I expect any additional dependencies to be added here, which will show up on your pull-request. \n",
    "\n",
    "### Data\n",
    "Once again, we have set things up to use DVC to import our data. \n",
    "If the data changes, things will automatically update! \n",
    "The data for this homework has been imported as `mtg.feather` under the `data/` directory at the top-level of this repository. \n",
    "In order to ensure your local copy of the repo has the actual data (instead of just the `mtg.feather.dvc` stub-file), you need to run `dvc pull`"
   ]
  },
  {
   "cell_type": "code",
   "execution_count": 1,
   "id": "509a8b89",
   "metadata": {},
   "outputs": [
    {
     "name": "stdout",
     "output_type": "stream",
     "text": [
      "A       ..\\..\\data\\mtg.feather\n",
      "A       ..\\..\\data\\shakespeare.txt\n",
      "D       shakespeare.txt\n",
      "2 files added, 1 file deleted and 1 file fetched\n"
     ]
    }
   ],
   "source": [
    "!dvc pull"
   ]
  },
  {
   "cell_type": "markdown",
   "id": "a95a606a",
   "metadata": {},
   "source": [
    "Then you may load the data into your notebooks and scripts e.g. using pandas+pyarrow:"
   ]
  },
  {
   "cell_type": "code",
   "execution_count": 15,
   "id": "4787010c",
   "metadata": {},
   "outputs": [
    {
     "data": {
      "text/html": [
       "<div>\n",
       "<style scoped>\n",
       "    .dataframe tbody tr th:only-of-type {\n",
       "        vertical-align: middle;\n",
       "    }\n",
       "\n",
       "    .dataframe tbody tr th {\n",
       "        vertical-align: top;\n",
       "    }\n",
       "\n",
       "    .dataframe thead th {\n",
       "        text-align: right;\n",
       "    }\n",
       "</style>\n",
       "<table border=\"1\" class=\"dataframe\">\n",
       "  <thead>\n",
       "    <tr style=\"text-align: right;\">\n",
       "      <th></th>\n",
       "      <th>name</th>\n",
       "      <th>text</th>\n",
       "      <th>mana_cost</th>\n",
       "      <th>flavor_text</th>\n",
       "      <th>release_date</th>\n",
       "      <th>edhrec_rank</th>\n",
       "    </tr>\n",
       "  </thead>\n",
       "  <tbody>\n",
       "    <tr>\n",
       "      <th>0</th>\n",
       "      <td>Ancestor's Chosen</td>\n",
       "      <td>First strike (This creature deals combat damag...</td>\n",
       "      <td>[5, W, W]</td>\n",
       "      <td>&lt;NA&gt;</td>\n",
       "      <td>2007-07-13</td>\n",
       "      <td>16916.0</td>\n",
       "    </tr>\n",
       "    <tr>\n",
       "      <th>1</th>\n",
       "      <td>Angel of Mercy</td>\n",
       "      <td>Flying\n",
       "When Angel of Mercy enters the battlefi...</td>\n",
       "      <td>[4, W]</td>\n",
       "      <td>Every tear shed is a drop of immortality.</td>\n",
       "      <td>2007-07-13</td>\n",
       "      <td>14430.0</td>\n",
       "    </tr>\n",
       "    <tr>\n",
       "      <th>2</th>\n",
       "      <td>Aven Cloudchaser</td>\n",
       "      <td>Flying (This creature can't be blocked except ...</td>\n",
       "      <td>[3, W]</td>\n",
       "      <td>&lt;NA&gt;</td>\n",
       "      <td>2007-07-13</td>\n",
       "      <td>13098.0</td>\n",
       "    </tr>\n",
       "    <tr>\n",
       "      <th>3</th>\n",
       "      <td>Ballista Squad</td>\n",
       "      <td>{X}{W}, {T}: Ballista Squad deals X damage to ...</td>\n",
       "      <td>[3, W]</td>\n",
       "      <td>The perfect antidote for a tightly packed form...</td>\n",
       "      <td>2007-07-13</td>\n",
       "      <td>14972.0</td>\n",
       "    </tr>\n",
       "    <tr>\n",
       "      <th>4</th>\n",
       "      <td>Bandage</td>\n",
       "      <td>Prevent the next 1 damage that would be dealt ...</td>\n",
       "      <td>[W]</td>\n",
       "      <td>Life is measured in inches. To a healer, every...</td>\n",
       "      <td>2007-07-13</td>\n",
       "      <td>4980.0</td>\n",
       "    </tr>\n",
       "  </tbody>\n",
       "</table>\n",
       "</div>"
      ],
      "text/plain": [
       "                name                                               text  \\\n",
       "0  Ancestor's Chosen  First strike (This creature deals combat damag...   \n",
       "1     Angel of Mercy  Flying\n",
       "When Angel of Mercy enters the battlefi...   \n",
       "2   Aven Cloudchaser  Flying (This creature can't be blocked except ...   \n",
       "3     Ballista Squad  {X}{W}, {T}: Ballista Squad deals X damage to ...   \n",
       "4            Bandage  Prevent the next 1 damage that would be dealt ...   \n",
       "\n",
       "   mana_cost                                        flavor_text release_date  \\\n",
       "0  [5, W, W]                                               <NA>   2007-07-13   \n",
       "1     [4, W]          Every tear shed is a drop of immortality.   2007-07-13   \n",
       "2     [3, W]                                               <NA>   2007-07-13   \n",
       "3     [3, W]  The perfect antidote for a tightly packed form...   2007-07-13   \n",
       "4        [W]  Life is measured in inches. To a healer, every...   2007-07-13   \n",
       "\n",
       "   edhrec_rank  \n",
       "0      16916.0  \n",
       "1      14430.0  \n",
       "2      13098.0  \n",
       "3      14972.0  \n",
       "4       4980.0  "
      ]
     },
     "execution_count": 15,
     "metadata": {},
     "output_type": "execute_result"
    }
   ],
   "source": [
    "import pandas as pd\n",
    "(pd.read_feather('../../data/mtg.feather')# <-- will need to change for your notebook location\n",
    " .head()[['name','text', 'mana_cost', 'flavor_text','release_date', 'edhrec_rank']]  \n",
    ")"
   ]
  },
  {
   "cell_type": "markdown",
   "id": "ce2e06cf",
   "metadata": {},
   "source": [
    "But that's not all --- at the end of this homework, we will be able to run a `dvc repro` command and all of our main models and results will be made available for your _notebook_ to open and display."
   ]
  },
  {
   "cell_type": "markdown",
   "id": "c2e5d788",
   "metadata": {},
   "source": [
    "### Submission Structure\n",
    "You will need to submit a pull-request on DagsHub with the following additions: \n",
    "\n",
    "- your subfolder, e.g. named with your user id, inside the `homework/hw2-goals-approaches/` folder\n",
    "    - your \"lab notebook\", as an **`.ipynb` or `.md`** (e.g. jupytext), that will be exported to PDF for Canvas submission. **This communicates your _goals_**, along with the results that will be compared to them. \n",
    "    - your **`dvc.yaml`** file that will define  the inputs and outputs of your _approaches_. See [the DVC documentation](https://dvc.org/doc/user-guide/project-structure/pipelines-files) for information!\n",
    "    - **source code** and **scripts** that define the preprocessing and prediction `Pipeline`'s you wish to create. You may then _print_ the content of those scripts at the end of your notebook e.g. as appendices using \n",
    "- any updates to `environment.yml` to add the dependencies you want to use for this homework"
   ]
  },
  {
   "cell_type": "markdown",
   "id": "f1bca163",
   "metadata": {},
   "source": [
    "## Part 1: Unsupervised Exploration\n",
    "\n",
    "Investigate the [BERTopic](https://maartengr.github.io/BERTopic/index.html) documentation (linked), and train a model using their library to create a topic model of the `flavor_text` data in the dataset above. \n",
    "\n",
    "- In a `topic_model.py`, load the data and train a bertopic model. You will `save` the model in that script as a new trained model object\n",
    "- add a \"topic-model\" stage to your `dvc.yaml` that has `mtg.feather` and `topic_model.py` as dependencies, and your trained model as an output\n",
    "- load the trained bertopic model into your notebook and display\n",
    "    1. the `topic_visualization` interactive plot [see docs](https://maartengr.github.io/BERTopic/api/plotting/topics.html)\n",
    "    2. Use the plot to come up with working \"names\" for each major topic, adjusting the _number_ of topics as necessary to make things more useful. \n",
    "    3. Once you have names, create a _Dynamic Topic Model_ by following [their documentation](https://maartengr.github.io/BERTopic/getting_started/topicsovertime/topicsovertime.html). Use the `release_date` column as timestamps. \n",
    "    4. Describe what you see, and any possible issues with the topic models BERTopic has created. **This is the hardest part... interpreting!**"
   ]
  },
  {
   "cell_type": "markdown",
   "id": "98e54c03",
   "metadata": {},
   "source": [
    "## Part 2 Supervised Classification\n",
    "\n",
    "Using only the `text` and `flavor_text` data, predict the color identity of cards: \n",
    "\n",
    "Follow the sklearn documentation covered in class on text data and Pipelines to create a classifier that predicts which of the colors a card is identified as. \n",
    "You will need to preprocess the target _`color_identity`_ labels depending on the task: \n",
    "\n",
    "- Source code for pipelines\n",
    "    - in `multiclass.py`, again load data and train a Pipeline that preprocesses the data and trains a multiclass classifier (`LinearSVC`), and saves the model pickel output once trained. target labels with more than one color should be _unlabeled_! \n",
    "    - in `multilabel.py`, do the same, but with a multilabel model (e.g. [here](https://scikit-learn.org/stable/auto_examples/miscellaneous/plot_multilabel.html#sphx-glr-auto-examples-miscellaneous-plot-multilabel-py)). You should now use the original `color_identity` data as-is, with special attention to the multi-color cards. \n",
    "- in `dvc.yaml`, add these as stages to take the data and scripts as input, with the trained/saved models as output. \n",
    "\n",
    "- in your notebook: \n",
    "    - Describe:  preprocessing steps (the tokenization done, the ngram_range, etc.), and why. \n",
    "    - load both models and plot the _confusion matrix_ for each model ([see here for the multilabel-specific version](https://scikit-learn.org/stable/modules/generated/sklearn.metrics.multilabel_confusion_matrix.html))\n",
    "    - Describe: what are the models succeeding at? Where are they struggling? How do you propose addressing these weaknesses next time?"
   ]
  },
  {
   "cell_type": "markdown",
   "id": "02985dfa",
   "metadata": {},
   "source": [
    "## Part 3: Regression?\n",
    "\n",
    "> Can we predict the EDHREC \"rank\" of the card using the data we have available? \n",
    "\n",
    "- Like above, add a script and dvc stage to create and train your model\n",
    "- in the notebook, aside from your descriptions, plot the `predicted` vs. `actual` rank, with a 45-deg line showing what \"perfect prediction\" should look like. \n",
    "- This is a freeform part, so think about the big picture and keep track of your decisions: \n",
    "    - what model did you choose? Why? \n",
    "    - What data did you use from the original dataset? How did you proprocess it? \n",
    "    - Can we see the importance of those features? e.g. logistic weights? \n",
    "    \n",
    "How did you do? What would you like to try if you had more time?"
   ]
  }
 ],
 "metadata": {
  "jupytext": {
   "formats": "ipynb,md:myst"
  },
  "kernelspec": {
   "display_name": "Python 3",
   "language": "python",
   "name": "python3"
  },
  "language_info": {
   "codemirror_mode": {
    "name": "ipython",
    "version": 3
   },
   "file_extension": ".py",
   "mimetype": "text/x-python",
   "name": "python",
   "nbconvert_exporter": "python",
   "pygments_lexer": "ipython3",
   "version": "3.8.3"
  }
 },
 "nbformat": 4,
 "nbformat_minor": 5
}
