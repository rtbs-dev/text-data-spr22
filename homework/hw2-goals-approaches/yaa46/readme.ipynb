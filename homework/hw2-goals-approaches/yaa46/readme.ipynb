{
 "cells": [
  {
   "cell_type": "markdown",
   "id": "18ce53e6",
   "metadata": {},
   "source": [
    "# Homework: Goals & Approaches\n",
    "\n",
    "> The body grows stronger under stress. The mind does not.\n",
    "> \n",
    ">  -- Magic the Gathering, _Fractured Sanity_\n",
    "\n",
    "This homework deals with the goals you must define, along with the approaches you deem necessary to achieve those goals. \n",
    "Key to this will be a focus on your _workflows_: \n",
    "\n",
    "- are they reproducible? \n",
    "- are they maintainable? \n",
    "- are they well-justified and communicated? \n",
    "\n",
    "This is not a \"machine-learning\" course, but machine learning plays a large part in modern text analysis and NLP. \n",
    "Machine learning, in-turn, has a number of issues tracking and solving issues in a collaborative, asynchronous, distributed manner. \n",
    "\n",
    "It's not inherently _wrong_ to use pre-configured models and libraries! \n",
    "In fact, you will likely be unable to create a set of ML algorithms that \"beat\" something others have spent 100's of hours creating, optimizing, and validating. \n",
    "However, to answer the three questions above, we need a way to explicitly track our decisions to use others' work, and efficiently _swap out_ that work for new ideas and directions as the need arises. \n",
    "\n",
    "This homework is a \"part 1\" of sorts, where you will construct several inter-related pipelines in a way that will allow _much easier_ adjustment, experimentation, and measurement in \"part 2\"\n",
    "\n",
    "\n"
   ]
  },
  {
   "cell_type": "markdown",
   "id": "0641ba71",
   "metadata": {},
   "source": [
    "## Setup\n",
    "\n",
    "### Dependencies \n",
    "As before, ensure you have an up-to-date environment to isolate your work. \n",
    "Use the `environment.yml` file in the project root to create/update the `text-data-class` environment. \n",
    "> I expect any additional dependencies to be added here, which will show up on your pull-request. \n",
    "\n",
    "### Data\n",
    "Once again, we have set things up to use DVC to import our data. \n",
    "If the data changes, things will automatically update! \n",
    "The data for this homework has been imported as `mtg.feather` under the `data/` directory at the top-level of this repository. \n",
    "In order to ensure your local copy of the repo has the actual data (instead of just the `mtg.feather.dvc` stub-file), you need to run `dvc pull`"
   ]
  },
  {
   "cell_type": "code",
   "execution_count": null,
   "id": "509a8b89",
   "metadata": {},
   "outputs": [],
   "source": [
    "!dvc pull"
   ]
  },
  {
   "cell_type": "markdown",
   "id": "a95a606a",
   "metadata": {},
   "source": [
    "Then you may load the data into your notebooks and scripts e.g. using pandas+pyarrow:"
   ]
  },
  {
   "cell_type": "code",
   "execution_count": 3,
   "id": "4787010c",
   "metadata": {},
   "outputs": [
    {
     "ename": "FileNotFoundError",
     "evalue": "[Errno 2] No such file or directory: '../../data/mtg.feather'",
     "output_type": "error",
     "traceback": [
      "\u001b[0;31m---------------------------------------------------------------------------\u001b[0m",
      "\u001b[0;31mFileNotFoundError\u001b[0m                         Traceback (most recent call last)",
      "\u001b[1;32m/Users/yousufabdelfatah/Desktop/Spring_2022/text_as_data/text-data-spr22/homework/hw2-goals-approaches/yaa46/readme.ipynb Cell 5'\u001b[0m in \u001b[0;36m<cell line: 2>\u001b[0;34m()\u001b[0m\n\u001b[1;32m      <a href='vscode-notebook-cell:/Users/yousufabdelfatah/Desktop/Spring_2022/text_as_data/text-data-spr22/homework/hw2-goals-approaches/yaa46/readme.ipynb#ch0000004?line=0'>1</a>\u001b[0m \u001b[39mimport\u001b[39;00m \u001b[39mpandas\u001b[39;00m \u001b[39mas\u001b[39;00m \u001b[39mpd\u001b[39;00m\n\u001b[0;32m----> <a href='vscode-notebook-cell:/Users/yousufabdelfatah/Desktop/Spring_2022/text_as_data/text-data-spr22/homework/hw2-goals-approaches/yaa46/readme.ipynb#ch0000004?line=1'>2</a>\u001b[0m (pd\u001b[39m.\u001b[39;49mread_feather(\u001b[39m'\u001b[39;49m\u001b[39m../../data/mtg.feather\u001b[39;49m\u001b[39m'\u001b[39;49m)\u001b[39m# <-- will need to change for your notebook location\u001b[39;00m\n\u001b[1;32m      <a href='vscode-notebook-cell:/Users/yousufabdelfatah/Desktop/Spring_2022/text_as_data/text-data-spr22/homework/hw2-goals-approaches/yaa46/readme.ipynb#ch0000004?line=2'>3</a>\u001b[0m  \u001b[39m.\u001b[39mhead()[[\u001b[39m'\u001b[39m\u001b[39mname\u001b[39m\u001b[39m'\u001b[39m,\u001b[39m'\u001b[39m\u001b[39mtext\u001b[39m\u001b[39m'\u001b[39m, \u001b[39m'\u001b[39m\u001b[39mmana_cost\u001b[39m\u001b[39m'\u001b[39m, \u001b[39m'\u001b[39m\u001b[39mflavor_text\u001b[39m\u001b[39m'\u001b[39m,\u001b[39m'\u001b[39m\u001b[39mrelease_date\u001b[39m\u001b[39m'\u001b[39m, \u001b[39m'\u001b[39m\u001b[39medhrec_rank\u001b[39m\u001b[39m'\u001b[39m]]  \n\u001b[1;32m      <a href='vscode-notebook-cell:/Users/yousufabdelfatah/Desktop/Spring_2022/text_as_data/text-data-spr22/homework/hw2-goals-approaches/yaa46/readme.ipynb#ch0000004?line=3'>4</a>\u001b[0m )\n",
      "File \u001b[0;32m~/opt/anaconda3/lib/python3.8/site-packages/pandas/io/feather_format.py:128\u001b[0m, in \u001b[0;36mread_feather\u001b[0;34m(path, columns, use_threads, storage_options)\u001b[0m\n\u001b[1;32m    <a href='file:///Users/yousufabdelfatah/opt/anaconda3/lib/python3.8/site-packages/pandas/io/feather_format.py?line=124'>125</a>\u001b[0m import_optional_dependency(\u001b[39m\"\u001b[39m\u001b[39mpyarrow\u001b[39m\u001b[39m\"\u001b[39m)\n\u001b[1;32m    <a href='file:///Users/yousufabdelfatah/opt/anaconda3/lib/python3.8/site-packages/pandas/io/feather_format.py?line=125'>126</a>\u001b[0m \u001b[39mfrom\u001b[39;00m \u001b[39mpyarrow\u001b[39;00m \u001b[39mimport\u001b[39;00m feather\n\u001b[0;32m--> <a href='file:///Users/yousufabdelfatah/opt/anaconda3/lib/python3.8/site-packages/pandas/io/feather_format.py?line=127'>128</a>\u001b[0m \u001b[39mwith\u001b[39;00m get_handle(\n\u001b[1;32m    <a href='file:///Users/yousufabdelfatah/opt/anaconda3/lib/python3.8/site-packages/pandas/io/feather_format.py?line=128'>129</a>\u001b[0m     path, \u001b[39m\"\u001b[39;49m\u001b[39mrb\u001b[39;49m\u001b[39m\"\u001b[39;49m, storage_options\u001b[39m=\u001b[39;49mstorage_options, is_text\u001b[39m=\u001b[39;49m\u001b[39mFalse\u001b[39;49;00m\n\u001b[1;32m    <a href='file:///Users/yousufabdelfatah/opt/anaconda3/lib/python3.8/site-packages/pandas/io/feather_format.py?line=129'>130</a>\u001b[0m ) \u001b[39mas\u001b[39;00m handles:\n\u001b[1;32m    <a href='file:///Users/yousufabdelfatah/opt/anaconda3/lib/python3.8/site-packages/pandas/io/feather_format.py?line=131'>132</a>\u001b[0m     \u001b[39mreturn\u001b[39;00m feather\u001b[39m.\u001b[39mread_feather(\n\u001b[1;32m    <a href='file:///Users/yousufabdelfatah/opt/anaconda3/lib/python3.8/site-packages/pandas/io/feather_format.py?line=132'>133</a>\u001b[0m         handles\u001b[39m.\u001b[39mhandle, columns\u001b[39m=\u001b[39mcolumns, use_threads\u001b[39m=\u001b[39m\u001b[39mbool\u001b[39m(use_threads)\n\u001b[1;32m    <a href='file:///Users/yousufabdelfatah/opt/anaconda3/lib/python3.8/site-packages/pandas/io/feather_format.py?line=133'>134</a>\u001b[0m     )\n",
      "File \u001b[0;32m~/opt/anaconda3/lib/python3.8/site-packages/pandas/io/common.py:798\u001b[0m, in \u001b[0;36mget_handle\u001b[0;34m(path_or_buf, mode, encoding, compression, memory_map, is_text, errors, storage_options)\u001b[0m\n\u001b[1;32m    <a href='file:///Users/yousufabdelfatah/opt/anaconda3/lib/python3.8/site-packages/pandas/io/common.py?line=788'>789</a>\u001b[0m         handle \u001b[39m=\u001b[39m \u001b[39mopen\u001b[39m(\n\u001b[1;32m    <a href='file:///Users/yousufabdelfatah/opt/anaconda3/lib/python3.8/site-packages/pandas/io/common.py?line=789'>790</a>\u001b[0m             handle,\n\u001b[1;32m    <a href='file:///Users/yousufabdelfatah/opt/anaconda3/lib/python3.8/site-packages/pandas/io/common.py?line=790'>791</a>\u001b[0m             ioargs\u001b[39m.\u001b[39mmode,\n\u001b[0;32m   (...)\u001b[0m\n\u001b[1;32m    <a href='file:///Users/yousufabdelfatah/opt/anaconda3/lib/python3.8/site-packages/pandas/io/common.py?line=793'>794</a>\u001b[0m             newline\u001b[39m=\u001b[39m\u001b[39m\"\u001b[39m\u001b[39m\"\u001b[39m,\n\u001b[1;32m    <a href='file:///Users/yousufabdelfatah/opt/anaconda3/lib/python3.8/site-packages/pandas/io/common.py?line=794'>795</a>\u001b[0m         )\n\u001b[1;32m    <a href='file:///Users/yousufabdelfatah/opt/anaconda3/lib/python3.8/site-packages/pandas/io/common.py?line=795'>796</a>\u001b[0m     \u001b[39melse\u001b[39;00m:\n\u001b[1;32m    <a href='file:///Users/yousufabdelfatah/opt/anaconda3/lib/python3.8/site-packages/pandas/io/common.py?line=796'>797</a>\u001b[0m         \u001b[39m# Binary mode\u001b[39;00m\n\u001b[0;32m--> <a href='file:///Users/yousufabdelfatah/opt/anaconda3/lib/python3.8/site-packages/pandas/io/common.py?line=797'>798</a>\u001b[0m         handle \u001b[39m=\u001b[39m \u001b[39mopen\u001b[39;49m(handle, ioargs\u001b[39m.\u001b[39;49mmode)\n\u001b[1;32m    <a href='file:///Users/yousufabdelfatah/opt/anaconda3/lib/python3.8/site-packages/pandas/io/common.py?line=798'>799</a>\u001b[0m     handles\u001b[39m.\u001b[39mappend(handle)\n\u001b[1;32m    <a href='file:///Users/yousufabdelfatah/opt/anaconda3/lib/python3.8/site-packages/pandas/io/common.py?line=800'>801</a>\u001b[0m \u001b[39m# Convert BytesIO or file objects passed with an encoding\u001b[39;00m\n",
      "\u001b[0;31mFileNotFoundError\u001b[0m: [Errno 2] No such file or directory: '../../data/mtg.feather'"
     ]
    }
   ],
   "source": [
    "import pandas as pd\n",
    "(pd.read_feather('../../data/mtg.feather')# <-- will need to change for your notebook location\n",
    " .head()[['name','text', 'mana_cost', 'flavor_text','release_date', 'edhrec_rank']]  \n",
    ")"
   ]
  },
  {
   "cell_type": "markdown",
   "id": "ce2e06cf",
   "metadata": {},
   "source": [
    "But that's not all --- at the end of this homework, we will be able to run a `dvc repro` command and all of our main models and results will be made available for your _notebook_ to open and display. "
   ]
  },
  {
   "cell_type": "markdown",
   "id": "c2e5d788",
   "metadata": {},
   "source": [
    "### Submission Structure\n",
    "You will need to submit a pull-request on DagsHub with the following additions: \n",
    "\n",
    "- your subfolder, e.g. named with your user id, inside the `homework/hw2-goals-approaches/` folder\n",
    "    - your \"lab notebook\", as an **`.ipynb` or `.md`** (e.g. jupytext), that will be exported to PDF for Canvas submission. **This communicates your _goals_**, along with the results that will be compared to them. \n",
    "    - your **`dvc.yaml`** file that will define  the inputs and outputs of your _approaches_. See [the DVC documentation](https://dvc.org/doc/user-guide/project-structure/pipelines-files) for information!\n",
    "    - **source code** and **scripts** that define the preprocessing and prediction `Pipeline`'s you wish to create. You may then _print_ the content of those scripts at the end of your notebook e.g. as appendices using \n",
    "- any updates to `environment.yml` to add the dependencies you want to use for this homework\n"
   ]
  },
  {
   "cell_type": "markdown",
   "id": "f1bca163",
   "metadata": {},
   "source": [
    "## Part 1: Unsupervised Exploration\n",
    "\n",
    "Investigate the [BERTopic](https://maartengr.github.io/BERTopic/index.html) documentation (linked), and train a model using their library to create a topic model of the `flavor_text` data in the dataset above. \n",
    "\n",
    "- In a `topic_model.py`, load the data and train a bertopic model. You will `save` the model in that script as a new trained model object\n",
    "- add a \"topic-model\" stage to your `dvc.yaml` that has `mtg.feather` and `topic_model.py` as dependencies, and your trained model as an output\n",
    "- load the trained bertopic model into your notebook and display\n",
    "    1. the `topic_visualization` interactive plot [see docs](https://maartengr.github.io/BERTopic/api/plotting/topics.html)\n",
    "    2. Use the plot to come up with working \"names\" for each major topic, adjusting the _number_ of topics as necessary to make things more useful. \n",
    "    3. Once you have names, create a _Dynamic Topic Model_ by following [their documentation](https://maartengr.github.io/BERTopic/getting_started/topicsovertime/topicsovertime.html). Use the `release_date` column as timestamps. \n",
    "    4. Describe what you see, and any possible issues with the topic models BERTopic has created. **This is the hardest part... interpreting!**"
   ]
  },
  {
   "cell_type": "code",
   "execution_count": 1,
   "id": "f6aa7eb0",
   "metadata": {},
   "outputs": [
    {
     "name": "stderr",
     "output_type": "stream",
     "text": [
      "Batches: 100%|██████████| 927/927 [09:23<00:00,  1.64it/s]\n",
      "2022-04-27 12:22:17,326 - BERTopic - Transformed documents to Embeddings\n",
      "2022-04-27 12:22:39,030 - BERTopic - Reduced dimensionality with UMAP\n"
     ]
    },
    {
     "name": "stdout",
     "output_type": "stream",
     "text": [
      "huggingface/tokenizers: The current process just got forked, after parallelism has already been used. Disabling parallelism to avoid deadlocks...\n",
      "To disable this warning, you can either:\n",
      "\t- Avoid using `tokenizers` before the fork if possible\n",
      "\t- Explicitly set the environment variable TOKENIZERS_PARALLELISM=(true | false)\n",
      "huggingface/tokenizers: The current process just got forked, after parallelism has already been used. Disabling parallelism to avoid deadlocks...\n",
      "To disable this warning, you can either:\n",
      "\t- Avoid using `tokenizers` before the fork if possible\n",
      "\t- Explicitly set the environment variable TOKENIZERS_PARALLELISM=(true | false)\n",
      "huggingface/tokenizers: The current process just got forked, after parallelism has already been used. Disabling parallelism to avoid deadlocks...\n",
      "To disable this warning, you can either:\n",
      "\t- Avoid using `tokenizers` before the fork if possible\n",
      "\t- Explicitly set the environment variable TOKENIZERS_PARALLELISM=(true | false)\n",
      "huggingface/tokenizers: The current process just got forked, after parallelism has already been used. Disabling parallelism to avoid deadlocks...\n",
      "To disable this warning, you can either:\n",
      "\t- Avoid using `tokenizers` before the fork if possible\n",
      "\t- Explicitly set the environment variable TOKENIZERS_PARALLELISM=(true | false)\n",
      "huggingface/tokenizers: The current process just got forked, after parallelism has already been used. Disabling parallelism to avoid deadlocks...\n",
      "To disable this warning, you can either:\n",
      "\t- Avoid using `tokenizers` before the fork if possible\n",
      "\t- Explicitly set the environment variable TOKENIZERS_PARALLELISM=(true | false)\n"
     ]
    },
    {
     "name": "stderr",
     "output_type": "stream",
     "text": [
      "2022-04-27 12:22:44,351 - BERTopic - Clustered UMAP embeddings with HDBSCAN\n",
      "2022-04-27 12:23:43,919 - BERTopic - Reduced number of topics from 958 to 362\n",
      "2022-04-27 12:23:47,740 - BERTopic - Reduced number of topics from 362 to 21\n",
      "Batches: 100%|██████████| 927/927 [09:07<00:00,  1.69it/s]\n",
      "2022-04-27 12:32:57,600 - BERTopic - Transformed documents to Embeddings\n",
      "2022-04-27 12:33:09,326 - BERTopic - Reduced dimensionality with UMAP\n"
     ]
    },
    {
     "name": "stdout",
     "output_type": "stream",
     "text": [
      "huggingface/tokenizers: The current process just got forked, after parallelism has already been used. Disabling parallelism to avoid deadlocks...\n",
      "To disable this warning, you can either:\n",
      "\t- Avoid using `tokenizers` before the fork if possible\n",
      "\t- Explicitly set the environment variable TOKENIZERS_PARALLELISM=(true | false)\n",
      "huggingface/tokenizers: The current process just got forked, after parallelism has already been used. Disabling parallelism to avoid deadlocks...\n",
      "To disable this warning, you can either:\n",
      "\t- Avoid using `tokenizers` before the fork if possible\n",
      "\t- Explicitly set the environment variable TOKENIZERS_PARALLELISM=(true | false)\n",
      "huggingface/tokenizers: The current process just got forked, after parallelism has already been used. Disabling parallelism to avoid deadlocks...\n",
      "To disable this warning, you can either:\n",
      "\t- Avoid using `tokenizers` before the fork if possible\n",
      "\t- Explicitly set the environment variable TOKENIZERS_PARALLELISM=(true | false)\n",
      "huggingface/tokenizers: The current process just got forked, after parallelism has already been used. Disabling parallelism to avoid deadlocks...\n",
      "To disable this warning, you can either:\n",
      "\t- Avoid using `tokenizers` before the fork if possible\n",
      "\t- Explicitly set the environment variable TOKENIZERS_PARALLELISM=(true | false)\n"
     ]
    },
    {
     "name": "stderr",
     "output_type": "stream",
     "text": [
      "2022-04-27 12:33:13,475 - BERTopic - Clustered UMAP embeddings with HDBSCAN\n",
      "2022-04-27 12:33:58,475 - BERTopic - Reduced number of topics from 935 to 21\n",
      "/Users/yousufabdelfatah/opt/anaconda3/lib/python3.8/site-packages/scipy/sparse/_index.py:125: SparseEfficiencyWarning: Changing the sparsity structure of a csr_matrix is expensive. lil_matrix is more efficient.\n",
      "  self._set_arrayXarray(i, j, x)\n"
     ]
    }
   ],
   "source": [
    "from bertopic import BERTopic\n",
    "\n",
    "# load model and display \n",
    "topic_model = BERTopic.load(\"my_model\")\n",
    "\n",
    "# load topic model variables\n",
    "from topic_model import mtg as text\n",
    "from topic_model import topics as topics\n",
    "from topic_model import probs as probs"
   ]
  },
  {
   "cell_type": "code",
   "execution_count": 4,
   "id": "219f7704",
   "metadata": {},
   "outputs": [],
   "source": [
    "# load data\n",
    "mtg = pd.read_feather('../../../data/mtg.feather')"
   ]
  },
  {
   "cell_type": "code",
   "execution_count": 5,
   "id": "9be9d982",
   "metadata": {},
   "outputs": [
    {
     "data": {
      "application/vnd.plotly.v1+json": {
       "config": {
        "plotlyServerURL": "https://plot.ly"
       },
       "data": [
        {
         "marker": {
          "color": "#D55E00"
         },
         "orientation": "h",
         "type": "bar",
         "x": [
          0.029661856014080317,
          0.030454868164187368,
          0.034655543430729754,
          0.07710888440404978,
          0.08285261013845492
         ],
         "xaxis": "x",
         "y": [
          "sisay  ",
          "gerrard weatherlight  ",
          "hanna  ",
          "gerrard  ",
          "weatherlight  "
         ],
         "yaxis": "y"
        },
        {
         "marker": {
          "color": "#0072B2"
         },
         "orientation": "h",
         "type": "bar",
         "x": [
          0.04007573562178616,
          0.04069286563708582,
          0.04469387268363843,
          0.05368537945273297,
          0.06821864536025031
         ],
         "xaxis": "x2",
         "y": [
          "sarpadian empires  ",
          "sarpadian  ",
          "sarkhan  ",
          "empires  ",
          "vol  "
         ],
         "yaxis": "y2"
        },
        {
         "marker": {
          "color": "#CC79A7"
         },
         "orientation": "h",
         "type": "bar",
         "x": [
          0.04716818269819634,
          0.055922557439872074,
          0.06144117231127102,
          0.06157908091969405,
          0.0848594694459906
         ],
         "xaxis": "x3",
         "y": [
          "nalaar  ",
          "chandra  ",
          "beleren  ",
          "jace beleren  ",
          "jace  "
         ],
         "yaxis": "y3"
        },
        {
         "marker": {
          "color": "#E69F00"
         },
         "orientation": "h",
         "type": "bar",
         "x": [
          0.04239113276270398,
          0.06096447788809717,
          0.06096447788809717,
          0.06648966585657011,
          0.07502164191584645
         ],
         "xaxis": "x4",
         "y": [
          "civilization  ",
          "revane  ",
          "nissa revane  ",
          "nissa  ",
          "nature  "
         ],
         "yaxis": "y4"
        },
        {
         "marker": {
          "color": "#56B4E9"
         },
         "orientation": "h",
         "type": "bar",
         "x": [
          0.02882828149535609,
          0.031283363705531704,
          0.035851173514508665,
          0.03612593573912839,
          0.044161520415967
         ],
         "xaxis": "x5",
         "y": [
          "gate  ",
          "house  ",
          "expeditionary  ",
          "expeditionary house  ",
          "artificer  "
         ],
         "yaxis": "y5"
        },
        {
         "marker": {
          "color": "#009E73"
         },
         "orientation": "h",
         "type": "bar",
         "x": [
          0.027914983833081445,
          0.030364766315187763,
          0.03214359788892102,
          0.048261782467479974,
          0.05562785439109529
         ],
         "xaxis": "x6",
         "y": [
          "lord leaves  ",
          "eladamri  ",
          "rats  ",
          "slivers  ",
          "volrath  "
         ],
         "yaxis": "y6"
        },
        {
         "marker": {
          "color": "#F0E442"
         },
         "orientation": "h",
         "type": "bar",
         "x": [
          0.026505443139425926,
          0.03094614859082779,
          0.036609660449908696,
          0.04246041042285711,
          0.1002164049323953
         ],
         "xaxis": "x7",
         "y": [
          "law  ",
          "kami war  ",
          "war  ",
          "kamigawa  ",
          "kami  "
         ],
         "yaxis": "y7"
        },
        {
         "marker": {
          "color": "#D55E00"
         },
         "orientation": "h",
         "type": "bar",
         "x": [
          0.02613803108979074,
          0.02778839025265562,
          0.03040705370041629,
          0.04474433808308234,
          0.07013679338616483
         ],
         "xaxis": "x8",
         "y": [
          "dromoka warrior  ",
          "kiora  ",
          "river  ",
          "dromoka  ",
          "blood  "
         ],
         "yaxis": "y8"
        }
       ],
       "layout": {
        "annotations": [
         {
          "font": {
           "size": 16
          },
          "showarrow": false,
          "text": "Topic 0",
          "x": 0.0875,
          "xanchor": "center",
          "xref": "paper",
          "y": 1,
          "yanchor": "bottom",
          "yref": "paper"
         },
         {
          "font": {
           "size": 16
          },
          "showarrow": false,
          "text": "Topic 1",
          "x": 0.36250000000000004,
          "xanchor": "center",
          "xref": "paper",
          "y": 1,
          "yanchor": "bottom",
          "yref": "paper"
         },
         {
          "font": {
           "size": 16
          },
          "showarrow": false,
          "text": "Topic 2",
          "x": 0.6375000000000001,
          "xanchor": "center",
          "xref": "paper",
          "y": 1,
          "yanchor": "bottom",
          "yref": "paper"
         },
         {
          "font": {
           "size": 16
          },
          "showarrow": false,
          "text": "Topic 3",
          "x": 0.9125,
          "xanchor": "center",
          "xref": "paper",
          "y": 1,
          "yanchor": "bottom",
          "yref": "paper"
         },
         {
          "font": {
           "size": 16
          },
          "showarrow": false,
          "text": "Topic 4",
          "x": 0.0875,
          "xanchor": "center",
          "xref": "paper",
          "y": 0.4,
          "yanchor": "bottom",
          "yref": "paper"
         },
         {
          "font": {
           "size": 16
          },
          "showarrow": false,
          "text": "Topic 5",
          "x": 0.36250000000000004,
          "xanchor": "center",
          "xref": "paper",
          "y": 0.4,
          "yanchor": "bottom",
          "yref": "paper"
         },
         {
          "font": {
           "size": 16
          },
          "showarrow": false,
          "text": "Topic 6",
          "x": 0.6375000000000001,
          "xanchor": "center",
          "xref": "paper",
          "y": 0.4,
          "yanchor": "bottom",
          "yref": "paper"
         },
         {
          "font": {
           "size": 16
          },
          "showarrow": false,
          "text": "Topic 7",
          "x": 0.9125,
          "xanchor": "center",
          "xref": "paper",
          "y": 0.4,
          "yanchor": "bottom",
          "yref": "paper"
         }
        ],
        "height": 500,
        "hoverlabel": {
         "bgcolor": "white",
         "font": {
          "family": "Rockwell",
          "size": 16
         }
        },
        "showlegend": false,
        "template": {
         "data": {
          "bar": [
           {
            "error_x": {
             "color": "#2a3f5f"
            },
            "error_y": {
             "color": "#2a3f5f"
            },
            "marker": {
             "line": {
              "color": "white",
              "width": 0.5
             },
             "pattern": {
              "fillmode": "overlay",
              "size": 10,
              "solidity": 0.2
             }
            },
            "type": "bar"
           }
          ],
          "barpolar": [
           {
            "marker": {
             "line": {
              "color": "white",
              "width": 0.5
             },
             "pattern": {
              "fillmode": "overlay",
              "size": 10,
              "solidity": 0.2
             }
            },
            "type": "barpolar"
           }
          ],
          "carpet": [
           {
            "aaxis": {
             "endlinecolor": "#2a3f5f",
             "gridcolor": "#C8D4E3",
             "linecolor": "#C8D4E3",
             "minorgridcolor": "#C8D4E3",
             "startlinecolor": "#2a3f5f"
            },
            "baxis": {
             "endlinecolor": "#2a3f5f",
             "gridcolor": "#C8D4E3",
             "linecolor": "#C8D4E3",
             "minorgridcolor": "#C8D4E3",
             "startlinecolor": "#2a3f5f"
            },
            "type": "carpet"
           }
          ],
          "choropleth": [
           {
            "colorbar": {
             "outlinewidth": 0,
             "ticks": ""
            },
            "type": "choropleth"
           }
          ],
          "contour": [
           {
            "colorbar": {
             "outlinewidth": 0,
             "ticks": ""
            },
            "colorscale": [
             [
              0,
              "#0d0887"
             ],
             [
              0.1111111111111111,
              "#46039f"
             ],
             [
              0.2222222222222222,
              "#7201a8"
             ],
             [
              0.3333333333333333,
              "#9c179e"
             ],
             [
              0.4444444444444444,
              "#bd3786"
             ],
             [
              0.5555555555555556,
              "#d8576b"
             ],
             [
              0.6666666666666666,
              "#ed7953"
             ],
             [
              0.7777777777777778,
              "#fb9f3a"
             ],
             [
              0.8888888888888888,
              "#fdca26"
             ],
             [
              1,
              "#f0f921"
             ]
            ],
            "type": "contour"
           }
          ],
          "contourcarpet": [
           {
            "colorbar": {
             "outlinewidth": 0,
             "ticks": ""
            },
            "type": "contourcarpet"
           }
          ],
          "heatmap": [
           {
            "colorbar": {
             "outlinewidth": 0,
             "ticks": ""
            },
            "colorscale": [
             [
              0,
              "#0d0887"
             ],
             [
              0.1111111111111111,
              "#46039f"
             ],
             [
              0.2222222222222222,
              "#7201a8"
             ],
             [
              0.3333333333333333,
              "#9c179e"
             ],
             [
              0.4444444444444444,
              "#bd3786"
             ],
             [
              0.5555555555555556,
              "#d8576b"
             ],
             [
              0.6666666666666666,
              "#ed7953"
             ],
             [
              0.7777777777777778,
              "#fb9f3a"
             ],
             [
              0.8888888888888888,
              "#fdca26"
             ],
             [
              1,
              "#f0f921"
             ]
            ],
            "type": "heatmap"
           }
          ],
          "heatmapgl": [
           {
            "colorbar": {
             "outlinewidth": 0,
             "ticks": ""
            },
            "colorscale": [
             [
              0,
              "#0d0887"
             ],
             [
              0.1111111111111111,
              "#46039f"
             ],
             [
              0.2222222222222222,
              "#7201a8"
             ],
             [
              0.3333333333333333,
              "#9c179e"
             ],
             [
              0.4444444444444444,
              "#bd3786"
             ],
             [
              0.5555555555555556,
              "#d8576b"
             ],
             [
              0.6666666666666666,
              "#ed7953"
             ],
             [
              0.7777777777777778,
              "#fb9f3a"
             ],
             [
              0.8888888888888888,
              "#fdca26"
             ],
             [
              1,
              "#f0f921"
             ]
            ],
            "type": "heatmapgl"
           }
          ],
          "histogram": [
           {
            "marker": {
             "pattern": {
              "fillmode": "overlay",
              "size": 10,
              "solidity": 0.2
             }
            },
            "type": "histogram"
           }
          ],
          "histogram2d": [
           {
            "colorbar": {
             "outlinewidth": 0,
             "ticks": ""
            },
            "colorscale": [
             [
              0,
              "#0d0887"
             ],
             [
              0.1111111111111111,
              "#46039f"
             ],
             [
              0.2222222222222222,
              "#7201a8"
             ],
             [
              0.3333333333333333,
              "#9c179e"
             ],
             [
              0.4444444444444444,
              "#bd3786"
             ],
             [
              0.5555555555555556,
              "#d8576b"
             ],
             [
              0.6666666666666666,
              "#ed7953"
             ],
             [
              0.7777777777777778,
              "#fb9f3a"
             ],
             [
              0.8888888888888888,
              "#fdca26"
             ],
             [
              1,
              "#f0f921"
             ]
            ],
            "type": "histogram2d"
           }
          ],
          "histogram2dcontour": [
           {
            "colorbar": {
             "outlinewidth": 0,
             "ticks": ""
            },
            "colorscale": [
             [
              0,
              "#0d0887"
             ],
             [
              0.1111111111111111,
              "#46039f"
             ],
             [
              0.2222222222222222,
              "#7201a8"
             ],
             [
              0.3333333333333333,
              "#9c179e"
             ],
             [
              0.4444444444444444,
              "#bd3786"
             ],
             [
              0.5555555555555556,
              "#d8576b"
             ],
             [
              0.6666666666666666,
              "#ed7953"
             ],
             [
              0.7777777777777778,
              "#fb9f3a"
             ],
             [
              0.8888888888888888,
              "#fdca26"
             ],
             [
              1,
              "#f0f921"
             ]
            ],
            "type": "histogram2dcontour"
           }
          ],
          "mesh3d": [
           {
            "colorbar": {
             "outlinewidth": 0,
             "ticks": ""
            },
            "type": "mesh3d"
           }
          ],
          "parcoords": [
           {
            "line": {
             "colorbar": {
              "outlinewidth": 0,
              "ticks": ""
             }
            },
            "type": "parcoords"
           }
          ],
          "pie": [
           {
            "automargin": true,
            "type": "pie"
           }
          ],
          "scatter": [
           {
            "fillpattern": {
             "fillmode": "overlay",
             "size": 10,
             "solidity": 0.2
            },
            "type": "scatter"
           }
          ],
          "scatter3d": [
           {
            "line": {
             "colorbar": {
              "outlinewidth": 0,
              "ticks": ""
             }
            },
            "marker": {
             "colorbar": {
              "outlinewidth": 0,
              "ticks": ""
             }
            },
            "type": "scatter3d"
           }
          ],
          "scattercarpet": [
           {
            "marker": {
             "colorbar": {
              "outlinewidth": 0,
              "ticks": ""
             }
            },
            "type": "scattercarpet"
           }
          ],
          "scattergeo": [
           {
            "marker": {
             "colorbar": {
              "outlinewidth": 0,
              "ticks": ""
             }
            },
            "type": "scattergeo"
           }
          ],
          "scattergl": [
           {
            "marker": {
             "colorbar": {
              "outlinewidth": 0,
              "ticks": ""
             }
            },
            "type": "scattergl"
           }
          ],
          "scattermapbox": [
           {
            "marker": {
             "colorbar": {
              "outlinewidth": 0,
              "ticks": ""
             }
            },
            "type": "scattermapbox"
           }
          ],
          "scatterpolar": [
           {
            "marker": {
             "colorbar": {
              "outlinewidth": 0,
              "ticks": ""
             }
            },
            "type": "scatterpolar"
           }
          ],
          "scatterpolargl": [
           {
            "marker": {
             "colorbar": {
              "outlinewidth": 0,
              "ticks": ""
             }
            },
            "type": "scatterpolargl"
           }
          ],
          "scatterternary": [
           {
            "marker": {
             "colorbar": {
              "outlinewidth": 0,
              "ticks": ""
             }
            },
            "type": "scatterternary"
           }
          ],
          "surface": [
           {
            "colorbar": {
             "outlinewidth": 0,
             "ticks": ""
            },
            "colorscale": [
             [
              0,
              "#0d0887"
             ],
             [
              0.1111111111111111,
              "#46039f"
             ],
             [
              0.2222222222222222,
              "#7201a8"
             ],
             [
              0.3333333333333333,
              "#9c179e"
             ],
             [
              0.4444444444444444,
              "#bd3786"
             ],
             [
              0.5555555555555556,
              "#d8576b"
             ],
             [
              0.6666666666666666,
              "#ed7953"
             ],
             [
              0.7777777777777778,
              "#fb9f3a"
             ],
             [
              0.8888888888888888,
              "#fdca26"
             ],
             [
              1,
              "#f0f921"
             ]
            ],
            "type": "surface"
           }
          ],
          "table": [
           {
            "cells": {
             "fill": {
              "color": "#EBF0F8"
             },
             "line": {
              "color": "white"
             }
            },
            "header": {
             "fill": {
              "color": "#C8D4E3"
             },
             "line": {
              "color": "white"
             }
            },
            "type": "table"
           }
          ]
         },
         "layout": {
          "annotationdefaults": {
           "arrowcolor": "#2a3f5f",
           "arrowhead": 0,
           "arrowwidth": 1
          },
          "autotypenumbers": "strict",
          "coloraxis": {
           "colorbar": {
            "outlinewidth": 0,
            "ticks": ""
           }
          },
          "colorscale": {
           "diverging": [
            [
             0,
             "#8e0152"
            ],
            [
             0.1,
             "#c51b7d"
            ],
            [
             0.2,
             "#de77ae"
            ],
            [
             0.3,
             "#f1b6da"
            ],
            [
             0.4,
             "#fde0ef"
            ],
            [
             0.5,
             "#f7f7f7"
            ],
            [
             0.6,
             "#e6f5d0"
            ],
            [
             0.7,
             "#b8e186"
            ],
            [
             0.8,
             "#7fbc41"
            ],
            [
             0.9,
             "#4d9221"
            ],
            [
             1,
             "#276419"
            ]
           ],
           "sequential": [
            [
             0,
             "#0d0887"
            ],
            [
             0.1111111111111111,
             "#46039f"
            ],
            [
             0.2222222222222222,
             "#7201a8"
            ],
            [
             0.3333333333333333,
             "#9c179e"
            ],
            [
             0.4444444444444444,
             "#bd3786"
            ],
            [
             0.5555555555555556,
             "#d8576b"
            ],
            [
             0.6666666666666666,
             "#ed7953"
            ],
            [
             0.7777777777777778,
             "#fb9f3a"
            ],
            [
             0.8888888888888888,
             "#fdca26"
            ],
            [
             1,
             "#f0f921"
            ]
           ],
           "sequentialminus": [
            [
             0,
             "#0d0887"
            ],
            [
             0.1111111111111111,
             "#46039f"
            ],
            [
             0.2222222222222222,
             "#7201a8"
            ],
            [
             0.3333333333333333,
             "#9c179e"
            ],
            [
             0.4444444444444444,
             "#bd3786"
            ],
            [
             0.5555555555555556,
             "#d8576b"
            ],
            [
             0.6666666666666666,
             "#ed7953"
            ],
            [
             0.7777777777777778,
             "#fb9f3a"
            ],
            [
             0.8888888888888888,
             "#fdca26"
            ],
            [
             1,
             "#f0f921"
            ]
           ]
          },
          "colorway": [
           "#636efa",
           "#EF553B",
           "#00cc96",
           "#ab63fa",
           "#FFA15A",
           "#19d3f3",
           "#FF6692",
           "#B6E880",
           "#FF97FF",
           "#FECB52"
          ],
          "font": {
           "color": "#2a3f5f"
          },
          "geo": {
           "bgcolor": "white",
           "lakecolor": "white",
           "landcolor": "white",
           "showlakes": true,
           "showland": true,
           "subunitcolor": "#C8D4E3"
          },
          "hoverlabel": {
           "align": "left"
          },
          "hovermode": "closest",
          "mapbox": {
           "style": "light"
          },
          "paper_bgcolor": "white",
          "plot_bgcolor": "white",
          "polar": {
           "angularaxis": {
            "gridcolor": "#EBF0F8",
            "linecolor": "#EBF0F8",
            "ticks": ""
           },
           "bgcolor": "white",
           "radialaxis": {
            "gridcolor": "#EBF0F8",
            "linecolor": "#EBF0F8",
            "ticks": ""
           }
          },
          "scene": {
           "xaxis": {
            "backgroundcolor": "white",
            "gridcolor": "#DFE8F3",
            "gridwidth": 2,
            "linecolor": "#EBF0F8",
            "showbackground": true,
            "ticks": "",
            "zerolinecolor": "#EBF0F8"
           },
           "yaxis": {
            "backgroundcolor": "white",
            "gridcolor": "#DFE8F3",
            "gridwidth": 2,
            "linecolor": "#EBF0F8",
            "showbackground": true,
            "ticks": "",
            "zerolinecolor": "#EBF0F8"
           },
           "zaxis": {
            "backgroundcolor": "white",
            "gridcolor": "#DFE8F3",
            "gridwidth": 2,
            "linecolor": "#EBF0F8",
            "showbackground": true,
            "ticks": "",
            "zerolinecolor": "#EBF0F8"
           }
          },
          "shapedefaults": {
           "line": {
            "color": "#2a3f5f"
           }
          },
          "ternary": {
           "aaxis": {
            "gridcolor": "#DFE8F3",
            "linecolor": "#A2B1C6",
            "ticks": ""
           },
           "baxis": {
            "gridcolor": "#DFE8F3",
            "linecolor": "#A2B1C6",
            "ticks": ""
           },
           "bgcolor": "white",
           "caxis": {
            "gridcolor": "#DFE8F3",
            "linecolor": "#A2B1C6",
            "ticks": ""
           }
          },
          "title": {
           "x": 0.05
          },
          "xaxis": {
           "automargin": true,
           "gridcolor": "#EBF0F8",
           "linecolor": "#EBF0F8",
           "ticks": "",
           "title": {
            "standoff": 15
           },
           "zerolinecolor": "#EBF0F8",
           "zerolinewidth": 2
          },
          "yaxis": {
           "automargin": true,
           "gridcolor": "#EBF0F8",
           "linecolor": "#EBF0F8",
           "ticks": "",
           "title": {
            "standoff": 15
           },
           "zerolinecolor": "#EBF0F8",
           "zerolinewidth": 2
          }
         }
        },
        "title": {
         "font": {
          "color": "Black",
          "size": 22
         },
         "text": "<b>Topic Word Scores",
         "x": 0.5,
         "xanchor": "center",
         "yanchor": "top"
        },
        "width": 1000,
        "xaxis": {
         "anchor": "y",
         "domain": [
          0,
          0.175
         ],
         "showgrid": true
        },
        "xaxis2": {
         "anchor": "y2",
         "domain": [
          0.275,
          0.45
         ],
         "showgrid": true
        },
        "xaxis3": {
         "anchor": "y3",
         "domain": [
          0.55,
          0.7250000000000001
         ],
         "showgrid": true
        },
        "xaxis4": {
         "anchor": "y4",
         "domain": [
          0.825,
          1
         ],
         "showgrid": true
        },
        "xaxis5": {
         "anchor": "y5",
         "domain": [
          0,
          0.175
         ],
         "showgrid": true
        },
        "xaxis6": {
         "anchor": "y6",
         "domain": [
          0.275,
          0.45
         ],
         "showgrid": true
        },
        "xaxis7": {
         "anchor": "y7",
         "domain": [
          0.55,
          0.7250000000000001
         ],
         "showgrid": true
        },
        "xaxis8": {
         "anchor": "y8",
         "domain": [
          0.825,
          1
         ],
         "showgrid": true
        },
        "yaxis": {
         "anchor": "x",
         "domain": [
          0.6000000000000001,
          1
         ],
         "showgrid": true
        },
        "yaxis2": {
         "anchor": "x2",
         "domain": [
          0.6000000000000001,
          1
         ],
         "showgrid": true
        },
        "yaxis3": {
         "anchor": "x3",
         "domain": [
          0.6000000000000001,
          1
         ],
         "showgrid": true
        },
        "yaxis4": {
         "anchor": "x4",
         "domain": [
          0.6000000000000001,
          1
         ],
         "showgrid": true
        },
        "yaxis5": {
         "anchor": "x5",
         "domain": [
          0,
          0.4
         ],
         "showgrid": true
        },
        "yaxis6": {
         "anchor": "x6",
         "domain": [
          0,
          0.4
         ],
         "showgrid": true
        },
        "yaxis7": {
         "anchor": "x7",
         "domain": [
          0,
          0.4
         ],
         "showgrid": true
        },
        "yaxis8": {
         "anchor": "x8",
         "domain": [
          0,
          0.4
         ],
         "showgrid": true
        }
       }
      }
     },
     "metadata": {},
     "output_type": "display_data"
    }
   ],
   "source": [
    "topic_model.visualize_barchart()"
   ]
  },
  {
   "cell_type": "code",
   "execution_count": 6,
   "id": "1c45c470",
   "metadata": {},
   "outputs": [
    {
     "data": {
      "application/vnd.plotly.v1+json": {
       "config": {
        "plotlyServerURL": "https://plot.ly"
       },
       "data": [
        {
         "coloraxis": "coloraxis",
         "hovertemplate": "x: %{x}<br>y: %{y}<br>Similarity Score: %{z}<extra></extra>",
         "name": "0",
         "type": "heatmap",
         "x": [
          "-1_death_life_like",
          "0_weatherlight_gerrard_hanna",
          "1_vol_empires_sarkhan",
          "2_jace_jace beleren_beleren",
          "3_nature_nissa_nissa revane",
          "4_artificer_expeditionary h...",
          "5_volrath_slivers_rats",
          "6_kami_kamigawa_war",
          "7_blood_dromoka_river",
          "8_angels_angel_sleep",
          "9_lightning_thunder_storm",
          "10_price_marosorcerer_pay",
          "11_giants_shakespeare_willi...",
          "12_avacyn_avenger_holy",
          "13_goblins_goblin_military",
          "14_elves_naya_fox",
          "15_golgari_treasure_baby",
          "16_dragons_dragon_tarkir",
          "17_wildspeaker_garruk wilds...",
          "18_urza_golem_silver",
          "19_wind_bloom_essence"
         ],
         "xaxis": "x",
         "y": [
          "-1_death_life_like",
          "0_weatherlight_gerrard_hanna",
          "1_vol_empires_sarkhan",
          "2_jace_jace beleren_beleren",
          "3_nature_nissa_nissa revane",
          "4_artificer_expeditionary h...",
          "5_volrath_slivers_rats",
          "6_kami_kamigawa_war",
          "7_blood_dromoka_river",
          "8_angels_angel_sleep",
          "9_lightning_thunder_storm",
          "10_price_marosorcerer_pay",
          "11_giants_shakespeare_willi...",
          "12_avacyn_avenger_holy",
          "13_goblins_goblin_military",
          "14_elves_naya_fox",
          "15_golgari_treasure_baby",
          "16_dragons_dragon_tarkir",
          "17_wildspeaker_garruk wilds...",
          "18_urza_golem_silver",
          "19_wind_bloom_essence"
         ],
         "yaxis": "y",
         "z": [
          [
           0.9999999999999998,
           0.49645209007469127,
           0.5548016020920079,
           0.5217674874803986,
           0.620803954427174,
           0.5758538556702808,
           0.6304779524480308,
           0.5545693705433334,
           0.5847404590671033,
           0.6776980254501542,
           0.656731425784129,
           0.6458659697015833,
           0.5577132419121826,
           0.5528792606932627,
           0.47119803166917346,
           0.4834388437639371,
           0.5391059786934951,
           0.5637083644247157,
           0.5038752751817109,
           0.5588004730892359,
           0.590571303268144
          ],
          [
           0.49645209007469127,
           0.9999999999999999,
           0.516497622473402,
           0.573274800822896,
           0.5601133315765383,
           0.5152492129155795,
           0.611339938788398,
           0.5725169417677671,
           0.5567381321745506,
           0.5278837704817757,
           0.619194172757497,
           0.5229221254279103,
           0.5958785387718739,
           0.4957110453716316,
           0.317963843396592,
           0.5184452873474812,
           0.48421844569946526,
           0.5097296841811775,
           0.5837795807901736,
           0.5130068191697461,
           0.5224307050898249
          ],
          [
           0.5548016020920079,
           0.516497622473402,
           1.0000000000000002,
           0.6166800183774476,
           0.6483369376429979,
           0.6663878854404718,
           0.6658381668254189,
           0.6246516456671786,
           0.649564907161639,
           0.5378233937978667,
           0.5746605286643229,
           0.596449847145972,
           0.6369920047542715,
           0.5815890513105149,
           0.5092185747328024,
           0.6082079642030098,
           0.5773088548891389,
           0.5546612781642717,
           0.5104876111873071,
           0.5861338178760681,
           0.5473338674889275
          ],
          [
           0.5217674874803986,
           0.573274800822896,
           0.6166800183774476,
           1.0000000000000004,
           0.6854456924286475,
           0.6389834937927361,
           0.6269026802650415,
           0.6176129143029817,
           0.6699774426936228,
           0.5523432558358444,
           0.552853438453584,
           0.5900848004421724,
           0.6311688722374809,
           0.657702291355642,
           0.3945076585110235,
           0.5135562390905801,
           0.62839769531487,
           0.5056474992461631,
           0.6184632638566763,
           0.5741347035692663,
           0.5168309269536794
          ],
          [
           0.620803954427174,
           0.5601133315765383,
           0.6483369376429979,
           0.6854456924286475,
           0.9999999999999997,
           0.631414295826735,
           0.6891985276945144,
           0.5438505104675034,
           0.6793728176529266,
           0.6034210895044866,
           0.6305696439551506,
           0.6391374490919768,
           0.6453016857017652,
           0.6452143985415087,
           0.5354649277102292,
           0.6279990232381065,
           0.6549428807191469,
           0.6093386775134645,
           0.6354476690288607,
           0.6361688057589229,
           0.655420208614578
          ],
          [
           0.5758538556702808,
           0.5152492129155795,
           0.6663878854404718,
           0.6389834937927361,
           0.631414295826735,
           0.9999999999999999,
           0.6219335869736857,
           0.58858051827668,
           0.6887900522750551,
           0.5507788163227524,
           0.5601457881663777,
           0.6422060768136872,
           0.6165953325922731,
           0.6301018108304045,
           0.5021828534030373,
           0.5599050473054454,
           0.5936392727961007,
           0.5303686812557099,
           0.6189923223145117,
           0.6155439284857317,
           0.5357536663809173
          ],
          [
           0.6304779524480308,
           0.611339938788398,
           0.6658381668254189,
           0.6269026802650415,
           0.6891985276945144,
           0.6219335869736857,
           1.0000000000000004,
           0.5684061598564354,
           0.6668801033202151,
           0.6371252650683964,
           0.6669576195584852,
           0.6366276230699671,
           0.6920884373007686,
           0.6302787661282282,
           0.5261041301448183,
           0.6540664879391869,
           0.6607043797286184,
           0.5964920660056015,
           0.636976891621503,
           0.585767770891686,
           0.6126930818779306
          ],
          [
           0.5545693705433334,
           0.5725169417677671,
           0.6246516456671786,
           0.6176129143029817,
           0.5438505104675034,
           0.58858051827668,
           0.5684061598564354,
           0.9999999999999997,
           0.6219043092471868,
           0.5335532279610431,
           0.5673957627924945,
           0.5234732860422313,
           0.5503246001631059,
           0.5299697415320506,
           0.34335466649049456,
           0.4544648034605866,
           0.4963402311120738,
           0.5735006723891005,
           0.4929917073462231,
           0.508003762588468,
           0.48281947873702963
          ],
          [
           0.5847404590671033,
           0.5567381321745506,
           0.649564907161639,
           0.6699774426936228,
           0.6793728176529266,
           0.6887900522750551,
           0.6668801033202151,
           0.6219043092471868,
           1,
           0.5974278791384889,
           0.6227960079162029,
           0.643147779620843,
           0.6501259860489313,
           0.6494916891167888,
           0.4975462974330877,
           0.6332789156630921,
           0.6826849667998093,
           0.5776447590774911,
           0.6143308221393516,
           0.6677939218683916,
           0.5585060291280526
          ],
          [
           0.6776980254501542,
           0.5278837704817757,
           0.5378233937978667,
           0.5523432558358444,
           0.6034210895044866,
           0.5507788163227524,
           0.6371252650683964,
           0.5335532279610431,
           0.5974278791384889,
           0.9999999999999998,
           0.6805363132718064,
           0.5821033022786677,
           0.5641534741362578,
           0.6461958548921594,
           0.4499567918472809,
           0.5582480414712939,
           0.5605875948854526,
           0.5794794142588049,
           0.5214977248475813,
           0.5184429660779823,
           0.6336967157193523
          ],
          [
           0.656731425784129,
           0.619194172757497,
           0.5746605286643229,
           0.552853438453584,
           0.6305696439551506,
           0.5601457881663777,
           0.6669576195584852,
           0.5673957627924945,
           0.6227960079162029,
           0.6805363132718064,
           1,
           0.592515030119587,
           0.6105264665524085,
           0.5971059612381464,
           0.48610194452608874,
           0.5629602498383653,
           0.5370855638592398,
           0.5893720673733439,
           0.5705850809458233,
           0.5603244706527508,
           0.6415613409104213
          ],
          [
           0.6458659697015833,
           0.5229221254279103,
           0.596449847145972,
           0.5900848004421724,
           0.6391374490919768,
           0.6422060768136872,
           0.6366276230699671,
           0.5234732860422313,
           0.643147779620843,
           0.5821033022786677,
           0.592515030119587,
           0.9999999999999997,
           0.6182386996176804,
           0.5942357546995807,
           0.4665073131829435,
           0.48487076316703187,
           0.617705865812687,
           0.49176847700436777,
           0.5748253522717643,
           0.6277648081079116,
           0.5705921568250796
          ],
          [
           0.5577132419121826,
           0.5958785387718739,
           0.6369920047542715,
           0.6311688722374809,
           0.6453016857017652,
           0.6165953325922731,
           0.6920884373007686,
           0.5503246001631059,
           0.6501259860489313,
           0.5641534741362578,
           0.6105264665524085,
           0.6182386996176804,
           1.0000000000000002,
           0.6081925723574004,
           0.43871213775845375,
           0.6183531170017043,
           0.5969263294394404,
           0.5820586265055039,
           0.5973052870881144,
           0.588896789337028,
           0.5403264812041705
          ],
          [
           0.5528792606932627,
           0.4957110453716316,
           0.5815890513105149,
           0.657702291355642,
           0.6452143985415087,
           0.6301018108304045,
           0.6302787661282282,
           0.5299697415320506,
           0.6494916891167888,
           0.6461958548921594,
           0.5971059612381464,
           0.5942357546995807,
           0.6081925723574004,
           1.0000000000000002,
           0.4931595959897462,
           0.5606193605942983,
           0.5639693518344763,
           0.5611453121460059,
           0.6269359959027522,
           0.6616010232854618,
           0.5360232737339602
          ],
          [
           0.47119803166917346,
           0.317963843396592,
           0.5092185747328024,
           0.3945076585110235,
           0.5354649277102292,
           0.5021828534030373,
           0.5261041301448183,
           0.34335466649049456,
           0.4975462974330877,
           0.4499567918472809,
           0.48610194452608874,
           0.4665073131829435,
           0.43871213775845375,
           0.4931595959897462,
           1.0000000000000002,
           0.5844814958039585,
           0.4123456376634504,
           0.6144390526184306,
           0.4477297287229684,
           0.5402094405377234,
           0.3836934953656913
          ],
          [
           0.4834388437639371,
           0.5184452873474812,
           0.6082079642030098,
           0.5135562390905801,
           0.6279990232381065,
           0.5599050473054454,
           0.6540664879391869,
           0.4544648034605866,
           0.6332789156630921,
           0.5582480414712939,
           0.5629602498383653,
           0.48487076316703187,
           0.6183531170017043,
           0.5606193605942983,
           0.5844814958039585,
           0.9999999999999999,
           0.542512849757482,
           0.5476332194862249,
           0.5721543131146787,
           0.48223996438329175,
           0.5017640681320884
          ],
          [
           0.5391059786934951,
           0.48421844569946526,
           0.5773088548891389,
           0.62839769531487,
           0.6549428807191469,
           0.5936392727961007,
           0.6607043797286184,
           0.4963402311120738,
           0.6826849667998093,
           0.5605875948854526,
           0.5370855638592398,
           0.617705865812687,
           0.5969263294394404,
           0.5639693518344763,
           0.4123456376634504,
           0.542512849757482,
           0.9999999999999999,
           0.4762835753709458,
           0.61998365237076,
           0.6416608902525205,
           0.5484802890147433
          ],
          [
           0.5637083644247157,
           0.5097296841811775,
           0.5546612781642717,
           0.5056474992461631,
           0.6093386775134645,
           0.5303686812557099,
           0.5964920660056015,
           0.5735006723891005,
           0.5776447590774911,
           0.5794794142588049,
           0.5893720673733439,
           0.49176847700436777,
           0.5820586265055039,
           0.5611453121460059,
           0.6144390526184306,
           0.5476332194862249,
           0.4762835753709458,
           1,
           0.5322955658952042,
           0.5467617425615073,
           0.44296812794691065
          ],
          [
           0.5038752751817109,
           0.5837795807901736,
           0.5104876111873071,
           0.6184632638566763,
           0.6354476690288607,
           0.6189923223145117,
           0.636976891621503,
           0.4929917073462231,
           0.6143308221393516,
           0.5214977248475813,
           0.5705850809458233,
           0.5748253522717643,
           0.5973052870881144,
           0.6269359959027522,
           0.4477297287229684,
           0.5721543131146787,
           0.61998365237076,
           0.5322955658952042,
           1.0000000000000002,
           0.550372368503645,
           0.5152201915259438
          ],
          [
           0.5588004730892359,
           0.5130068191697461,
           0.5861338178760681,
           0.5741347035692663,
           0.6361688057589229,
           0.6155439284857317,
           0.585767770891686,
           0.508003762588468,
           0.6677939218683916,
           0.5184429660779823,
           0.5603244706527508,
           0.6277648081079116,
           0.588896789337028,
           0.6616010232854618,
           0.5402094405377234,
           0.48223996438329175,
           0.6416608902525205,
           0.5467617425615073,
           0.550372368503645,
           0.9999999999999997,
           0.5194155044413642
          ],
          [
           0.590571303268144,
           0.5224307050898249,
           0.5473338674889275,
           0.5168309269536794,
           0.655420208614578,
           0.5357536663809173,
           0.6126930818779306,
           0.48281947873702963,
           0.5585060291280526,
           0.6336967157193523,
           0.6415613409104213,
           0.5705921568250796,
           0.5403264812041705,
           0.5360232737339602,
           0.3836934953656913,
           0.5017640681320884,
           0.5484802890147433,
           0.44296812794691065,
           0.5152201915259438,
           0.5194155044413642,
           0.9999999999999998
          ]
         ]
        }
       ],
       "layout": {
        "coloraxis": {
         "colorbar": {
          "title": {
           "text": "Similarity Score"
          }
         },
         "colorscale": [
          [
           0,
           "rgb(247,252,240)"
          ],
          [
           0.125,
           "rgb(224,243,219)"
          ],
          [
           0.25,
           "rgb(204,235,197)"
          ],
          [
           0.375,
           "rgb(168,221,181)"
          ],
          [
           0.5,
           "rgb(123,204,196)"
          ],
          [
           0.625,
           "rgb(78,179,211)"
          ],
          [
           0.75,
           "rgb(43,140,190)"
          ],
          [
           0.875,
           "rgb(8,104,172)"
          ],
          [
           1,
           "rgb(8,64,129)"
          ]
         ]
        },
        "height": 800,
        "hoverlabel": {
         "bgcolor": "white",
         "font": {
          "family": "Rockwell",
          "size": 16
         }
        },
        "legend": {
         "title": {
          "text": "Trend"
         }
        },
        "margin": {
         "t": 60
        },
        "showlegend": true,
        "template": {
         "data": {
          "bar": [
           {
            "error_x": {
             "color": "#2a3f5f"
            },
            "error_y": {
             "color": "#2a3f5f"
            },
            "marker": {
             "line": {
              "color": "#E5ECF6",
              "width": 0.5
             },
             "pattern": {
              "fillmode": "overlay",
              "size": 10,
              "solidity": 0.2
             }
            },
            "type": "bar"
           }
          ],
          "barpolar": [
           {
            "marker": {
             "line": {
              "color": "#E5ECF6",
              "width": 0.5
             },
             "pattern": {
              "fillmode": "overlay",
              "size": 10,
              "solidity": 0.2
             }
            },
            "type": "barpolar"
           }
          ],
          "carpet": [
           {
            "aaxis": {
             "endlinecolor": "#2a3f5f",
             "gridcolor": "white",
             "linecolor": "white",
             "minorgridcolor": "white",
             "startlinecolor": "#2a3f5f"
            },
            "baxis": {
             "endlinecolor": "#2a3f5f",
             "gridcolor": "white",
             "linecolor": "white",
             "minorgridcolor": "white",
             "startlinecolor": "#2a3f5f"
            },
            "type": "carpet"
           }
          ],
          "choropleth": [
           {
            "colorbar": {
             "outlinewidth": 0,
             "ticks": ""
            },
            "type": "choropleth"
           }
          ],
          "contour": [
           {
            "colorbar": {
             "outlinewidth": 0,
             "ticks": ""
            },
            "colorscale": [
             [
              0,
              "#0d0887"
             ],
             [
              0.1111111111111111,
              "#46039f"
             ],
             [
              0.2222222222222222,
              "#7201a8"
             ],
             [
              0.3333333333333333,
              "#9c179e"
             ],
             [
              0.4444444444444444,
              "#bd3786"
             ],
             [
              0.5555555555555556,
              "#d8576b"
             ],
             [
              0.6666666666666666,
              "#ed7953"
             ],
             [
              0.7777777777777778,
              "#fb9f3a"
             ],
             [
              0.8888888888888888,
              "#fdca26"
             ],
             [
              1,
              "#f0f921"
             ]
            ],
            "type": "contour"
           }
          ],
          "contourcarpet": [
           {
            "colorbar": {
             "outlinewidth": 0,
             "ticks": ""
            },
            "type": "contourcarpet"
           }
          ],
          "heatmap": [
           {
            "colorbar": {
             "outlinewidth": 0,
             "ticks": ""
            },
            "colorscale": [
             [
              0,
              "#0d0887"
             ],
             [
              0.1111111111111111,
              "#46039f"
             ],
             [
              0.2222222222222222,
              "#7201a8"
             ],
             [
              0.3333333333333333,
              "#9c179e"
             ],
             [
              0.4444444444444444,
              "#bd3786"
             ],
             [
              0.5555555555555556,
              "#d8576b"
             ],
             [
              0.6666666666666666,
              "#ed7953"
             ],
             [
              0.7777777777777778,
              "#fb9f3a"
             ],
             [
              0.8888888888888888,
              "#fdca26"
             ],
             [
              1,
              "#f0f921"
             ]
            ],
            "type": "heatmap"
           }
          ],
          "heatmapgl": [
           {
            "colorbar": {
             "outlinewidth": 0,
             "ticks": ""
            },
            "colorscale": [
             [
              0,
              "#0d0887"
             ],
             [
              0.1111111111111111,
              "#46039f"
             ],
             [
              0.2222222222222222,
              "#7201a8"
             ],
             [
              0.3333333333333333,
              "#9c179e"
             ],
             [
              0.4444444444444444,
              "#bd3786"
             ],
             [
              0.5555555555555556,
              "#d8576b"
             ],
             [
              0.6666666666666666,
              "#ed7953"
             ],
             [
              0.7777777777777778,
              "#fb9f3a"
             ],
             [
              0.8888888888888888,
              "#fdca26"
             ],
             [
              1,
              "#f0f921"
             ]
            ],
            "type": "heatmapgl"
           }
          ],
          "histogram": [
           {
            "marker": {
             "pattern": {
              "fillmode": "overlay",
              "size": 10,
              "solidity": 0.2
             }
            },
            "type": "histogram"
           }
          ],
          "histogram2d": [
           {
            "colorbar": {
             "outlinewidth": 0,
             "ticks": ""
            },
            "colorscale": [
             [
              0,
              "#0d0887"
             ],
             [
              0.1111111111111111,
              "#46039f"
             ],
             [
              0.2222222222222222,
              "#7201a8"
             ],
             [
              0.3333333333333333,
              "#9c179e"
             ],
             [
              0.4444444444444444,
              "#bd3786"
             ],
             [
              0.5555555555555556,
              "#d8576b"
             ],
             [
              0.6666666666666666,
              "#ed7953"
             ],
             [
              0.7777777777777778,
              "#fb9f3a"
             ],
             [
              0.8888888888888888,
              "#fdca26"
             ],
             [
              1,
              "#f0f921"
             ]
            ],
            "type": "histogram2d"
           }
          ],
          "histogram2dcontour": [
           {
            "colorbar": {
             "outlinewidth": 0,
             "ticks": ""
            },
            "colorscale": [
             [
              0,
              "#0d0887"
             ],
             [
              0.1111111111111111,
              "#46039f"
             ],
             [
              0.2222222222222222,
              "#7201a8"
             ],
             [
              0.3333333333333333,
              "#9c179e"
             ],
             [
              0.4444444444444444,
              "#bd3786"
             ],
             [
              0.5555555555555556,
              "#d8576b"
             ],
             [
              0.6666666666666666,
              "#ed7953"
             ],
             [
              0.7777777777777778,
              "#fb9f3a"
             ],
             [
              0.8888888888888888,
              "#fdca26"
             ],
             [
              1,
              "#f0f921"
             ]
            ],
            "type": "histogram2dcontour"
           }
          ],
          "mesh3d": [
           {
            "colorbar": {
             "outlinewidth": 0,
             "ticks": ""
            },
            "type": "mesh3d"
           }
          ],
          "parcoords": [
           {
            "line": {
             "colorbar": {
              "outlinewidth": 0,
              "ticks": ""
             }
            },
            "type": "parcoords"
           }
          ],
          "pie": [
           {
            "automargin": true,
            "type": "pie"
           }
          ],
          "scatter": [
           {
            "fillpattern": {
             "fillmode": "overlay",
             "size": 10,
             "solidity": 0.2
            },
            "type": "scatter"
           }
          ],
          "scatter3d": [
           {
            "line": {
             "colorbar": {
              "outlinewidth": 0,
              "ticks": ""
             }
            },
            "marker": {
             "colorbar": {
              "outlinewidth": 0,
              "ticks": ""
             }
            },
            "type": "scatter3d"
           }
          ],
          "scattercarpet": [
           {
            "marker": {
             "colorbar": {
              "outlinewidth": 0,
              "ticks": ""
             }
            },
            "type": "scattercarpet"
           }
          ],
          "scattergeo": [
           {
            "marker": {
             "colorbar": {
              "outlinewidth": 0,
              "ticks": ""
             }
            },
            "type": "scattergeo"
           }
          ],
          "scattergl": [
           {
            "marker": {
             "colorbar": {
              "outlinewidth": 0,
              "ticks": ""
             }
            },
            "type": "scattergl"
           }
          ],
          "scattermapbox": [
           {
            "marker": {
             "colorbar": {
              "outlinewidth": 0,
              "ticks": ""
             }
            },
            "type": "scattermapbox"
           }
          ],
          "scatterpolar": [
           {
            "marker": {
             "colorbar": {
              "outlinewidth": 0,
              "ticks": ""
             }
            },
            "type": "scatterpolar"
           }
          ],
          "scatterpolargl": [
           {
            "marker": {
             "colorbar": {
              "outlinewidth": 0,
              "ticks": ""
             }
            },
            "type": "scatterpolargl"
           }
          ],
          "scatterternary": [
           {
            "marker": {
             "colorbar": {
              "outlinewidth": 0,
              "ticks": ""
             }
            },
            "type": "scatterternary"
           }
          ],
          "surface": [
           {
            "colorbar": {
             "outlinewidth": 0,
             "ticks": ""
            },
            "colorscale": [
             [
              0,
              "#0d0887"
             ],
             [
              0.1111111111111111,
              "#46039f"
             ],
             [
              0.2222222222222222,
              "#7201a8"
             ],
             [
              0.3333333333333333,
              "#9c179e"
             ],
             [
              0.4444444444444444,
              "#bd3786"
             ],
             [
              0.5555555555555556,
              "#d8576b"
             ],
             [
              0.6666666666666666,
              "#ed7953"
             ],
             [
              0.7777777777777778,
              "#fb9f3a"
             ],
             [
              0.8888888888888888,
              "#fdca26"
             ],
             [
              1,
              "#f0f921"
             ]
            ],
            "type": "surface"
           }
          ],
          "table": [
           {
            "cells": {
             "fill": {
              "color": "#EBF0F8"
             },
             "line": {
              "color": "white"
             }
            },
            "header": {
             "fill": {
              "color": "#C8D4E3"
             },
             "line": {
              "color": "white"
             }
            },
            "type": "table"
           }
          ]
         },
         "layout": {
          "annotationdefaults": {
           "arrowcolor": "#2a3f5f",
           "arrowhead": 0,
           "arrowwidth": 1
          },
          "autotypenumbers": "strict",
          "coloraxis": {
           "colorbar": {
            "outlinewidth": 0,
            "ticks": ""
           }
          },
          "colorscale": {
           "diverging": [
            [
             0,
             "#8e0152"
            ],
            [
             0.1,
             "#c51b7d"
            ],
            [
             0.2,
             "#de77ae"
            ],
            [
             0.3,
             "#f1b6da"
            ],
            [
             0.4,
             "#fde0ef"
            ],
            [
             0.5,
             "#f7f7f7"
            ],
            [
             0.6,
             "#e6f5d0"
            ],
            [
             0.7,
             "#b8e186"
            ],
            [
             0.8,
             "#7fbc41"
            ],
            [
             0.9,
             "#4d9221"
            ],
            [
             1,
             "#276419"
            ]
           ],
           "sequential": [
            [
             0,
             "#0d0887"
            ],
            [
             0.1111111111111111,
             "#46039f"
            ],
            [
             0.2222222222222222,
             "#7201a8"
            ],
            [
             0.3333333333333333,
             "#9c179e"
            ],
            [
             0.4444444444444444,
             "#bd3786"
            ],
            [
             0.5555555555555556,
             "#d8576b"
            ],
            [
             0.6666666666666666,
             "#ed7953"
            ],
            [
             0.7777777777777778,
             "#fb9f3a"
            ],
            [
             0.8888888888888888,
             "#fdca26"
            ],
            [
             1,
             "#f0f921"
            ]
           ],
           "sequentialminus": [
            [
             0,
             "#0d0887"
            ],
            [
             0.1111111111111111,
             "#46039f"
            ],
            [
             0.2222222222222222,
             "#7201a8"
            ],
            [
             0.3333333333333333,
             "#9c179e"
            ],
            [
             0.4444444444444444,
             "#bd3786"
            ],
            [
             0.5555555555555556,
             "#d8576b"
            ],
            [
             0.6666666666666666,
             "#ed7953"
            ],
            [
             0.7777777777777778,
             "#fb9f3a"
            ],
            [
             0.8888888888888888,
             "#fdca26"
            ],
            [
             1,
             "#f0f921"
            ]
           ]
          },
          "colorway": [
           "#636efa",
           "#EF553B",
           "#00cc96",
           "#ab63fa",
           "#FFA15A",
           "#19d3f3",
           "#FF6692",
           "#B6E880",
           "#FF97FF",
           "#FECB52"
          ],
          "font": {
           "color": "#2a3f5f"
          },
          "geo": {
           "bgcolor": "white",
           "lakecolor": "white",
           "landcolor": "#E5ECF6",
           "showlakes": true,
           "showland": true,
           "subunitcolor": "white"
          },
          "hoverlabel": {
           "align": "left"
          },
          "hovermode": "closest",
          "mapbox": {
           "style": "light"
          },
          "paper_bgcolor": "white",
          "plot_bgcolor": "#E5ECF6",
          "polar": {
           "angularaxis": {
            "gridcolor": "white",
            "linecolor": "white",
            "ticks": ""
           },
           "bgcolor": "#E5ECF6",
           "radialaxis": {
            "gridcolor": "white",
            "linecolor": "white",
            "ticks": ""
           }
          },
          "scene": {
           "xaxis": {
            "backgroundcolor": "#E5ECF6",
            "gridcolor": "white",
            "gridwidth": 2,
            "linecolor": "white",
            "showbackground": true,
            "ticks": "",
            "zerolinecolor": "white"
           },
           "yaxis": {
            "backgroundcolor": "#E5ECF6",
            "gridcolor": "white",
            "gridwidth": 2,
            "linecolor": "white",
            "showbackground": true,
            "ticks": "",
            "zerolinecolor": "white"
           },
           "zaxis": {
            "backgroundcolor": "#E5ECF6",
            "gridcolor": "white",
            "gridwidth": 2,
            "linecolor": "white",
            "showbackground": true,
            "ticks": "",
            "zerolinecolor": "white"
           }
          },
          "shapedefaults": {
           "line": {
            "color": "#2a3f5f"
           }
          },
          "ternary": {
           "aaxis": {
            "gridcolor": "white",
            "linecolor": "white",
            "ticks": ""
           },
           "baxis": {
            "gridcolor": "white",
            "linecolor": "white",
            "ticks": ""
           },
           "bgcolor": "#E5ECF6",
           "caxis": {
            "gridcolor": "white",
            "linecolor": "white",
            "ticks": ""
           }
          },
          "title": {
           "x": 0.05
          },
          "xaxis": {
           "automargin": true,
           "gridcolor": "white",
           "linecolor": "white",
           "ticks": "",
           "title": {
            "standoff": 15
           },
           "zerolinecolor": "white",
           "zerolinewidth": 2
          },
          "yaxis": {
           "automargin": true,
           "gridcolor": "white",
           "linecolor": "white",
           "ticks": "",
           "title": {
            "standoff": 15
           },
           "zerolinecolor": "white",
           "zerolinewidth": 2
          }
         }
        },
        "title": {
         "font": {
          "color": "Black",
          "size": 22
         },
         "text": "<b>Similarity Matrix",
         "x": 0.55,
         "xanchor": "center",
         "y": 0.95,
         "yanchor": "top"
        },
        "width": 800,
        "xaxis": {
         "anchor": "y",
         "constrain": "domain",
         "domain": [
          0,
          1
         ],
         "scaleanchor": "y"
        },
        "yaxis": {
         "anchor": "x",
         "autorange": "reversed",
         "constrain": "domain",
         "domain": [
          0,
          1
         ]
        }
       }
      }
     },
     "metadata": {},
     "output_type": "display_data"
    }
   ],
   "source": [
    "topic_model.visualize_heatmap()"
   ]
  },
  {
   "cell_type": "code",
   "execution_count": 7,
   "id": "458f461c",
   "metadata": {},
   "outputs": [
    {
     "data": {
      "application/vnd.plotly.v1+json": {
       "config": {
        "plotlyServerURL": "https://plot.ly"
       },
       "data": [
        {
         "customdata": [
          [
           2,
           "jace | jace beleren | beleren | chandra | nalaar",
           439
          ],
          [
           3,
           "nature | nissa | nissa revane | revane | civilization",
           432
          ],
          [
           4,
           "artificer | expeditionary house | expeditionary | house | gate",
           390
          ],
          [
           5,
           "volrath | slivers | rats | eladamri | lord leaves",
           389
          ],
          [
           6,
           "kami | kamigawa | war | kami war | law",
           342
          ],
          [
           7,
           "blood | dromoka | river | kiora | dromoka warrior",
           307
          ],
          [
           8,
           "angels | angel | sleep | wings | blessed sleep",
           298
          ],
          [
           9,
           "lightning | thunder | storm | rain | hooves",
           291
          ],
          [
           10,
           "price | marosorcerer | pay | mogg | wealth",
           278
          ],
          [
           11,
           "giants | shakespeare | william shakespeare | william | ghirapur",
           259
          ],
          [
           12,
           "avacyn | avenger | holy | church | avacyns",
           258
          ],
          [
           13,
           "goblins | goblin | military | eaten | demise",
           255
          ],
          [
           14,
           "elves | naya | fox | general jarkeld | arctic",
           254
          ],
          [
           15,
           "golgari | treasure | baby | cevraya | cevraya golgari",
           228
          ],
          [
           16,
           "dragons | dragon | tarkir | clans | bones",
           228
          ],
          [
           17,
           "wildspeaker | garruk wildspeaker | garruk | branch | vivien reid",
           227
          ],
          [
           18,
           "urza | golem | silver | designed | urzas",
           226
          ],
          [
           19,
           "wind | bloom | essence | smallest | regret",
           220
          ]
         ],
         "hovertemplate": "<b>Topic %{customdata[0]}</b><br>Words: %{customdata[1]}<br>Size: %{customdata[2]}",
         "legendgroup": "",
         "marker": {
          "color": "#B0BEC5",
          "line": {
           "color": "DarkSlateGrey",
           "width": 2
          },
          "size": [
           439,
           432,
           390,
           389,
           342,
           307,
           298,
           291,
           278,
           259,
           258,
           255,
           254,
           228,
           228,
           227,
           226,
           220
          ],
          "sizemode": "area",
          "sizeref": 0.274375,
          "symbol": "circle"
         },
         "mode": "markers",
         "name": "",
         "orientation": "v",
         "showlegend": false,
         "type": "scatter",
         "x": [
          15.246175765991211,
          -7.6014862060546875,
          -4.528292655944824,
          21.91454315185547,
          15.171856880187988,
          22.399972915649414,
          15.309386253356934,
          4.2959136962890625,
          -5.263454437255859,
          3.585777521133423,
          22.051734924316406,
          -4.906277656555176,
          -7.431368827819824,
          -5.172313213348389,
          3.649137496948242,
          -7.196894645690918,
          15.260997772216797,
          4.005892753601074
         ],
         "xaxis": "x",
         "y": [
          17.93475914001465,
          3.3205950260162354,
          7.565350532531738,
          5.830351829528809,
          18.477703094482422,
          6.294742107391357,
          18.671533584594727,
          -0.05270800739526749,
          7.833808422088623,
          -0.8246337175369263,
          6.0380635261535645,
          7.449168682098389,
          3.1525166034698486,
          8.136530876159668,
          -0.733987033367157,
          2.9252912998199463,
          17.697420120239258,
          -0.3626713752746582
         ],
         "yaxis": "y"
        }
       ],
       "layout": {
        "annotations": [
         {
          "showarrow": false,
          "text": "D1",
          "x": -8.741709136962891,
          "y": 10.261967423558236,
          "yshift": 10
         },
         {
          "showarrow": false,
          "text": "D2",
          "x": 8.50912985801697,
          "xshift": 10,
          "y": 21.472263622283936
         }
        ],
        "height": 650,
        "hoverlabel": {
         "bgcolor": "white",
         "font": {
          "family": "Rockwell",
          "size": 16
         }
        },
        "legend": {
         "itemsizing": "constant",
         "tracegroupgap": 0
        },
        "margin": {
         "t": 60
        },
        "shapes": [
         {
          "line": {
           "color": "#CFD8DC",
           "width": 2
          },
          "type": "line",
          "x0": 8.50912985801697,
          "x1": 8.50912985801697,
          "y0": -0.9483287751674652,
          "y1": 21.472263622283936
         },
         {
          "line": {
           "color": "#9E9E9E",
           "width": 2
          },
          "type": "line",
          "x0": -8.741709136962891,
          "x1": 25.759968852996828,
          "y0": 10.261967423558236,
          "y1": 10.261967423558236
         }
        ],
        "sliders": [
         {
          "active": 0,
          "pad": {
           "t": 50
          },
          "steps": [
           {
            "args": [
             {
              "marker.color": [
               [
                "red",
                "#B0BEC5",
                "#B0BEC5",
                "#B0BEC5",
                "#B0BEC5",
                "#B0BEC5",
                "#B0BEC5",
                "#B0BEC5",
                "#B0BEC5",
                "#B0BEC5",
                "#B0BEC5",
                "#B0BEC5",
                "#B0BEC5",
                "#B0BEC5",
                "#B0BEC5",
                "#B0BEC5",
                "#B0BEC5",
                "#B0BEC5"
               ]
              ]
             }
            ],
            "label": "Topic 2",
            "method": "update"
           },
           {
            "args": [
             {
              "marker.color": [
               [
                "#B0BEC5",
                "red",
                "#B0BEC5",
                "#B0BEC5",
                "#B0BEC5",
                "#B0BEC5",
                "#B0BEC5",
                "#B0BEC5",
                "#B0BEC5",
                "#B0BEC5",
                "#B0BEC5",
                "#B0BEC5",
                "#B0BEC5",
                "#B0BEC5",
                "#B0BEC5",
                "#B0BEC5",
                "#B0BEC5",
                "#B0BEC5"
               ]
              ]
             }
            ],
            "label": "Topic 3",
            "method": "update"
           },
           {
            "args": [
             {
              "marker.color": [
               [
                "#B0BEC5",
                "#B0BEC5",
                "red",
                "#B0BEC5",
                "#B0BEC5",
                "#B0BEC5",
                "#B0BEC5",
                "#B0BEC5",
                "#B0BEC5",
                "#B0BEC5",
                "#B0BEC5",
                "#B0BEC5",
                "#B0BEC5",
                "#B0BEC5",
                "#B0BEC5",
                "#B0BEC5",
                "#B0BEC5",
                "#B0BEC5"
               ]
              ]
             }
            ],
            "label": "Topic 4",
            "method": "update"
           },
           {
            "args": [
             {
              "marker.color": [
               [
                "#B0BEC5",
                "#B0BEC5",
                "#B0BEC5",
                "red",
                "#B0BEC5",
                "#B0BEC5",
                "#B0BEC5",
                "#B0BEC5",
                "#B0BEC5",
                "#B0BEC5",
                "#B0BEC5",
                "#B0BEC5",
                "#B0BEC5",
                "#B0BEC5",
                "#B0BEC5",
                "#B0BEC5",
                "#B0BEC5",
                "#B0BEC5"
               ]
              ]
             }
            ],
            "label": "Topic 5",
            "method": "update"
           },
           {
            "args": [
             {
              "marker.color": [
               [
                "#B0BEC5",
                "#B0BEC5",
                "#B0BEC5",
                "#B0BEC5",
                "red",
                "#B0BEC5",
                "#B0BEC5",
                "#B0BEC5",
                "#B0BEC5",
                "#B0BEC5",
                "#B0BEC5",
                "#B0BEC5",
                "#B0BEC5",
                "#B0BEC5",
                "#B0BEC5",
                "#B0BEC5",
                "#B0BEC5",
                "#B0BEC5"
               ]
              ]
             }
            ],
            "label": "Topic 6",
            "method": "update"
           },
           {
            "args": [
             {
              "marker.color": [
               [
                "#B0BEC5",
                "#B0BEC5",
                "#B0BEC5",
                "#B0BEC5",
                "#B0BEC5",
                "red",
                "#B0BEC5",
                "#B0BEC5",
                "#B0BEC5",
                "#B0BEC5",
                "#B0BEC5",
                "#B0BEC5",
                "#B0BEC5",
                "#B0BEC5",
                "#B0BEC5",
                "#B0BEC5",
                "#B0BEC5",
                "#B0BEC5"
               ]
              ]
             }
            ],
            "label": "Topic 7",
            "method": "update"
           },
           {
            "args": [
             {
              "marker.color": [
               [
                "#B0BEC5",
                "#B0BEC5",
                "#B0BEC5",
                "#B0BEC5",
                "#B0BEC5",
                "#B0BEC5",
                "red",
                "#B0BEC5",
                "#B0BEC5",
                "#B0BEC5",
                "#B0BEC5",
                "#B0BEC5",
                "#B0BEC5",
                "#B0BEC5",
                "#B0BEC5",
                "#B0BEC5",
                "#B0BEC5",
                "#B0BEC5"
               ]
              ]
             }
            ],
            "label": "Topic 8",
            "method": "update"
           },
           {
            "args": [
             {
              "marker.color": [
               [
                "#B0BEC5",
                "#B0BEC5",
                "#B0BEC5",
                "#B0BEC5",
                "#B0BEC5",
                "#B0BEC5",
                "#B0BEC5",
                "red",
                "#B0BEC5",
                "#B0BEC5",
                "#B0BEC5",
                "#B0BEC5",
                "#B0BEC5",
                "#B0BEC5",
                "#B0BEC5",
                "#B0BEC5",
                "#B0BEC5",
                "#B0BEC5"
               ]
              ]
             }
            ],
            "label": "Topic 9",
            "method": "update"
           },
           {
            "args": [
             {
              "marker.color": [
               [
                "#B0BEC5",
                "#B0BEC5",
                "#B0BEC5",
                "#B0BEC5",
                "#B0BEC5",
                "#B0BEC5",
                "#B0BEC5",
                "#B0BEC5",
                "red",
                "#B0BEC5",
                "#B0BEC5",
                "#B0BEC5",
                "#B0BEC5",
                "#B0BEC5",
                "#B0BEC5",
                "#B0BEC5",
                "#B0BEC5",
                "#B0BEC5"
               ]
              ]
             }
            ],
            "label": "Topic 10",
            "method": "update"
           },
           {
            "args": [
             {
              "marker.color": [
               [
                "#B0BEC5",
                "#B0BEC5",
                "#B0BEC5",
                "#B0BEC5",
                "#B0BEC5",
                "#B0BEC5",
                "#B0BEC5",
                "#B0BEC5",
                "#B0BEC5",
                "red",
                "#B0BEC5",
                "#B0BEC5",
                "#B0BEC5",
                "#B0BEC5",
                "#B0BEC5",
                "#B0BEC5",
                "#B0BEC5",
                "#B0BEC5"
               ]
              ]
             }
            ],
            "label": "Topic 11",
            "method": "update"
           },
           {
            "args": [
             {
              "marker.color": [
               [
                "#B0BEC5",
                "#B0BEC5",
                "#B0BEC5",
                "#B0BEC5",
                "#B0BEC5",
                "#B0BEC5",
                "#B0BEC5",
                "#B0BEC5",
                "#B0BEC5",
                "#B0BEC5",
                "red",
                "#B0BEC5",
                "#B0BEC5",
                "#B0BEC5",
                "#B0BEC5",
                "#B0BEC5",
                "#B0BEC5",
                "#B0BEC5"
               ]
              ]
             }
            ],
            "label": "Topic 12",
            "method": "update"
           },
           {
            "args": [
             {
              "marker.color": [
               [
                "#B0BEC5",
                "#B0BEC5",
                "#B0BEC5",
                "#B0BEC5",
                "#B0BEC5",
                "#B0BEC5",
                "#B0BEC5",
                "#B0BEC5",
                "#B0BEC5",
                "#B0BEC5",
                "#B0BEC5",
                "red",
                "#B0BEC5",
                "#B0BEC5",
                "#B0BEC5",
                "#B0BEC5",
                "#B0BEC5",
                "#B0BEC5"
               ]
              ]
             }
            ],
            "label": "Topic 13",
            "method": "update"
           },
           {
            "args": [
             {
              "marker.color": [
               [
                "#B0BEC5",
                "#B0BEC5",
                "#B0BEC5",
                "#B0BEC5",
                "#B0BEC5",
                "#B0BEC5",
                "#B0BEC5",
                "#B0BEC5",
                "#B0BEC5",
                "#B0BEC5",
                "#B0BEC5",
                "#B0BEC5",
                "red",
                "#B0BEC5",
                "#B0BEC5",
                "#B0BEC5",
                "#B0BEC5",
                "#B0BEC5"
               ]
              ]
             }
            ],
            "label": "Topic 14",
            "method": "update"
           },
           {
            "args": [
             {
              "marker.color": [
               [
                "#B0BEC5",
                "#B0BEC5",
                "#B0BEC5",
                "#B0BEC5",
                "#B0BEC5",
                "#B0BEC5",
                "#B0BEC5",
                "#B0BEC5",
                "#B0BEC5",
                "#B0BEC5",
                "#B0BEC5",
                "#B0BEC5",
                "#B0BEC5",
                "red",
                "#B0BEC5",
                "#B0BEC5",
                "#B0BEC5",
                "#B0BEC5"
               ]
              ]
             }
            ],
            "label": "Topic 15",
            "method": "update"
           },
           {
            "args": [
             {
              "marker.color": [
               [
                "#B0BEC5",
                "#B0BEC5",
                "#B0BEC5",
                "#B0BEC5",
                "#B0BEC5",
                "#B0BEC5",
                "#B0BEC5",
                "#B0BEC5",
                "#B0BEC5",
                "#B0BEC5",
                "#B0BEC5",
                "#B0BEC5",
                "#B0BEC5",
                "#B0BEC5",
                "red",
                "#B0BEC5",
                "#B0BEC5",
                "#B0BEC5"
               ]
              ]
             }
            ],
            "label": "Topic 16",
            "method": "update"
           },
           {
            "args": [
             {
              "marker.color": [
               [
                "#B0BEC5",
                "#B0BEC5",
                "#B0BEC5",
                "#B0BEC5",
                "#B0BEC5",
                "#B0BEC5",
                "#B0BEC5",
                "#B0BEC5",
                "#B0BEC5",
                "#B0BEC5",
                "#B0BEC5",
                "#B0BEC5",
                "#B0BEC5",
                "#B0BEC5",
                "#B0BEC5",
                "red",
                "#B0BEC5",
                "#B0BEC5"
               ]
              ]
             }
            ],
            "label": "Topic 17",
            "method": "update"
           },
           {
            "args": [
             {
              "marker.color": [
               [
                "#B0BEC5",
                "#B0BEC5",
                "#B0BEC5",
                "#B0BEC5",
                "#B0BEC5",
                "#B0BEC5",
                "#B0BEC5",
                "#B0BEC5",
                "#B0BEC5",
                "#B0BEC5",
                "#B0BEC5",
                "#B0BEC5",
                "#B0BEC5",
                "#B0BEC5",
                "#B0BEC5",
                "#B0BEC5",
                "red",
                "#B0BEC5"
               ]
              ]
             }
            ],
            "label": "Topic 18",
            "method": "update"
           },
           {
            "args": [
             {
              "marker.color": [
               [
                "#B0BEC5",
                "#B0BEC5",
                "#B0BEC5",
                "#B0BEC5",
                "#B0BEC5",
                "#B0BEC5",
                "#B0BEC5",
                "#B0BEC5",
                "#B0BEC5",
                "#B0BEC5",
                "#B0BEC5",
                "#B0BEC5",
                "#B0BEC5",
                "#B0BEC5",
                "#B0BEC5",
                "#B0BEC5",
                "#B0BEC5",
                "red"
               ]
              ]
             }
            ],
            "label": "Topic 19",
            "method": "update"
           }
          ]
         }
        ],
        "template": {
         "data": {
          "bar": [
           {
            "error_x": {
             "color": "rgb(36,36,36)"
            },
            "error_y": {
             "color": "rgb(36,36,36)"
            },
            "marker": {
             "line": {
              "color": "white",
              "width": 0.5
             },
             "pattern": {
              "fillmode": "overlay",
              "size": 10,
              "solidity": 0.2
             }
            },
            "type": "bar"
           }
          ],
          "barpolar": [
           {
            "marker": {
             "line": {
              "color": "white",
              "width": 0.5
             },
             "pattern": {
              "fillmode": "overlay",
              "size": 10,
              "solidity": 0.2
             }
            },
            "type": "barpolar"
           }
          ],
          "carpet": [
           {
            "aaxis": {
             "endlinecolor": "rgb(36,36,36)",
             "gridcolor": "white",
             "linecolor": "white",
             "minorgridcolor": "white",
             "startlinecolor": "rgb(36,36,36)"
            },
            "baxis": {
             "endlinecolor": "rgb(36,36,36)",
             "gridcolor": "white",
             "linecolor": "white",
             "minorgridcolor": "white",
             "startlinecolor": "rgb(36,36,36)"
            },
            "type": "carpet"
           }
          ],
          "choropleth": [
           {
            "colorbar": {
             "outlinewidth": 1,
             "tickcolor": "rgb(36,36,36)",
             "ticks": "outside"
            },
            "type": "choropleth"
           }
          ],
          "contour": [
           {
            "colorbar": {
             "outlinewidth": 1,
             "tickcolor": "rgb(36,36,36)",
             "ticks": "outside"
            },
            "colorscale": [
             [
              0,
              "#440154"
             ],
             [
              0.1111111111111111,
              "#482878"
             ],
             [
              0.2222222222222222,
              "#3e4989"
             ],
             [
              0.3333333333333333,
              "#31688e"
             ],
             [
              0.4444444444444444,
              "#26828e"
             ],
             [
              0.5555555555555556,
              "#1f9e89"
             ],
             [
              0.6666666666666666,
              "#35b779"
             ],
             [
              0.7777777777777778,
              "#6ece58"
             ],
             [
              0.8888888888888888,
              "#b5de2b"
             ],
             [
              1,
              "#fde725"
             ]
            ],
            "type": "contour"
           }
          ],
          "contourcarpet": [
           {
            "colorbar": {
             "outlinewidth": 1,
             "tickcolor": "rgb(36,36,36)",
             "ticks": "outside"
            },
            "type": "contourcarpet"
           }
          ],
          "heatmap": [
           {
            "colorbar": {
             "outlinewidth": 1,
             "tickcolor": "rgb(36,36,36)",
             "ticks": "outside"
            },
            "colorscale": [
             [
              0,
              "#440154"
             ],
             [
              0.1111111111111111,
              "#482878"
             ],
             [
              0.2222222222222222,
              "#3e4989"
             ],
             [
              0.3333333333333333,
              "#31688e"
             ],
             [
              0.4444444444444444,
              "#26828e"
             ],
             [
              0.5555555555555556,
              "#1f9e89"
             ],
             [
              0.6666666666666666,
              "#35b779"
             ],
             [
              0.7777777777777778,
              "#6ece58"
             ],
             [
              0.8888888888888888,
              "#b5de2b"
             ],
             [
              1,
              "#fde725"
             ]
            ],
            "type": "heatmap"
           }
          ],
          "heatmapgl": [
           {
            "colorbar": {
             "outlinewidth": 1,
             "tickcolor": "rgb(36,36,36)",
             "ticks": "outside"
            },
            "colorscale": [
             [
              0,
              "#440154"
             ],
             [
              0.1111111111111111,
              "#482878"
             ],
             [
              0.2222222222222222,
              "#3e4989"
             ],
             [
              0.3333333333333333,
              "#31688e"
             ],
             [
              0.4444444444444444,
              "#26828e"
             ],
             [
              0.5555555555555556,
              "#1f9e89"
             ],
             [
              0.6666666666666666,
              "#35b779"
             ],
             [
              0.7777777777777778,
              "#6ece58"
             ],
             [
              0.8888888888888888,
              "#b5de2b"
             ],
             [
              1,
              "#fde725"
             ]
            ],
            "type": "heatmapgl"
           }
          ],
          "histogram": [
           {
            "marker": {
             "line": {
              "color": "white",
              "width": 0.6
             }
            },
            "type": "histogram"
           }
          ],
          "histogram2d": [
           {
            "colorbar": {
             "outlinewidth": 1,
             "tickcolor": "rgb(36,36,36)",
             "ticks": "outside"
            },
            "colorscale": [
             [
              0,
              "#440154"
             ],
             [
              0.1111111111111111,
              "#482878"
             ],
             [
              0.2222222222222222,
              "#3e4989"
             ],
             [
              0.3333333333333333,
              "#31688e"
             ],
             [
              0.4444444444444444,
              "#26828e"
             ],
             [
              0.5555555555555556,
              "#1f9e89"
             ],
             [
              0.6666666666666666,
              "#35b779"
             ],
             [
              0.7777777777777778,
              "#6ece58"
             ],
             [
              0.8888888888888888,
              "#b5de2b"
             ],
             [
              1,
              "#fde725"
             ]
            ],
            "type": "histogram2d"
           }
          ],
          "histogram2dcontour": [
           {
            "colorbar": {
             "outlinewidth": 1,
             "tickcolor": "rgb(36,36,36)",
             "ticks": "outside"
            },
            "colorscale": [
             [
              0,
              "#440154"
             ],
             [
              0.1111111111111111,
              "#482878"
             ],
             [
              0.2222222222222222,
              "#3e4989"
             ],
             [
              0.3333333333333333,
              "#31688e"
             ],
             [
              0.4444444444444444,
              "#26828e"
             ],
             [
              0.5555555555555556,
              "#1f9e89"
             ],
             [
              0.6666666666666666,
              "#35b779"
             ],
             [
              0.7777777777777778,
              "#6ece58"
             ],
             [
              0.8888888888888888,
              "#b5de2b"
             ],
             [
              1,
              "#fde725"
             ]
            ],
            "type": "histogram2dcontour"
           }
          ],
          "mesh3d": [
           {
            "colorbar": {
             "outlinewidth": 1,
             "tickcolor": "rgb(36,36,36)",
             "ticks": "outside"
            },
            "type": "mesh3d"
           }
          ],
          "parcoords": [
           {
            "line": {
             "colorbar": {
              "outlinewidth": 1,
              "tickcolor": "rgb(36,36,36)",
              "ticks": "outside"
             }
            },
            "type": "parcoords"
           }
          ],
          "pie": [
           {
            "automargin": true,
            "type": "pie"
           }
          ],
          "scatter": [
           {
            "fillpattern": {
             "fillmode": "overlay",
             "size": 10,
             "solidity": 0.2
            },
            "type": "scatter"
           }
          ],
          "scatter3d": [
           {
            "line": {
             "colorbar": {
              "outlinewidth": 1,
              "tickcolor": "rgb(36,36,36)",
              "ticks": "outside"
             }
            },
            "marker": {
             "colorbar": {
              "outlinewidth": 1,
              "tickcolor": "rgb(36,36,36)",
              "ticks": "outside"
             }
            },
            "type": "scatter3d"
           }
          ],
          "scattercarpet": [
           {
            "marker": {
             "colorbar": {
              "outlinewidth": 1,
              "tickcolor": "rgb(36,36,36)",
              "ticks": "outside"
             }
            },
            "type": "scattercarpet"
           }
          ],
          "scattergeo": [
           {
            "marker": {
             "colorbar": {
              "outlinewidth": 1,
              "tickcolor": "rgb(36,36,36)",
              "ticks": "outside"
             }
            },
            "type": "scattergeo"
           }
          ],
          "scattergl": [
           {
            "marker": {
             "colorbar": {
              "outlinewidth": 1,
              "tickcolor": "rgb(36,36,36)",
              "ticks": "outside"
             }
            },
            "type": "scattergl"
           }
          ],
          "scattermapbox": [
           {
            "marker": {
             "colorbar": {
              "outlinewidth": 1,
              "tickcolor": "rgb(36,36,36)",
              "ticks": "outside"
             }
            },
            "type": "scattermapbox"
           }
          ],
          "scatterpolar": [
           {
            "marker": {
             "colorbar": {
              "outlinewidth": 1,
              "tickcolor": "rgb(36,36,36)",
              "ticks": "outside"
             }
            },
            "type": "scatterpolar"
           }
          ],
          "scatterpolargl": [
           {
            "marker": {
             "colorbar": {
              "outlinewidth": 1,
              "tickcolor": "rgb(36,36,36)",
              "ticks": "outside"
             }
            },
            "type": "scatterpolargl"
           }
          ],
          "scatterternary": [
           {
            "marker": {
             "colorbar": {
              "outlinewidth": 1,
              "tickcolor": "rgb(36,36,36)",
              "ticks": "outside"
             }
            },
            "type": "scatterternary"
           }
          ],
          "surface": [
           {
            "colorbar": {
             "outlinewidth": 1,
             "tickcolor": "rgb(36,36,36)",
             "ticks": "outside"
            },
            "colorscale": [
             [
              0,
              "#440154"
             ],
             [
              0.1111111111111111,
              "#482878"
             ],
             [
              0.2222222222222222,
              "#3e4989"
             ],
             [
              0.3333333333333333,
              "#31688e"
             ],
             [
              0.4444444444444444,
              "#26828e"
             ],
             [
              0.5555555555555556,
              "#1f9e89"
             ],
             [
              0.6666666666666666,
              "#35b779"
             ],
             [
              0.7777777777777778,
              "#6ece58"
             ],
             [
              0.8888888888888888,
              "#b5de2b"
             ],
             [
              1,
              "#fde725"
             ]
            ],
            "type": "surface"
           }
          ],
          "table": [
           {
            "cells": {
             "fill": {
              "color": "rgb(237,237,237)"
             },
             "line": {
              "color": "white"
             }
            },
            "header": {
             "fill": {
              "color": "rgb(217,217,217)"
             },
             "line": {
              "color": "white"
             }
            },
            "type": "table"
           }
          ]
         },
         "layout": {
          "annotationdefaults": {
           "arrowhead": 0,
           "arrowwidth": 1
          },
          "autotypenumbers": "strict",
          "coloraxis": {
           "colorbar": {
            "outlinewidth": 1,
            "tickcolor": "rgb(36,36,36)",
            "ticks": "outside"
           }
          },
          "colorscale": {
           "diverging": [
            [
             0,
             "rgb(103,0,31)"
            ],
            [
             0.1,
             "rgb(178,24,43)"
            ],
            [
             0.2,
             "rgb(214,96,77)"
            ],
            [
             0.3,
             "rgb(244,165,130)"
            ],
            [
             0.4,
             "rgb(253,219,199)"
            ],
            [
             0.5,
             "rgb(247,247,247)"
            ],
            [
             0.6,
             "rgb(209,229,240)"
            ],
            [
             0.7,
             "rgb(146,197,222)"
            ],
            [
             0.8,
             "rgb(67,147,195)"
            ],
            [
             0.9,
             "rgb(33,102,172)"
            ],
            [
             1,
             "rgb(5,48,97)"
            ]
           ],
           "sequential": [
            [
             0,
             "#440154"
            ],
            [
             0.1111111111111111,
             "#482878"
            ],
            [
             0.2222222222222222,
             "#3e4989"
            ],
            [
             0.3333333333333333,
             "#31688e"
            ],
            [
             0.4444444444444444,
             "#26828e"
            ],
            [
             0.5555555555555556,
             "#1f9e89"
            ],
            [
             0.6666666666666666,
             "#35b779"
            ],
            [
             0.7777777777777778,
             "#6ece58"
            ],
            [
             0.8888888888888888,
             "#b5de2b"
            ],
            [
             1,
             "#fde725"
            ]
           ],
           "sequentialminus": [
            [
             0,
             "#440154"
            ],
            [
             0.1111111111111111,
             "#482878"
            ],
            [
             0.2222222222222222,
             "#3e4989"
            ],
            [
             0.3333333333333333,
             "#31688e"
            ],
            [
             0.4444444444444444,
             "#26828e"
            ],
            [
             0.5555555555555556,
             "#1f9e89"
            ],
            [
             0.6666666666666666,
             "#35b779"
            ],
            [
             0.7777777777777778,
             "#6ece58"
            ],
            [
             0.8888888888888888,
             "#b5de2b"
            ],
            [
             1,
             "#fde725"
            ]
           ]
          },
          "colorway": [
           "#1F77B4",
           "#FF7F0E",
           "#2CA02C",
           "#D62728",
           "#9467BD",
           "#8C564B",
           "#E377C2",
           "#7F7F7F",
           "#BCBD22",
           "#17BECF"
          ],
          "font": {
           "color": "rgb(36,36,36)"
          },
          "geo": {
           "bgcolor": "white",
           "lakecolor": "white",
           "landcolor": "white",
           "showlakes": true,
           "showland": true,
           "subunitcolor": "white"
          },
          "hoverlabel": {
           "align": "left"
          },
          "hovermode": "closest",
          "mapbox": {
           "style": "light"
          },
          "paper_bgcolor": "white",
          "plot_bgcolor": "white",
          "polar": {
           "angularaxis": {
            "gridcolor": "rgb(232,232,232)",
            "linecolor": "rgb(36,36,36)",
            "showgrid": false,
            "showline": true,
            "ticks": "outside"
           },
           "bgcolor": "white",
           "radialaxis": {
            "gridcolor": "rgb(232,232,232)",
            "linecolor": "rgb(36,36,36)",
            "showgrid": false,
            "showline": true,
            "ticks": "outside"
           }
          },
          "scene": {
           "xaxis": {
            "backgroundcolor": "white",
            "gridcolor": "rgb(232,232,232)",
            "gridwidth": 2,
            "linecolor": "rgb(36,36,36)",
            "showbackground": true,
            "showgrid": false,
            "showline": true,
            "ticks": "outside",
            "zeroline": false,
            "zerolinecolor": "rgb(36,36,36)"
           },
           "yaxis": {
            "backgroundcolor": "white",
            "gridcolor": "rgb(232,232,232)",
            "gridwidth": 2,
            "linecolor": "rgb(36,36,36)",
            "showbackground": true,
            "showgrid": false,
            "showline": true,
            "ticks": "outside",
            "zeroline": false,
            "zerolinecolor": "rgb(36,36,36)"
           },
           "zaxis": {
            "backgroundcolor": "white",
            "gridcolor": "rgb(232,232,232)",
            "gridwidth": 2,
            "linecolor": "rgb(36,36,36)",
            "showbackground": true,
            "showgrid": false,
            "showline": true,
            "ticks": "outside",
            "zeroline": false,
            "zerolinecolor": "rgb(36,36,36)"
           }
          },
          "shapedefaults": {
           "fillcolor": "black",
           "line": {
            "width": 0
           },
           "opacity": 0.3
          },
          "ternary": {
           "aaxis": {
            "gridcolor": "rgb(232,232,232)",
            "linecolor": "rgb(36,36,36)",
            "showgrid": false,
            "showline": true,
            "ticks": "outside"
           },
           "baxis": {
            "gridcolor": "rgb(232,232,232)",
            "linecolor": "rgb(36,36,36)",
            "showgrid": false,
            "showline": true,
            "ticks": "outside"
           },
           "bgcolor": "white",
           "caxis": {
            "gridcolor": "rgb(232,232,232)",
            "linecolor": "rgb(36,36,36)",
            "showgrid": false,
            "showline": true,
            "ticks": "outside"
           }
          },
          "title": {
           "x": 0.05
          },
          "xaxis": {
           "automargin": true,
           "gridcolor": "rgb(232,232,232)",
           "linecolor": "rgb(36,36,36)",
           "showgrid": false,
           "showline": true,
           "ticks": "outside",
           "title": {
            "standoff": 15
           },
           "zeroline": false,
           "zerolinecolor": "rgb(36,36,36)"
          },
          "yaxis": {
           "automargin": true,
           "gridcolor": "rgb(232,232,232)",
           "linecolor": "rgb(36,36,36)",
           "showgrid": false,
           "showline": true,
           "ticks": "outside",
           "title": {
            "standoff": 15
           },
           "zeroline": false,
           "zerolinecolor": "rgb(36,36,36)"
          }
         }
        },
        "title": {
         "font": {
          "color": "Black",
          "size": 22
         },
         "text": "<b>Intertopic Distance Map",
         "x": 0.5,
         "xanchor": "center",
         "y": 0.95,
         "yanchor": "top"
        },
        "width": 650,
        "xaxis": {
         "anchor": "y",
         "domain": [
          0,
          1
         ],
         "range": [
          -8.741709136962891,
          25.759968852996828
         ],
         "title": {
          "text": ""
         },
         "visible": false
        },
        "yaxis": {
         "anchor": "x",
         "domain": [
          0,
          1
         ],
         "range": [
          -0.9483287751674652,
          21.472263622283936
         ],
         "title": {
          "text": ""
         },
         "visible": false
        }
       }
      }
     },
     "metadata": {},
     "output_type": "display_data"
    }
   ],
   "source": [
    "topic_model.visualize_topics([1,2,3,4,5,6,7,8,9,10,11,12,13,14,15,16,17,18,19])"
   ]
  },
  {
   "cell_type": "code",
   "execution_count": 8,
   "id": "12369c27",
   "metadata": {},
   "outputs": [],
   "source": [
    "# hierarchical clustering\n"
   ]
  },
  {
   "cell_type": "markdown",
   "id": "b6839660",
   "metadata": {},
   "source": [
    "# what are some working names for each of the topics"
   ]
  },
  {
   "cell_type": "code",
   "execution_count": 9,
   "id": "d320139c",
   "metadata": {},
   "outputs": [],
   "source": [
    "release_date = mtg[['release_date', 'flavor_text']].dropna().drop(columns=['flavor_text'])\n",
    "\n",
    "# convert release date to list\n",
    "release_date = list(release_date['release_date'])"
   ]
  },
  {
   "cell_type": "code",
   "execution_count": 10,
   "id": "c21744be",
   "metadata": {},
   "outputs": [
    {
     "name": "stderr",
     "output_type": "stream",
     "text": [
      "281it [00:53,  5.29it/s]\n"
     ]
    }
   ],
   "source": [
    "# create a dynamic topic model using release date columns as timestamps\n",
    "topics_over_time = topic_model.topics_over_time(text, topics, release_date)"
   ]
  },
  {
   "cell_type": "code",
   "execution_count": 11,
   "id": "cfeb0e4e",
   "metadata": {},
   "outputs": [],
   "source": [
    "#Describe! All the topics increase over time that's not helpful\n",
    "# normalize frequency"
   ]
  },
  {
   "cell_type": "code",
   "execution_count": 12,
   "id": "be417e6d",
   "metadata": {},
   "outputs": [],
   "source": [
    "# topics_over_time.groupby('Timestamp')['Frequency'].transform()"
   ]
  },
  {
   "cell_type": "markdown",
   "id": "98e54c03",
   "metadata": {},
   "source": [
    "## Part 2 Supervised Classification\n",
    "\n",
    "Using only the `text` and `flavor_text` data, predict the color identity of cards: \n",
    "\n",
    "Follow the sklearn documentation covered in class on text data and Pipelines to create a classifier that predicts which of the colors a card is identified as. \n",
    "You will need to preprocess the target _`color_identity`_ labels depending on the task: \n",
    "\n",
    "- Source code for pipelines\n",
    "    - in `multiclass.py`, again load data and train a Pipeline that preprocesses the data and trains a multiclass classifier (`LinearSVC`), and saves the model pickel output once trained. target labels with more than one color should be _unlabeled_! \n",
    "    - in `multilabel.py`, do the same, but with a multilabel model (e.g. [here](https://scikit-learn.org/stable/auto_examples/miscellaneous/plot_multilabel.html#sphx-glr-auto-examples-miscellaneous-plot-multilabel-py)). You should now use the original `color_identity` data as-is, with special attention to the multi-color cards. \n",
    "- in `dvc.yaml`, add these as stages to take the data and scripts as input, with the trained/saved models as output. \n",
    "\n",
    "- in your notebook: \n",
    "    - Describe:  preprocessing steps (the tokenization done, the ngram_range, etc.), and why. \n",
    "    - load both models and plot the _confusion matrix_ for each model ([see here for the multilabel-specific version](https://scikit-learn.org/stable/modules/generated/sklearn.metrics.multilabel_confusion_matrix.html))\n",
    "    - Describe: what are the models succeeding at? Where are they struggling? How do you propose addressing these weaknesses next time?\n",
    "\n",
    "\n"
   ]
  },
  {
   "cell_type": "markdown",
   "id": "8e4ed6e3",
   "metadata": {},
   "source": [
    "Describe the pre-processing steps:\n"
   ]
  },
  {
   "cell_type": "code",
   "execution_count": null,
   "id": "5a3ddc7d",
   "metadata": {},
   "outputs": [],
   "source": []
  },
  {
   "cell_type": "code",
   "execution_count": 13,
   "id": "874439a0",
   "metadata": {},
   "outputs": [],
   "source": [
    "# plot confusion matrixes\n",
    "from sklearn.metrics import confusion_matrix\n",
    "from sklearn.metrics import multilabel_confusion_matrix, ConfusionMatrixDisplay"
   ]
  },
  {
   "cell_type": "code",
   "execution_count": 14,
   "id": "1f3584f1",
   "metadata": {},
   "outputs": [],
   "source": [
    "from multiclass import X_test as X_mc, y_test as y_mc\n",
    "from multilabel import X_test as X_ml, y_test as y_ml"
   ]
  },
  {
   "cell_type": "code",
   "execution_count": 15,
   "id": "c6308bc7",
   "metadata": {},
   "outputs": [],
   "source": [
    "import pickle\n",
    "file = open(\"mtg_classifier_multilabel.pkl\",'rb')\n",
    "mc_classifier = pickle.load(file)\n",
    "file.close()\n",
    "\n",
    "file = open(\"mtg_classifier.pkl\",'rb')\n",
    "ml_classifier = pickle.load(file)\n",
    "file.close()"
   ]
  },
  {
   "cell_type": "code",
   "execution_count": 16,
   "id": "744ccfac",
   "metadata": {},
   "outputs": [],
   "source": [
    "# get predictions\n",
    "y_mc_pred = mc_classifier.predict(X_mc)\n",
    "y_ml_pred = ml_classifier.predict(X_ml)"
   ]
  },
  {
   "cell_type": "code",
   "execution_count": 17,
   "id": "8ac8ccf8",
   "metadata": {},
   "outputs": [
    {
     "name": "stdout",
     "output_type": "stream",
     "text": [
      "Multiclass confusion matrix:\n",
      "[[  0   0   0   0   0   0   0   0   0   0   0   0   0   0]\n",
      " [  0   0   0   0   0   0   0   0   0   0   0   0   0   0]\n",
      " [  0   0   0   0   0   0   0   0   0   0   0   0   0   0]\n",
      " [  0   0   0   0   0   0   0   0   0   0   0   0   0   0]\n",
      " [  0   0   0   0   0   0   0   0   0   0   0   0   0   0]\n",
      " [  0   0   0   0   0   0   0   0   0   0   0   0   0   0]\n",
      " [  0   0   0   0   0   0   0   0   0   0   0   0   0   0]\n",
      " [  0   0   0   0   0   0   0   0   0   0   0   0   0   0]\n",
      " [  0   0   0   0   0   0   0   0   0   0   0   0   0   0]\n",
      " [  2   3   0   6   0   0   1 870   2   0   0   0   0   0]\n",
      " [  4   2   0 916   1   0   5   6   9   0   0   0   0   0]\n",
      " [  1 856   1   2   0   0   4   1   6   0   0   0   0   0]\n",
      " [  1   5   0   4   0   0 869   2   8   0   0   0   0   0]\n",
      " [  7   1   0   3   0   1   2   6 877   0   0   0   0   0]]\n",
      "Multilabel confusion matrix:\n",
      "[[[5.341e+03 0.000e+00]\n",
      "  [5.860e+02 0.000e+00]]\n",
      "\n",
      " [[5.050e+03 0.000e+00]\n",
      "  [8.770e+02 0.000e+00]]\n",
      "\n",
      " [[5.861e+03 0.000e+00]\n",
      "  [6.600e+01 0.000e+00]]\n",
      "\n",
      " [[5.911e+03 0.000e+00]\n",
      "  [1.600e+01 0.000e+00]]\n",
      "\n",
      " [[5.914e+03 0.000e+00]\n",
      "  [1.300e+01 0.000e+00]]\n",
      "\n",
      " [[5.925e+03 0.000e+00]\n",
      "  [2.000e+00 0.000e+00]]\n",
      "\n",
      " [[5.915e+03 0.000e+00]\n",
      "  [1.200e+01 0.000e+00]]\n",
      "\n",
      " [[5.916e+03 0.000e+00]\n",
      "  [1.100e+01 0.000e+00]]\n",
      "\n",
      " [[5.864e+03 0.000e+00]\n",
      "  [6.300e+01 0.000e+00]]\n",
      "\n",
      " [[5.913e+03 0.000e+00]\n",
      "  [1.400e+01 0.000e+00]]\n",
      "\n",
      " [[5.913e+03 0.000e+00]\n",
      "  [1.400e+01 0.000e+00]]\n",
      "\n",
      " [[5.853e+03 0.000e+00]\n",
      "  [7.400e+01 0.000e+00]]\n",
      "\n",
      " [[5.918e+03 0.000e+00]\n",
      "  [9.000e+00 0.000e+00]]\n",
      "\n",
      " [[5.851e+03 0.000e+00]\n",
      "  [7.600e+01 0.000e+00]]\n",
      "\n",
      " [[5.012e+03 0.000e+00]\n",
      "  [9.150e+02 0.000e+00]]\n",
      "\n",
      " [[5.846e+03 0.000e+00]\n",
      "  [8.100e+01 0.000e+00]]\n",
      "\n",
      " [[5.921e+03 0.000e+00]\n",
      "  [6.000e+00 0.000e+00]]\n",
      "\n",
      " [[5.912e+03 0.000e+00]\n",
      "  [1.500e+01 0.000e+00]]\n",
      "\n",
      " [[5.866e+03 0.000e+00]\n",
      "  [6.100e+01 0.000e+00]]\n",
      "\n",
      " [[5.906e+03 0.000e+00]\n",
      "  [2.100e+01 0.000e+00]]\n",
      "\n",
      " [[5.824e+03 0.000e+00]\n",
      "  [1.030e+02 0.000e+00]]\n",
      "\n",
      " [[5.023e+03 0.000e+00]\n",
      "  [9.040e+02 0.000e+00]]\n",
      "\n",
      " [[5.863e+03 0.000e+00]\n",
      "  [6.400e+01 0.000e+00]]\n",
      "\n",
      " [[5.913e+03 0.000e+00]\n",
      "  [1.400e+01 0.000e+00]]\n",
      "\n",
      " [[5.856e+03 0.000e+00]\n",
      "  [7.100e+01 0.000e+00]]\n",
      "\n",
      " [[5.082e+03 0.000e+00]\n",
      "  [8.450e+02 0.000e+00]]\n",
      "\n",
      " [[5.854e+03 0.000e+00]\n",
      "  [7.300e+01 0.000e+00]]\n",
      "\n",
      " [[5.006e+03 0.000e+00]\n",
      "  [9.210e+02 0.000e+00]]\n",
      "\n",
      " [[4.759e+03 1.168e+03]\n",
      "  [0.000e+00 0.000e+00]]\n",
      "\n",
      " [[4.663e+03 1.264e+03]\n",
      "  [0.000e+00 0.000e+00]]\n",
      "\n",
      " [[4.825e+03 1.102e+03]\n",
      "  [0.000e+00 0.000e+00]]\n",
      "\n",
      " [[4.792e+03 1.135e+03]\n",
      "  [0.000e+00 0.000e+00]]\n",
      "\n",
      " [[4.669e+03 1.258e+03]\n",
      "  [0.000e+00 0.000e+00]]]\n"
     ]
    }
   ],
   "source": [
    "# confusion matrixes\n",
    "print(\"Multiclass confusion matrix:\")\n",
    "print(confusion_matrix(y_mc, y_mc_pred))\n",
    "\n",
    "print(\"Multilabel confusion matrix:\")\n",
    "print(multilabel_confusion_matrix(y_ml, y_ml_pred))\n"
   ]
  },
  {
   "cell_type": "code",
   "execution_count": 18,
   "id": "18ca1d63",
   "metadata": {},
   "outputs": [
    {
     "data": {
      "text/plain": [
       "<sklearn.metrics._plot.confusion_matrix.ConfusionMatrixDisplay at 0x7f9582abae80>"
      ]
     },
     "execution_count": 18,
     "metadata": {},
     "output_type": "execute_result"
    },
    {
     "data": {
      "image/png": "[encoded data removed]",
      "text/plain": [
       "<Figure size 432x288 with 2 Axes>"
      ]
     },
     "metadata": {
      "needs_background": "light"
     },
     "output_type": "display_data"
    }
   ],
   "source": [
    "# plot multiclass confusion matrix\n",
    "ConfusionMatrixDisplay(confusion_matrix=confusion_matrix(y_mc, y_mc_pred)).plot()"
   ]
  },
  {
   "cell_type": "code",
   "execution_count": 19,
   "id": "f59ff3ac",
   "metadata": {},
   "outputs": [
    {
     "ename": "TypeError",
     "evalue": "Invalid shape (33, 2, 2) for image data",
     "output_type": "error",
     "traceback": [
      "\u001b[0;31m---------------------------------------------------------------------------\u001b[0m",
      "\u001b[0;31mTypeError\u001b[0m                                 Traceback (most recent call last)",
      "\u001b[1;32m/Users/yousufabdelfatah/Desktop/Spring_2022/text_as_data/text-data-spr22/homework/hw2-goals-approaches/yaa46/readme.ipynb Cell 28'\u001b[0m in \u001b[0;36m<cell line: 2>\u001b[0;34m()\u001b[0m\n\u001b[1;32m      <a href='vscode-notebook-cell:/Users/yousufabdelfatah/Desktop/Spring_2022/text_as_data/text-data-spr22/homework/hw2-goals-approaches/yaa46/readme.ipynb#ch0000025?line=0'>1</a>\u001b[0m \u001b[39m# multilabel confusion matrix plot\u001b[39;00m\n\u001b[0;32m----> <a href='vscode-notebook-cell:/Users/yousufabdelfatah/Desktop/Spring_2022/text_as_data/text-data-spr22/homework/hw2-goals-approaches/yaa46/readme.ipynb#ch0000025?line=1'>2</a>\u001b[0m ConfusionMatrixDisplay(confusion_matrix\u001b[39m=\u001b[39;49mmultilabel_confusion_matrix(y_ml, y_ml_pred))\u001b[39m.\u001b[39;49mplot()\n",
      "File \u001b[0;32m~/opt/anaconda3/lib/python3.8/site-packages/sklearn/metrics/_plot/confusion_matrix.py:131\u001b[0m, in \u001b[0;36mConfusionMatrixDisplay.plot\u001b[0;34m(self, include_values, cmap, xticks_rotation, values_format, ax, colorbar)\u001b[0m\n\u001b[1;32m    <a href='file:///Users/yousufabdelfatah/opt/anaconda3/lib/python3.8/site-packages/sklearn/metrics/_plot/confusion_matrix.py?line=128'>129</a>\u001b[0m cm \u001b[39m=\u001b[39m \u001b[39mself\u001b[39m\u001b[39m.\u001b[39mconfusion_matrix\n\u001b[1;32m    <a href='file:///Users/yousufabdelfatah/opt/anaconda3/lib/python3.8/site-packages/sklearn/metrics/_plot/confusion_matrix.py?line=129'>130</a>\u001b[0m n_classes \u001b[39m=\u001b[39m cm\u001b[39m.\u001b[39mshape[\u001b[39m0\u001b[39m]\n\u001b[0;32m--> <a href='file:///Users/yousufabdelfatah/opt/anaconda3/lib/python3.8/site-packages/sklearn/metrics/_plot/confusion_matrix.py?line=130'>131</a>\u001b[0m \u001b[39mself\u001b[39m\u001b[39m.\u001b[39mim_ \u001b[39m=\u001b[39m ax\u001b[39m.\u001b[39;49mimshow(cm, interpolation\u001b[39m=\u001b[39;49m\u001b[39m\"\u001b[39;49m\u001b[39mnearest\u001b[39;49m\u001b[39m\"\u001b[39;49m, cmap\u001b[39m=\u001b[39;49mcmap)\n\u001b[1;32m    <a href='file:///Users/yousufabdelfatah/opt/anaconda3/lib/python3.8/site-packages/sklearn/metrics/_plot/confusion_matrix.py?line=131'>132</a>\u001b[0m \u001b[39mself\u001b[39m\u001b[39m.\u001b[39mtext_ \u001b[39m=\u001b[39m \u001b[39mNone\u001b[39;00m\n\u001b[1;32m    <a href='file:///Users/yousufabdelfatah/opt/anaconda3/lib/python3.8/site-packages/sklearn/metrics/_plot/confusion_matrix.py?line=132'>133</a>\u001b[0m cmap_min, cmap_max \u001b[39m=\u001b[39m \u001b[39mself\u001b[39m\u001b[39m.\u001b[39mim_\u001b[39m.\u001b[39mcmap(\u001b[39m0\u001b[39m), \u001b[39mself\u001b[39m\u001b[39m.\u001b[39mim_\u001b[39m.\u001b[39mcmap(\u001b[39m1.0\u001b[39m)\n",
      "File \u001b[0;32m~/opt/anaconda3/lib/python3.8/site-packages/matplotlib/_api/deprecation.py:456\u001b[0m, in \u001b[0;36mmake_keyword_only.<locals>.wrapper\u001b[0;34m(*args, **kwargs)\u001b[0m\n\u001b[1;32m    <a href='file:///Users/yousufabdelfatah/opt/anaconda3/lib/python3.8/site-packages/matplotlib/_api/deprecation.py?line=449'>450</a>\u001b[0m \u001b[39mif\u001b[39;00m \u001b[39mlen\u001b[39m(args) \u001b[39m>\u001b[39m name_idx:\n\u001b[1;32m    <a href='file:///Users/yousufabdelfatah/opt/anaconda3/lib/python3.8/site-packages/matplotlib/_api/deprecation.py?line=450'>451</a>\u001b[0m     warn_deprecated(\n\u001b[1;32m    <a href='file:///Users/yousufabdelfatah/opt/anaconda3/lib/python3.8/site-packages/matplotlib/_api/deprecation.py?line=451'>452</a>\u001b[0m         since, message\u001b[39m=\u001b[39m\u001b[39m\"\u001b[39m\u001b[39mPassing the \u001b[39m\u001b[39m%(name)s\u001b[39;00m\u001b[39m \u001b[39m\u001b[39m%(obj_type)s\u001b[39;00m\u001b[39m \u001b[39m\u001b[39m\"\u001b[39m\n\u001b[1;32m    <a href='file:///Users/yousufabdelfatah/opt/anaconda3/lib/python3.8/site-packages/matplotlib/_api/deprecation.py?line=452'>453</a>\u001b[0m         \u001b[39m\"\u001b[39m\u001b[39mpositionally is deprecated since Matplotlib \u001b[39m\u001b[39m%(since)s\u001b[39;00m\u001b[39m; the \u001b[39m\u001b[39m\"\u001b[39m\n\u001b[1;32m    <a href='file:///Users/yousufabdelfatah/opt/anaconda3/lib/python3.8/site-packages/matplotlib/_api/deprecation.py?line=453'>454</a>\u001b[0m         \u001b[39m\"\u001b[39m\u001b[39mparameter will become keyword-only \u001b[39m\u001b[39m%(removal)s\u001b[39;00m\u001b[39m.\u001b[39m\u001b[39m\"\u001b[39m,\n\u001b[1;32m    <a href='file:///Users/yousufabdelfatah/opt/anaconda3/lib/python3.8/site-packages/matplotlib/_api/deprecation.py?line=454'>455</a>\u001b[0m         name\u001b[39m=\u001b[39mname, obj_type\u001b[39m=\u001b[39m\u001b[39mf\u001b[39m\u001b[39m\"\u001b[39m\u001b[39mparameter of \u001b[39m\u001b[39m{\u001b[39;00mfunc\u001b[39m.\u001b[39m\u001b[39m__name__\u001b[39m\u001b[39m}\u001b[39;00m\u001b[39m()\u001b[39m\u001b[39m\"\u001b[39m)\n\u001b[0;32m--> <a href='file:///Users/yousufabdelfatah/opt/anaconda3/lib/python3.8/site-packages/matplotlib/_api/deprecation.py?line=455'>456</a>\u001b[0m \u001b[39mreturn\u001b[39;00m func(\u001b[39m*\u001b[39;49margs, \u001b[39m*\u001b[39;49m\u001b[39m*\u001b[39;49mkwargs)\n",
      "File \u001b[0;32m~/opt/anaconda3/lib/python3.8/site-packages/matplotlib/__init__.py:1412\u001b[0m, in \u001b[0;36m_preprocess_data.<locals>.inner\u001b[0;34m(ax, data, *args, **kwargs)\u001b[0m\n\u001b[1;32m   <a href='file:///Users/yousufabdelfatah/opt/anaconda3/lib/python3.8/site-packages/matplotlib/__init__.py?line=1408'>1409</a>\u001b[0m \u001b[39m@functools\u001b[39m\u001b[39m.\u001b[39mwraps(func)\n\u001b[1;32m   <a href='file:///Users/yousufabdelfatah/opt/anaconda3/lib/python3.8/site-packages/matplotlib/__init__.py?line=1409'>1410</a>\u001b[0m \u001b[39mdef\u001b[39;00m \u001b[39minner\u001b[39m(ax, \u001b[39m*\u001b[39margs, data\u001b[39m=\u001b[39m\u001b[39mNone\u001b[39;00m, \u001b[39m*\u001b[39m\u001b[39m*\u001b[39mkwargs):\n\u001b[1;32m   <a href='file:///Users/yousufabdelfatah/opt/anaconda3/lib/python3.8/site-packages/matplotlib/__init__.py?line=1410'>1411</a>\u001b[0m     \u001b[39mif\u001b[39;00m data \u001b[39mis\u001b[39;00m \u001b[39mNone\u001b[39;00m:\n\u001b[0;32m-> <a href='file:///Users/yousufabdelfatah/opt/anaconda3/lib/python3.8/site-packages/matplotlib/__init__.py?line=1411'>1412</a>\u001b[0m         \u001b[39mreturn\u001b[39;00m func(ax, \u001b[39m*\u001b[39;49m\u001b[39mmap\u001b[39;49m(sanitize_sequence, args), \u001b[39m*\u001b[39;49m\u001b[39m*\u001b[39;49mkwargs)\n\u001b[1;32m   <a href='file:///Users/yousufabdelfatah/opt/anaconda3/lib/python3.8/site-packages/matplotlib/__init__.py?line=1413'>1414</a>\u001b[0m     bound \u001b[39m=\u001b[39m new_sig\u001b[39m.\u001b[39mbind(ax, \u001b[39m*\u001b[39margs, \u001b[39m*\u001b[39m\u001b[39m*\u001b[39mkwargs)\n\u001b[1;32m   <a href='file:///Users/yousufabdelfatah/opt/anaconda3/lib/python3.8/site-packages/matplotlib/__init__.py?line=1414'>1415</a>\u001b[0m     auto_label \u001b[39m=\u001b[39m (bound\u001b[39m.\u001b[39marguments\u001b[39m.\u001b[39mget(label_namer)\n\u001b[1;32m   <a href='file:///Users/yousufabdelfatah/opt/anaconda3/lib/python3.8/site-packages/matplotlib/__init__.py?line=1415'>1416</a>\u001b[0m                   \u001b[39mor\u001b[39;00m bound\u001b[39m.\u001b[39mkwargs\u001b[39m.\u001b[39mget(label_namer))\n",
      "File \u001b[0;32m~/opt/anaconda3/lib/python3.8/site-packages/matplotlib/axes/_axes.py:5488\u001b[0m, in \u001b[0;36mAxes.imshow\u001b[0;34m(self, X, cmap, norm, aspect, interpolation, alpha, vmin, vmax, origin, extent, interpolation_stage, filternorm, filterrad, resample, url, **kwargs)\u001b[0m\n\u001b[1;32m   <a href='file:///Users/yousufabdelfatah/opt/anaconda3/lib/python3.8/site-packages/matplotlib/axes/_axes.py?line=5480'>5481</a>\u001b[0m \u001b[39mself\u001b[39m\u001b[39m.\u001b[39mset_aspect(aspect)\n\u001b[1;32m   <a href='file:///Users/yousufabdelfatah/opt/anaconda3/lib/python3.8/site-packages/matplotlib/axes/_axes.py?line=5481'>5482</a>\u001b[0m im \u001b[39m=\u001b[39m mimage\u001b[39m.\u001b[39mAxesImage(\u001b[39mself\u001b[39m, cmap, norm, interpolation,\n\u001b[1;32m   <a href='file:///Users/yousufabdelfatah/opt/anaconda3/lib/python3.8/site-packages/matplotlib/axes/_axes.py?line=5482'>5483</a>\u001b[0m                       origin, extent, filternorm\u001b[39m=\u001b[39mfilternorm,\n\u001b[1;32m   <a href='file:///Users/yousufabdelfatah/opt/anaconda3/lib/python3.8/site-packages/matplotlib/axes/_axes.py?line=5483'>5484</a>\u001b[0m                       filterrad\u001b[39m=\u001b[39mfilterrad, resample\u001b[39m=\u001b[39mresample,\n\u001b[1;32m   <a href='file:///Users/yousufabdelfatah/opt/anaconda3/lib/python3.8/site-packages/matplotlib/axes/_axes.py?line=5484'>5485</a>\u001b[0m                       interpolation_stage\u001b[39m=\u001b[39minterpolation_stage,\n\u001b[1;32m   <a href='file:///Users/yousufabdelfatah/opt/anaconda3/lib/python3.8/site-packages/matplotlib/axes/_axes.py?line=5485'>5486</a>\u001b[0m                       \u001b[39m*\u001b[39m\u001b[39m*\u001b[39mkwargs)\n\u001b[0;32m-> <a href='file:///Users/yousufabdelfatah/opt/anaconda3/lib/python3.8/site-packages/matplotlib/axes/_axes.py?line=5487'>5488</a>\u001b[0m im\u001b[39m.\u001b[39;49mset_data(X)\n\u001b[1;32m   <a href='file:///Users/yousufabdelfatah/opt/anaconda3/lib/python3.8/site-packages/matplotlib/axes/_axes.py?line=5488'>5489</a>\u001b[0m im\u001b[39m.\u001b[39mset_alpha(alpha)\n\u001b[1;32m   <a href='file:///Users/yousufabdelfatah/opt/anaconda3/lib/python3.8/site-packages/matplotlib/axes/_axes.py?line=5489'>5490</a>\u001b[0m \u001b[39mif\u001b[39;00m im\u001b[39m.\u001b[39mget_clip_path() \u001b[39mis\u001b[39;00m \u001b[39mNone\u001b[39;00m:\n\u001b[1;32m   <a href='file:///Users/yousufabdelfatah/opt/anaconda3/lib/python3.8/site-packages/matplotlib/axes/_axes.py?line=5490'>5491</a>\u001b[0m     \u001b[39m# image does not already have clipping set, clip to axes patch\u001b[39;00m\n",
      "File \u001b[0;32m~/opt/anaconda3/lib/python3.8/site-packages/matplotlib/image.py:715\u001b[0m, in \u001b[0;36m_ImageBase.set_data\u001b[0;34m(self, A)\u001b[0m\n\u001b[1;32m    <a href='file:///Users/yousufabdelfatah/opt/anaconda3/lib/python3.8/site-packages/matplotlib/image.py?line=710'>711</a>\u001b[0m     \u001b[39mself\u001b[39m\u001b[39m.\u001b[39m_A \u001b[39m=\u001b[39m \u001b[39mself\u001b[39m\u001b[39m.\u001b[39m_A[:, :, \u001b[39m0\u001b[39m]\n\u001b[1;32m    <a href='file:///Users/yousufabdelfatah/opt/anaconda3/lib/python3.8/site-packages/matplotlib/image.py?line=712'>713</a>\u001b[0m \u001b[39mif\u001b[39;00m \u001b[39mnot\u001b[39;00m (\u001b[39mself\u001b[39m\u001b[39m.\u001b[39m_A\u001b[39m.\u001b[39mndim \u001b[39m==\u001b[39m \u001b[39m2\u001b[39m\n\u001b[1;32m    <a href='file:///Users/yousufabdelfatah/opt/anaconda3/lib/python3.8/site-packages/matplotlib/image.py?line=713'>714</a>\u001b[0m         \u001b[39mor\u001b[39;00m \u001b[39mself\u001b[39m\u001b[39m.\u001b[39m_A\u001b[39m.\u001b[39mndim \u001b[39m==\u001b[39m \u001b[39m3\u001b[39m \u001b[39mand\u001b[39;00m \u001b[39mself\u001b[39m\u001b[39m.\u001b[39m_A\u001b[39m.\u001b[39mshape[\u001b[39m-\u001b[39m\u001b[39m1\u001b[39m] \u001b[39min\u001b[39;00m [\u001b[39m3\u001b[39m, \u001b[39m4\u001b[39m]):\n\u001b[0;32m--> <a href='file:///Users/yousufabdelfatah/opt/anaconda3/lib/python3.8/site-packages/matplotlib/image.py?line=714'>715</a>\u001b[0m     \u001b[39mraise\u001b[39;00m \u001b[39mTypeError\u001b[39;00m(\u001b[39m\"\u001b[39m\u001b[39mInvalid shape \u001b[39m\u001b[39m{}\u001b[39;00m\u001b[39m for image data\u001b[39m\u001b[39m\"\u001b[39m\n\u001b[1;32m    <a href='file:///Users/yousufabdelfatah/opt/anaconda3/lib/python3.8/site-packages/matplotlib/image.py?line=715'>716</a>\u001b[0m                     \u001b[39m.\u001b[39mformat(\u001b[39mself\u001b[39m\u001b[39m.\u001b[39m_A\u001b[39m.\u001b[39mshape))\n\u001b[1;32m    <a href='file:///Users/yousufabdelfatah/opt/anaconda3/lib/python3.8/site-packages/matplotlib/image.py?line=717'>718</a>\u001b[0m \u001b[39mif\u001b[39;00m \u001b[39mself\u001b[39m\u001b[39m.\u001b[39m_A\u001b[39m.\u001b[39mndim \u001b[39m==\u001b[39m \u001b[39m3\u001b[39m:\n\u001b[1;32m    <a href='file:///Users/yousufabdelfatah/opt/anaconda3/lib/python3.8/site-packages/matplotlib/image.py?line=718'>719</a>\u001b[0m     \u001b[39m# If the input data has values outside the valid range (after\u001b[39;00m\n\u001b[1;32m    <a href='file:///Users/yousufabdelfatah/opt/anaconda3/lib/python3.8/site-packages/matplotlib/image.py?line=719'>720</a>\u001b[0m     \u001b[39m# normalisation), we issue a warning and then clip X to the bounds\u001b[39;00m\n\u001b[1;32m    <a href='file:///Users/yousufabdelfatah/opt/anaconda3/lib/python3.8/site-packages/matplotlib/image.py?line=720'>721</a>\u001b[0m     \u001b[39m# - otherwise casting wraps extreme values, hiding outliers and\u001b[39;00m\n\u001b[1;32m    <a href='file:///Users/yousufabdelfatah/opt/anaconda3/lib/python3.8/site-packages/matplotlib/image.py?line=721'>722</a>\u001b[0m     \u001b[39m# making reliable interpretation impossible.\u001b[39;00m\n\u001b[1;32m    <a href='file:///Users/yousufabdelfatah/opt/anaconda3/lib/python3.8/site-packages/matplotlib/image.py?line=722'>723</a>\u001b[0m     high \u001b[39m=\u001b[39m \u001b[39m255\u001b[39m \u001b[39mif\u001b[39;00m np\u001b[39m.\u001b[39missubdtype(\u001b[39mself\u001b[39m\u001b[39m.\u001b[39m_A\u001b[39m.\u001b[39mdtype, np\u001b[39m.\u001b[39minteger) \u001b[39melse\u001b[39;00m \u001b[39m1\u001b[39m\n",
      "\u001b[0;31mTypeError\u001b[0m: Invalid shape (33, 2, 2) for image data"
     ]
    },
    {
     "data": {
      "image/png": "[encoded data removed]",
      "text/plain": [
       "<Figure size 432x288 with 1 Axes>"
      ]
     },
     "metadata": {
      "needs_background": "light"
     },
     "output_type": "display_data"
    }
   ],
   "source": [
    "# multilabel confusion matrix plot\n",
    "ConfusionMatrixDisplay(confusion_matrix=multilabel_confusion_matrix(y_ml, y_ml_pred)).plot()"
   ]
  },
  {
   "cell_type": "code",
   "execution_count": 20,
   "id": "788d8ca8",
   "metadata": {},
   "outputs": [
    {
     "name": "stdout",
     "output_type": "stream",
     "text": [
      "[0.90051458 0.89301802 0.8503937  0.96774194 0.91666667 0.\n",
      " 0.95652174 0.95238095 0.82882883 0.88       0.88       0.76033058\n",
      " 0.61538462 0.80314961 0.88900979 0.87581699 0.90909091 0.96551724\n",
      " 0.84210526 0.89473684 0.79329609 0.90588883 0.85964912 0.83333333\n",
      " 0.8503937  0.89001692 0.85074627 0.86342229]\n",
      "[0.90517241 0.88209121 0.8852459  1.         1.         0.\n",
      " 1.         1.         0.95833333 1.         1.         0.9787234\n",
      " 1.         1.         0.8851571  0.93055556 1.         1.\n",
      " 0.90566038 1.         0.93421053 0.90142388 0.98       1.\n",
      " 0.96428571 0.85021552 0.93442623 0.83333333]\n",
      "[0.89590444 0.90421893 0.81818182 0.9375     0.84615385 0.\n",
      " 0.91666667 0.90909091 0.73015873 0.78571429 0.78571429 0.62162162\n",
      " 0.44444444 0.67105263 0.89289617 0.82716049 0.83333333 0.93333333\n",
      " 0.78688525 0.80952381 0.68932039 0.91039823 0.765625   0.71428571\n",
      " 0.76056338 0.93372781 0.78082192 0.89576547]\n"
     ]
    }
   ],
   "source": [
    "# How are they doing? Let's look at scores!\n",
    "\n",
    "# multilabel\n",
    "from multilabel import f1, precision, recall\n",
    "print(f1)\n",
    "print(precision)\n",
    "print(recall)"
   ]
  },
  {
   "cell_type": "markdown",
   "id": "5a04b35e",
   "metadata": {},
   "source": [
    "Really good at precision, eh at recall, not bad overall"
   ]
  },
  {
   "cell_type": "code",
   "execution_count": 21,
   "id": "dc123a13",
   "metadata": {},
   "outputs": [
    {
     "name": "stdout",
     "output_type": "stream",
     "text": [
      "[0.93175409 0.93203883 0.92440854 0.92912514 0.91231964]\n",
      "[0.92913386 0.94840834 0.92923434 0.91494002 0.90828729]\n",
      "[0.93438914 0.91622481 0.91963261 0.94375703 0.91638796]\n"
     ]
    }
   ],
   "source": [
    "# multiclass\n",
    "from multiclass import f1, precision, recall\n",
    "print(f1)\n",
    "print(precision)\n",
    "print(recall)"
   ]
  },
  {
   "cell_type": "markdown",
   "id": "bdab0fb3",
   "metadata": {},
   "source": [
    "pretty good all around- balanced between precision and recall"
   ]
  },
  {
   "cell_type": "markdown",
   "id": "474852ca",
   "metadata": {},
   "source": []
  },
  {
   "cell_type": "markdown",
   "id": "02985dfa",
   "metadata": {},
   "source": [
    "## Part 3: Regression?\n",
    "\n",
    "> Can we predict the EDHREC \"rank\" of the card using the data we have available? \n",
    "\n",
    "- Like above, add a script and dvc stage to create and train your model\n",
    "- in the notebook, aside from your descriptions, plot the `predicted` vs. `actual` rank, with a 45-deg line showing what \"perfect prediction\" should look like. \n",
    "- This is a freeform part, so think about the big picture and keep track of your decisions: \n",
    "    - what model did you choose? Why? \n",
    "    - What data did you use from the original dataset? How did you proprocess it? \n",
    "    - Can we see the importance of those features? e.g. logistic weights? \n",
    "    \n",
    "How did you do? What would you like to try if you had more time? \n"
   ]
  },
  {
   "cell_type": "code",
   "execution_count": 22,
   "id": "13f2f79f",
   "metadata": {},
   "outputs": [],
   "source": [
    "# plot predicted vs actual\n",
    "import matplotlib.pyplot as plt\n",
    "file = open(\"regression.pkl\",'rb')\n",
    "clf = pickle.load(file)\n",
    "file.close()\n"
   ]
  },
  {
   "cell_type": "code",
   "execution_count": 23,
   "id": "62eaea33",
   "metadata": {},
   "outputs": [
    {
     "data": {
      "image/png": "[encoded data removed]",
      "text/plain": [
       "<Figure size 432x288 with 1 Axes>"
      ]
     },
     "metadata": {
      "needs_background": "light"
     },
     "output_type": "display_data"
    }
   ],
   "source": [
    "from regression import y_test, X_test \n",
    "\n",
    "#predict the test set\n",
    "y_pred = clf.predict(X_test)\n",
    "\n",
    "fig, ax = plt.subplots()\n",
    "ax.scatter(y_test, y_pred, edgecolors=(0, 0, 0))\n",
    "ax.plot([y_test.min(), y_test.max()], [y_test.min(), y_test.max()], \"k--\", lw=4)\n",
    "ax.set_xlabel(\"Measured\")\n",
    "ax.set_ylabel(\"Predicted\")\n",
    "plt.show()"
   ]
  },
  {
   "cell_type": "markdown",
   "id": "ac7db49c",
   "metadata": {},
   "source": [
    "This is garbage- maybe try lasso"
   ]
  },
  {
   "cell_type": "markdown",
   "id": "a434f99e",
   "metadata": {},
   "source": [
    "#### what regression model did I choose?\n",
    "linear regression in part because it's easily interpretable"
   ]
  },
  {
   "cell_type": "markdown",
   "id": "659aafb2",
   "metadata": {},
   "source": [
    "#### what data do we use and how did I process it? \n",
    "\n",
    "first selection based just off what sounds important: \n",
    "mtg = pd.read_feather('../../../data/mtg.feather')[['edhrec_rank', 'color_identity', 'converted_mana_cost', 'power', 'toughness', 'rarity', 'subtypes', \\\n",
    "'supertypes', 'types', 'text', 'flavor_text', 'life', 'block']]\n",
    "\n",
    "Lots of NAs in power, toughness, and life so I got rid of those\n",
    "I thought we could make categoires for supertypes and subtypes but there were so many that it didn't really amke sense to do so so I then got rid of those\n",
    "Turned rarity into a bynch of dummies as well as blocks and types (33 possible) \n",
    "32 possible color combos so made them dummies too\n",
    "- this is relying on a lot of dummies\n",
    "\n",
    "Combined flavor text and text into one column, vectorized, made a tfidf dtm and appended that to the dataframe \n",
    "\n",
    "train test split of 80/20"
   ]
  },
  {
   "cell_type": "code",
   "execution_count": 24,
   "id": "33c03734",
   "metadata": {},
   "outputs": [],
   "source": [
    "# feature importance!\n",
    "# get importance in descending order\n",
    "import numpy as np\n",
    "importance = np.sort(clf.coef_)"
   ]
  },
  {
   "cell_type": "code",
   "execution_count": 25,
   "id": "6039649e",
   "metadata": {},
   "outputs": [
    {
     "data": {
      "text/plain": [
       "Index(['converted_mana_cost', 'rarity_common', 'rarity_uncommon',\n",
       "       'block_Amonkhet', 'block_Arena League', 'block_Battle for Zendikar',\n",
       "       'block_Commander', 'block_Conspiracy', 'block_Core Set',\n",
       "       'block_Friday Night Magic',\n",
       "       ...\n",
       "       '{x} {b}', '{x} {g}', '{x} {r}', '{x} {t}', '{x} {u}', '{x} {w}',\n",
       "       '{x} {x}', 'äagesdotter', 'äagesdotter archmage', 'æther'],\n",
       "      dtype='object', length=14548)"
      ]
     },
     "execution_count": 25,
     "metadata": {},
     "output_type": "execute_result"
    }
   ],
   "source": [
    "X_test.columns"
   ]
  },
  {
   "cell_type": "code",
   "execution_count": 26,
   "id": "97f64f8f",
   "metadata": {},
   "outputs": [
    {
     "name": "stdout",
     "output_type": "stream",
     "text": [
      "                          0             0\n",
      "0       converted_mana_cost -6.257591e+15\n",
      "1             rarity_common -1.610108e+15\n",
      "2           rarity_uncommon -1.306452e+15\n",
      "3            block_Amonkhet -1.249636e+15\n",
      "4        block_Arena League -1.244173e+15\n",
      "...                     ...           ...\n",
      "14543               {x} {w}  2.095421e+15\n",
      "14544               {x} {x}  3.772375e+15\n",
      "14545           äagesdotter  4.813504e+15\n",
      "14546  äagesdotter archmage  4.887563e+15\n",
      "14547                 æther  2.094798e+16\n",
      "\n",
      "[14548 rows x 2 columns]\n"
     ]
    }
   ],
   "source": [
    "feature_importance = pd.concat([pd.DataFrame(X_test.columns), pd.DataFrame(importance)], axis=1)\n",
    "print(feature_importance)"
   ]
  },
  {
   "cell_type": "code",
   "execution_count": 27,
   "id": "18f8d964",
   "metadata": {},
   "outputs": [
    {
     "name": "stdout",
     "output_type": "stream",
     "text": [
      "Feature: 0, Score: -1610108481444373.75000\n",
      "Feature: 1, Score: -1306451947923153.25000\n",
      "Feature: 2, Score: -1249635909413360.50000\n",
      "Feature: 3, Score: -1244173332731319.25000\n",
      "Feature: 4, Score: -1228675353188780.50000\n",
      "Feature: 5, Score: -888661657768704.12500\n",
      "Feature: 6, Score: -887054258120794.12500\n",
      "Feature: 7, Score: -536710282614186.43750\n",
      "Feature: 8, Score: -285717236535703.93750\n"
     ]
    },
    {
     "data": {
      "image/png": "[encoded data removed]",
      "text/plain": [
       "<Figure size 432x288 with 1 Axes>"
      ]
     },
     "metadata": {
      "needs_background": "light"
     },
     "output_type": "display_data"
    }
   ],
   "source": [
    "# summarize feature importance\n",
    "for i,v in enumerate(importance[1:10]):\n",
    "\tprint('Feature: %0d, Score: %.5f' % (i,v))\n",
    "# plot feature importance\n",
    "plt.bar([x for x in range(len(importance))], importance)\n",
    "plt.xlabel('Features')\n",
    "plt.show()"
   ]
  }
 ],
 "metadata": {
  "interpreter": {
   "hash": "470f6f016bf309f80cf8017155ce6d7ccfc6ca9fae0b4a451c57f17a587998f9"
  },
  "jupytext": {
   "formats": "ipynb,md:myst",
   "text_representation": {
    "extension": ".md",
    "format_name": "myst",
    "format_version": 0.13,
    "jupytext_version": "1.11.5"
   }
  },
  "kernelspec": {
   "display_name": "Python [conda env:text-data-class]",
   "language": "python",
   "name": "python3"
  },
  "language_info": {
   "codemirror_mode": {
    "name": "ipython",
    "version": 3
   },
   "file_extension": ".py",
   "mimetype": "text/x-python",
   "name": "python",
   "nbconvert_exporter": "python",
   "pygments_lexer": "ipython3",
   "version": "3.8.12"
  }
 },
 "nbformat": 4,
 "nbformat_minor": 5
}
