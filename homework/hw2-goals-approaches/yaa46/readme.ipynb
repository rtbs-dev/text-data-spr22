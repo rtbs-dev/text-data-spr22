{
 "cells": [
  {
   "cell_type": "markdown",
   "id": "18ce53e6",
   "metadata": {},
   "source": [
    "# Homework: Goals & Approaches\n",
    "\n",
    "> The body grows stronger under stress. The mind does not.\n",
    "> \n",
    ">  -- Magic the Gathering, _Fractured Sanity_\n",
    "\n",
    "This homework deals with the goals you must define, along with the approaches you deem necessary to achieve those goals. \n",
    "Key to this will be a focus on your _workflows_: \n",
    "\n",
    "- are they reproducible? \n",
    "- are they maintainable? \n",
    "- are they well-justified and communicated? \n",
    "\n",
    "This is not a \"machine-learning\" course, but machine learning plays a large part in modern text analysis and NLP. \n",
    "Machine learning, in-turn, has a number of issues tracking and solving issues in a collaborative, asynchronous, distributed manner. \n",
    "\n",
    "It's not inherently _wrong_ to use pre-configured models and libraries! \n",
    "In fact, you will likely be unable to create a set of ML algorithms that \"beat\" something others have spent 100's of hours creating, optimizing, and validating. \n",
    "However, to answer the three questions above, we need a way to explicitly track our decisions to use others' work, and efficiently _swap out_ that work for new ideas and directions as the need arises. \n",
    "\n",
    "This homework is a \"part 1\" of sorts, where you will construct several inter-related pipelines in a way that will allow _much easier_ adjustment, experimentation, and measurement in \"part 2\"\n",
    "\n",
    "\n"
   ]
  },
  {
   "cell_type": "markdown",
   "id": "0641ba71",
   "metadata": {},
   "source": [
    "## Setup\n",
    "\n",
    "### Dependencies \n",
    "As before, ensure you have an up-to-date environment to isolate your work. \n",
    "Use the `environment.yml` file in the project root to create/update the `text-data-class` environment. \n",
    "> I expect any additional dependencies to be added here, which will show up on your pull-request. \n",
    "\n",
    "### Data\n",
    "Once again, we have set things up to use DVC to import our data. \n",
    "If the data changes, things will automatically update! \n",
    "The data for this homework has been imported as `mtg.feather` under the `data/` directory at the top-level of this repository. \n",
    "In order to ensure your local copy of the repo has the actual data (instead of just the `mtg.feather.dvc` stub-file), you need to run `dvc pull`"
   ]
  },
  {
   "cell_type": "code",
   "execution_count": 1,
   "id": "509a8b89",
   "metadata": {},
   "outputs": [
    {
     "name": "stdout",
     "output_type": "stream",
     "text": [
      "Everything is up to date.                                                       \n",
      "\u001b[0m"
     ]
    }
   ],
   "source": [
    "!dvc pull"
   ]
  },
  {
   "cell_type": "markdown",
   "id": "a95a606a",
   "metadata": {},
   "source": [
    "Then you may load the data into your notebooks and scripts e.g. using pandas+pyarrow:"
   ]
  },
  {
   "cell_type": "code",
   "execution_count": 2,
   "id": "4787010c",
   "metadata": {},
   "outputs": [
    {
     "data": {
      "text/html": [
       "<div>\n",
       "<style scoped>\n",
       "    .dataframe tbody tr th:only-of-type {\n",
       "        vertical-align: middle;\n",
       "    }\n",
       "\n",
       "    .dataframe tbody tr th {\n",
       "        vertical-align: top;\n",
       "    }\n",
       "\n",
       "    .dataframe thead th {\n",
       "        text-align: right;\n",
       "    }\n",
       "</style>\n",
       "<table border=\"1\" class=\"dataframe\">\n",
       "  <thead>\n",
       "    <tr style=\"text-align: right;\">\n",
       "      <th></th>\n",
       "      <th>name</th>\n",
       "      <th>text</th>\n",
       "      <th>mana_cost</th>\n",
       "      <th>flavor_text</th>\n",
       "      <th>release_date</th>\n",
       "      <th>edhrec_rank</th>\n",
       "    </tr>\n",
       "  </thead>\n",
       "  <tbody>\n",
       "    <tr>\n",
       "      <th>0</th>\n",
       "      <td>Ancestor's Chosen</td>\n",
       "      <td>First strike (This creature deals combat damag...</td>\n",
       "      <td>[5, W, W]</td>\n",
       "      <td>&lt;NA&gt;</td>\n",
       "      <td>2007-07-13</td>\n",
       "      <td>16916.0</td>\n",
       "    </tr>\n",
       "    <tr>\n",
       "      <th>1</th>\n",
       "      <td>Angel of Mercy</td>\n",
       "      <td>Flying\n",
       "When Angel of Mercy enters the battlefi...</td>\n",
       "      <td>[4, W]</td>\n",
       "      <td>Every tear shed is a drop of immortality.</td>\n",
       "      <td>2007-07-13</td>\n",
       "      <td>14430.0</td>\n",
       "    </tr>\n",
       "    <tr>\n",
       "      <th>2</th>\n",
       "      <td>Aven Cloudchaser</td>\n",
       "      <td>Flying (This creature can't be blocked except ...</td>\n",
       "      <td>[3, W]</td>\n",
       "      <td>&lt;NA&gt;</td>\n",
       "      <td>2007-07-13</td>\n",
       "      <td>13098.0</td>\n",
       "    </tr>\n",
       "    <tr>\n",
       "      <th>3</th>\n",
       "      <td>Ballista Squad</td>\n",
       "      <td>{X}{W}, {T}: Ballista Squad deals X damage to ...</td>\n",
       "      <td>[3, W]</td>\n",
       "      <td>The perfect antidote for a tightly packed form...</td>\n",
       "      <td>2007-07-13</td>\n",
       "      <td>14972.0</td>\n",
       "    </tr>\n",
       "    <tr>\n",
       "      <th>4</th>\n",
       "      <td>Bandage</td>\n",
       "      <td>Prevent the next 1 damage that would be dealt ...</td>\n",
       "      <td>[W]</td>\n",
       "      <td>Life is measured in inches. To a healer, every...</td>\n",
       "      <td>2007-07-13</td>\n",
       "      <td>4980.0</td>\n",
       "    </tr>\n",
       "  </tbody>\n",
       "</table>\n",
       "</div>"
      ],
      "text/plain": [
       "                name                                               text  \\\n",
       "0  Ancestor's Chosen  First strike (This creature deals combat damag...   \n",
       "1     Angel of Mercy  Flying\n",
       "When Angel of Mercy enters the battlefi...   \n",
       "2   Aven Cloudchaser  Flying (This creature can't be blocked except ...   \n",
       "3     Ballista Squad  {X}{W}, {T}: Ballista Squad deals X damage to ...   \n",
       "4            Bandage  Prevent the next 1 damage that would be dealt ...   \n",
       "\n",
       "   mana_cost                                        flavor_text release_date  \\\n",
       "0  [5, W, W]                                               <NA>   2007-07-13   \n",
       "1     [4, W]          Every tear shed is a drop of immortality.   2007-07-13   \n",
       "2     [3, W]                                               <NA>   2007-07-13   \n",
       "3     [3, W]  The perfect antidote for a tightly packed form...   2007-07-13   \n",
       "4        [W]  Life is measured in inches. To a healer, every...   2007-07-13   \n",
       "\n",
       "   edhrec_rank  \n",
       "0      16916.0  \n",
       "1      14430.0  \n",
       "2      13098.0  \n",
       "3      14972.0  \n",
       "4       4980.0  "
      ]
     },
     "execution_count": 2,
     "metadata": {},
     "output_type": "execute_result"
    }
   ],
   "source": [
    "import pandas as pd\n",
    "(pd.read_feather('../../data/mtg.feather')# <-- will need to change for your notebook location\n",
    " .head()[['name','text', 'mana_cost', 'flavor_text','release_date', 'edhrec_rank']]  \n",
    ")"
   ]
  },
  {
   "cell_type": "markdown",
   "id": "ce2e06cf",
   "metadata": {},
   "source": [
    "But that's not all --- at the end of this homework, we will be able to run a `dvc repro` command and all of our main models and results will be made available for your _notebook_ to open and display. "
   ]
  },
  {
   "cell_type": "markdown",
   "id": "c2e5d788",
   "metadata": {},
   "source": [
    "### Submission Structure\n",
    "You will need to submit a pull-request on DagsHub with the following additions: \n",
    "\n",
    "- your subfolder, e.g. named with your user id, inside the `homework/hw2-goals-approaches/` folder\n",
    "    - your \"lab notebook\", as an **`.ipynb` or `.md`** (e.g. jupytext), that will be exported to PDF for Canvas submission. **This communicates your _goals_**, along with the results that will be compared to them. \n",
    "    - your **`dvc.yaml`** file that will define  the inputs and outputs of your _approaches_. See [the DVC documentation](https://dvc.org/doc/user-guide/project-structure/pipelines-files) for information!\n",
    "    - **source code** and **scripts** that define the preprocessing and prediction `Pipeline`'s you wish to create. You may then _print_ the content of those scripts at the end of your notebook e.g. as appendices using \n",
    "- any updates to `environment.yml` to add the dependencies you want to use for this homework\n"
   ]
  },
  {
   "cell_type": "markdown",
   "id": "f1bca163",
   "metadata": {},
   "source": [
    "## Part 1: Unsupervised Exploration\n",
    "\n",
    "Investigate the [BERTopic](https://maartengr.github.io/BERTopic/index.html) documentation (linked), and train a model using their library to create a topic model of the `flavor_text` data in the dataset above. \n",
    "\n",
    "- In a `topic_model.py`, load the data and train a bertopic model. You will `save` the model in that script as a new trained model object\n",
    "- add a \"topic-model\" stage to your `dvc.yaml` that has `mtg.feather` and `topic_model.py` as dependencies, and your trained model as an output\n",
    "- load the trained bertopic model into your notebook and display\n",
    "    1. the `topic_visualization` interactive plot [see docs](https://maartengr.github.io/BERTopic/api/plotting/topics.html)\n",
    "    2. Use the plot to come up with working \"names\" for each major topic, adjusting the _number_ of topics as necessary to make things more useful. \n",
    "    3. Once you have names, create a _Dynamic Topic Model_ by following [their documentation](https://maartengr.github.io/BERTopic/getting_started/topicsovertime/topicsovertime.html). Use the `release_date` column as timestamps. \n",
    "    4. Describe what you see, and any possible issues with the topic models BERTopic has created. **This is the hardest part... interpreting!**"
   ]
  },
  {
   "cell_type": "code",
   "execution_count": 2,
   "id": "f6aa7eb0",
   "metadata": {},
   "outputs": [
    {
     "name": "stderr",
     "output_type": "stream",
     "text": [
      "Batches: 100%|██████████| 927/927 [08:42<00:00,  1.77it/s]\n",
      "2022-04-26 18:46:53,869 - BERTopic - Transformed documents to Embeddings\n",
      "2022-04-26 18:47:11,630 - BERTopic - Reduced dimensionality with UMAP\n"
     ]
    },
    {
     "name": "stdout",
     "output_type": "stream",
     "text": [
      "huggingface/tokenizers: The current process just got forked, after parallelism has already been used. Disabling parallelism to avoid deadlocks...\n",
      "To disable this warning, you can either:\n",
      "\t- Avoid using `tokenizers` before the fork if possible\n",
      "\t- Explicitly set the environment variable TOKENIZERS_PARALLELISM=(true | false)\n",
      "huggingface/tokenizers: The current process just got forked, after parallelism has already been used. Disabling parallelism to avoid deadlocks...\n",
      "To disable this warning, you can either:\n",
      "\t- Avoid using `tokenizers` before the fork if possible\n",
      "\t- Explicitly set the environment variable TOKENIZERS_PARALLELISM=(true | false)\n",
      "huggingface/tokenizers: The current process just got forked, after parallelism has already been used. Disabling parallelism to avoid deadlocks...\n",
      "To disable this warning, you can either:\n",
      "\t- Avoid using `tokenizers` before the fork if possible\n",
      "\t- Explicitly set the environment variable TOKENIZERS_PARALLELISM=(true | false)\n",
      "huggingface/tokenizers: The current process just got forked, after parallelism has already been used. Disabling parallelism to avoid deadlocks...\n",
      "To disable this warning, you can either:\n",
      "\t- Avoid using `tokenizers` before the fork if possible\n",
      "\t- Explicitly set the environment variable TOKENIZERS_PARALLELISM=(true | false)\n",
      "huggingface/tokenizers: The current process just got forked, after parallelism has already been used. Disabling parallelism to avoid deadlocks...\n",
      "To disable this warning, you can either:\n",
      "\t- Avoid using `tokenizers` before the fork if possible\n",
      "\t- Explicitly set the environment variable TOKENIZERS_PARALLELISM=(true | false)\n"
     ]
    },
    {
     "name": "stderr",
     "output_type": "stream",
     "text": [
      "2022-04-26 18:47:15,749 - BERTopic - Clustered UMAP embeddings with HDBSCAN\n",
      "2022-04-26 18:48:00,428 - BERTopic - Reduced number of topics from 928 to 130\n",
      "2022-04-26 18:48:02,747 - BERTopic - Reduced number of topics from 130 to 21\n",
      "/Users/yousufabdelfatah/opt/anaconda3/lib/python3.8/site-packages/scipy/sparse/_index.py:125: SparseEfficiencyWarning: Changing the sparsity structure of a csr_matrix is expensive. lil_matrix is more efficient.\n",
      "  self._set_arrayXarray(i, j, x)\n"
     ]
    }
   ],
   "source": [
    "from bertopic import BERTopic\n",
    "import pandas as pd\n",
    "\n",
    "# load model and display \n",
    "topic_model = BERTopic.load(\"my_model\")\n",
    "\n",
    "# load topic model variables\n",
    "from topic_model import mtg as text\n",
    "from topic_model import topics as topics\n",
    "from topic_model import probs as probs"
   ]
  },
  {
   "cell_type": "code",
   "execution_count": 8,
   "id": "219f7704",
   "metadata": {},
   "outputs": [],
   "source": [
    "# load data\n",
    "mtg = pd.read_feather('../../../data/mtg.feather')"
   ]
  },
  {
   "cell_type": "code",
   "execution_count": 3,
   "id": "9be9d982",
   "metadata": {},
   "outputs": [
    {
     "data": {
      "application/vnd.plotly.v1+json": {
       "config": {
        "plotlyServerURL": "https://plot.ly"
       },
       "data": [
        {
         "marker": {
          "color": "#D55E00"
         },
         "orientation": "h",
         "type": "bar",
         "x": [
          0.005105248815870998,
          0.005341484544579794,
          0.00808673040840601,
          0.009246692388469412,
          0.015005927369541781
         ],
         "xaxis": "x",
         "y": [
          "with the  ",
          "from the  ",
          "to the  ",
          "in the  ",
          "of the  "
         ],
         "yaxis": "y"
        },
        {
         "marker": {
          "color": "#0072B2"
         },
         "orientation": "h",
         "type": "bar",
         "x": [
          0.034046522147840944,
          0.039270504558299064,
          0.04372278245863337,
          0.13087094403730135,
          0.13301573930849228
         ],
         "xaxis": "x2",
         "y": [
          "vol iv  ",
          "the orcs  ",
          "vol iii  ",
          "empires vol  ",
          "sarpadian empires  "
         ],
         "yaxis": "y2"
        },
        {
         "marker": {
          "color": "#CC79A7"
         },
         "orientation": "h",
         "type": "bar",
         "x": [
          0.0523744065523461,
          0.0523744065523461,
          0.0633856997984057,
          0.0633856997984057,
          0.0837998803715113
         ],
         "xaxis": "x3",
         "y": [
          "voice is  ",
          "her voice  ",
          "reality sculptor  ",
          "ixidor reality  ",
          "the cabal  "
         ],
         "yaxis": "y3"
        },
        {
         "marker": {
          "color": "#E69F00"
         },
         "orientation": "h",
         "type": "bar",
         "x": [
          0.04432154959500328,
          0.04746250437391867,
          0.06923566206547757,
          0.06989076219832067,
          0.10966956526571195
         ],
         "xaxis": "x4",
         "y": [
          "the history  ",
          "the war  ",
          "kami war  ",
          "of kamigawa  ",
          "the kami  "
         ],
         "yaxis": "y4"
        },
        {
         "marker": {
          "color": "#56B4E9"
         },
         "orientation": "h",
         "type": "bar",
         "x": [
          0.07525305047643782,
          0.07525305047643782,
          0.07525305047643782,
          0.19431472303833333,
          0.20091226502496506
         ],
         "xaxis": "x5",
         "y": [
          "west into  ",
          "great unknown  ",
          "unquiet past  ",
          "into the  ",
          "jace beleren  "
         ],
         "yaxis": "y5"
        },
        {
         "marker": {
          "color": "#009E73"
         },
         "orientation": "h",
         "type": "bar",
         "x": [
          0.05255009217934612,
          0.060726605408219066,
          0.07989664737893588,
          0.09911477700140191,
          0.1301145410720769
         ],
         "xaxis": "x6",
         "y": [
          "gada halimar  ",
          "gate expeditionary  ",
          "sea gate  ",
          "expedition leader  ",
          "expeditionary house  "
         ],
         "yaxis": "y6"
        },
        {
         "marker": {
          "color": "#F0E442"
         },
         "orientation": "h",
         "type": "bar",
         "x": [
          0.038357882334399754,
          0.038357882334399754,
          0.055553006513660824,
          0.05699217200006193,
          0.06216310588358552
         ],
         "xaxis": "x7",
         "y": [
          "field journal  ",
          "rukarumel field  ",
          "the hive  ",
          "riptide project  ",
          "the slivers  "
         ],
         "yaxis": "y7"
        },
        {
         "marker": {
          "color": "#D55E00"
         },
         "orientation": "h",
         "type": "bar",
         "x": [
          0.09052488609156788,
          0.09851573637754703,
          0.10222480863403467,
          0.12027437014218138,
          0.1580788356648991
         ],
         "xaxis": "x8",
         "y": [
          "absence follow  ",
          "and death  ",
          "life and  ",
          "the light  ",
          "designed by  "
         ],
         "yaxis": "y8"
        }
       ],
       "layout": {
        "annotations": [
         {
          "font": {
           "size": 16
          },
          "showarrow": false,
          "text": "Topic -1",
          "x": 0.0875,
          "xanchor": "center",
          "xref": "paper",
          "y": 1,
          "yanchor": "bottom",
          "yref": "paper"
         },
         {
          "font": {
           "size": 16
          },
          "showarrow": false,
          "text": "Topic 1",
          "x": 0.36250000000000004,
          "xanchor": "center",
          "xref": "paper",
          "y": 1,
          "yanchor": "bottom",
          "yref": "paper"
         },
         {
          "font": {
           "size": 16
          },
          "showarrow": false,
          "text": "Topic 2",
          "x": 0.6375000000000001,
          "xanchor": "center",
          "xref": "paper",
          "y": 1,
          "yanchor": "bottom",
          "yref": "paper"
         },
         {
          "font": {
           "size": 16
          },
          "showarrow": false,
          "text": "Topic 3",
          "x": 0.9125,
          "xanchor": "center",
          "xref": "paper",
          "y": 1,
          "yanchor": "bottom",
          "yref": "paper"
         },
         {
          "font": {
           "size": 16
          },
          "showarrow": false,
          "text": "Topic 4",
          "x": 0.0875,
          "xanchor": "center",
          "xref": "paper",
          "y": 0.4,
          "yanchor": "bottom",
          "yref": "paper"
         },
         {
          "font": {
           "size": 16
          },
          "showarrow": false,
          "text": "Topic 5",
          "x": 0.36250000000000004,
          "xanchor": "center",
          "xref": "paper",
          "y": 0.4,
          "yanchor": "bottom",
          "yref": "paper"
         },
         {
          "font": {
           "size": 16
          },
          "showarrow": false,
          "text": "Topic 6",
          "x": 0.6375000000000001,
          "xanchor": "center",
          "xref": "paper",
          "y": 0.4,
          "yanchor": "bottom",
          "yref": "paper"
         },
         {
          "font": {
           "size": 16
          },
          "showarrow": false,
          "text": "Topic 7",
          "x": 0.9125,
          "xanchor": "center",
          "xref": "paper",
          "y": 0.4,
          "yanchor": "bottom",
          "yref": "paper"
         }
        ],
        "height": 500,
        "hoverlabel": {
         "bgcolor": "white",
         "font": {
          "family": "Rockwell",
          "size": 16
         }
        },
        "showlegend": false,
        "template": {
         "data": {
          "bar": [
           {
            "error_x": {
             "color": "#2a3f5f"
            },
            "error_y": {
             "color": "#2a3f5f"
            },
            "marker": {
             "line": {
              "color": "white",
              "width": 0.5
             },
             "pattern": {
              "fillmode": "overlay",
              "size": 10,
              "solidity": 0.2
             }
            },
            "type": "bar"
           }
          ],
          "barpolar": [
           {
            "marker": {
             "line": {
              "color": "white",
              "width": 0.5
             },
             "pattern": {
              "fillmode": "overlay",
              "size": 10,
              "solidity": 0.2
             }
            },
            "type": "barpolar"
           }
          ],
          "carpet": [
           {
            "aaxis": {
             "endlinecolor": "#2a3f5f",
             "gridcolor": "#C8D4E3",
             "linecolor": "#C8D4E3",
             "minorgridcolor": "#C8D4E3",
             "startlinecolor": "#2a3f5f"
            },
            "baxis": {
             "endlinecolor": "#2a3f5f",
             "gridcolor": "#C8D4E3",
             "linecolor": "#C8D4E3",
             "minorgridcolor": "#C8D4E3",
             "startlinecolor": "#2a3f5f"
            },
            "type": "carpet"
           }
          ],
          "choropleth": [
           {
            "colorbar": {
             "outlinewidth": 0,
             "ticks": ""
            },
            "type": "choropleth"
           }
          ],
          "contour": [
           {
            "colorbar": {
             "outlinewidth": 0,
             "ticks": ""
            },
            "colorscale": [
             [
              0,
              "#0d0887"
             ],
             [
              0.1111111111111111,
              "#46039f"
             ],
             [
              0.2222222222222222,
              "#7201a8"
             ],
             [
              0.3333333333333333,
              "#9c179e"
             ],
             [
              0.4444444444444444,
              "#bd3786"
             ],
             [
              0.5555555555555556,
              "#d8576b"
             ],
             [
              0.6666666666666666,
              "#ed7953"
             ],
             [
              0.7777777777777778,
              "#fb9f3a"
             ],
             [
              0.8888888888888888,
              "#fdca26"
             ],
             [
              1,
              "#f0f921"
             ]
            ],
            "type": "contour"
           }
          ],
          "contourcarpet": [
           {
            "colorbar": {
             "outlinewidth": 0,
             "ticks": ""
            },
            "type": "contourcarpet"
           }
          ],
          "heatmap": [
           {
            "colorbar": {
             "outlinewidth": 0,
             "ticks": ""
            },
            "colorscale": [
             [
              0,
              "#0d0887"
             ],
             [
              0.1111111111111111,
              "#46039f"
             ],
             [
              0.2222222222222222,
              "#7201a8"
             ],
             [
              0.3333333333333333,
              "#9c179e"
             ],
             [
              0.4444444444444444,
              "#bd3786"
             ],
             [
              0.5555555555555556,
              "#d8576b"
             ],
             [
              0.6666666666666666,
              "#ed7953"
             ],
             [
              0.7777777777777778,
              "#fb9f3a"
             ],
             [
              0.8888888888888888,
              "#fdca26"
             ],
             [
              1,
              "#f0f921"
             ]
            ],
            "type": "heatmap"
           }
          ],
          "heatmapgl": [
           {
            "colorbar": {
             "outlinewidth": 0,
             "ticks": ""
            },
            "colorscale": [
             [
              0,
              "#0d0887"
             ],
             [
              0.1111111111111111,
              "#46039f"
             ],
             [
              0.2222222222222222,
              "#7201a8"
             ],
             [
              0.3333333333333333,
              "#9c179e"
             ],
             [
              0.4444444444444444,
              "#bd3786"
             ],
             [
              0.5555555555555556,
              "#d8576b"
             ],
             [
              0.6666666666666666,
              "#ed7953"
             ],
             [
              0.7777777777777778,
              "#fb9f3a"
             ],
             [
              0.8888888888888888,
              "#fdca26"
             ],
             [
              1,
              "#f0f921"
             ]
            ],
            "type": "heatmapgl"
           }
          ],
          "histogram": [
           {
            "marker": {
             "pattern": {
              "fillmode": "overlay",
              "size": 10,
              "solidity": 0.2
             }
            },
            "type": "histogram"
           }
          ],
          "histogram2d": [
           {
            "colorbar": {
             "outlinewidth": 0,
             "ticks": ""
            },
            "colorscale": [
             [
              0,
              "#0d0887"
             ],
             [
              0.1111111111111111,
              "#46039f"
             ],
             [
              0.2222222222222222,
              "#7201a8"
             ],
             [
              0.3333333333333333,
              "#9c179e"
             ],
             [
              0.4444444444444444,
              "#bd3786"
             ],
             [
              0.5555555555555556,
              "#d8576b"
             ],
             [
              0.6666666666666666,
              "#ed7953"
             ],
             [
              0.7777777777777778,
              "#fb9f3a"
             ],
             [
              0.8888888888888888,
              "#fdca26"
             ],
             [
              1,
              "#f0f921"
             ]
            ],
            "type": "histogram2d"
           }
          ],
          "histogram2dcontour": [
           {
            "colorbar": {
             "outlinewidth": 0,
             "ticks": ""
            },
            "colorscale": [
             [
              0,
              "#0d0887"
             ],
             [
              0.1111111111111111,
              "#46039f"
             ],
             [
              0.2222222222222222,
              "#7201a8"
             ],
             [
              0.3333333333333333,
              "#9c179e"
             ],
             [
              0.4444444444444444,
              "#bd3786"
             ],
             [
              0.5555555555555556,
              "#d8576b"
             ],
             [
              0.6666666666666666,
              "#ed7953"
             ],
             [
              0.7777777777777778,
              "#fb9f3a"
             ],
             [
              0.8888888888888888,
              "#fdca26"
             ],
             [
              1,
              "#f0f921"
             ]
            ],
            "type": "histogram2dcontour"
           }
          ],
          "mesh3d": [
           {
            "colorbar": {
             "outlinewidth": 0,
             "ticks": ""
            },
            "type": "mesh3d"
           }
          ],
          "parcoords": [
           {
            "line": {
             "colorbar": {
              "outlinewidth": 0,
              "ticks": ""
             }
            },
            "type": "parcoords"
           }
          ],
          "pie": [
           {
            "automargin": true,
            "type": "pie"
           }
          ],
          "scatter": [
           {
            "fillpattern": {
             "fillmode": "overlay",
             "size": 10,
             "solidity": 0.2
            },
            "type": "scatter"
           }
          ],
          "scatter3d": [
           {
            "line": {
             "colorbar": {
              "outlinewidth": 0,
              "ticks": ""
             }
            },
            "marker": {
             "colorbar": {
              "outlinewidth": 0,
              "ticks": ""
             }
            },
            "type": "scatter3d"
           }
          ],
          "scattercarpet": [
           {
            "marker": {
             "colorbar": {
              "outlinewidth": 0,
              "ticks": ""
             }
            },
            "type": "scattercarpet"
           }
          ],
          "scattergeo": [
           {
            "marker": {
             "colorbar": {
              "outlinewidth": 0,
              "ticks": ""
             }
            },
            "type": "scattergeo"
           }
          ],
          "scattergl": [
           {
            "marker": {
             "colorbar": {
              "outlinewidth": 0,
              "ticks": ""
             }
            },
            "type": "scattergl"
           }
          ],
          "scattermapbox": [
           {
            "marker": {
             "colorbar": {
              "outlinewidth": 0,
              "ticks": ""
             }
            },
            "type": "scattermapbox"
           }
          ],
          "scatterpolar": [
           {
            "marker": {
             "colorbar": {
              "outlinewidth": 0,
              "ticks": ""
             }
            },
            "type": "scatterpolar"
           }
          ],
          "scatterpolargl": [
           {
            "marker": {
             "colorbar": {
              "outlinewidth": 0,
              "ticks": ""
             }
            },
            "type": "scatterpolargl"
           }
          ],
          "scatterternary": [
           {
            "marker": {
             "colorbar": {
              "outlinewidth": 0,
              "ticks": ""
             }
            },
            "type": "scatterternary"
           }
          ],
          "surface": [
           {
            "colorbar": {
             "outlinewidth": 0,
             "ticks": ""
            },
            "colorscale": [
             [
              0,
              "#0d0887"
             ],
             [
              0.1111111111111111,
              "#46039f"
             ],
             [
              0.2222222222222222,
              "#7201a8"
             ],
             [
              0.3333333333333333,
              "#9c179e"
             ],
             [
              0.4444444444444444,
              "#bd3786"
             ],
             [
              0.5555555555555556,
              "#d8576b"
             ],
             [
              0.6666666666666666,
              "#ed7953"
             ],
             [
              0.7777777777777778,
              "#fb9f3a"
             ],
             [
              0.8888888888888888,
              "#fdca26"
             ],
             [
              1,
              "#f0f921"
             ]
            ],
            "type": "surface"
           }
          ],
          "table": [
           {
            "cells": {
             "fill": {
              "color": "#EBF0F8"
             },
             "line": {
              "color": "white"
             }
            },
            "header": {
             "fill": {
              "color": "#C8D4E3"
             },
             "line": {
              "color": "white"
             }
            },
            "type": "table"
           }
          ]
         },
         "layout": {
          "annotationdefaults": {
           "arrowcolor": "#2a3f5f",
           "arrowhead": 0,
           "arrowwidth": 1
          },
          "autotypenumbers": "strict",
          "coloraxis": {
           "colorbar": {
            "outlinewidth": 0,
            "ticks": ""
           }
          },
          "colorscale": {
           "diverging": [
            [
             0,
             "#8e0152"
            ],
            [
             0.1,
             "#c51b7d"
            ],
            [
             0.2,
             "#de77ae"
            ],
            [
             0.3,
             "#f1b6da"
            ],
            [
             0.4,
             "#fde0ef"
            ],
            [
             0.5,
             "#f7f7f7"
            ],
            [
             0.6,
             "#e6f5d0"
            ],
            [
             0.7,
             "#b8e186"
            ],
            [
             0.8,
             "#7fbc41"
            ],
            [
             0.9,
             "#4d9221"
            ],
            [
             1,
             "#276419"
            ]
           ],
           "sequential": [
            [
             0,
             "#0d0887"
            ],
            [
             0.1111111111111111,
             "#46039f"
            ],
            [
             0.2222222222222222,
             "#7201a8"
            ],
            [
             0.3333333333333333,
             "#9c179e"
            ],
            [
             0.4444444444444444,
             "#bd3786"
            ],
            [
             0.5555555555555556,
             "#d8576b"
            ],
            [
             0.6666666666666666,
             "#ed7953"
            ],
            [
             0.7777777777777778,
             "#fb9f3a"
            ],
            [
             0.8888888888888888,
             "#fdca26"
            ],
            [
             1,
             "#f0f921"
            ]
           ],
           "sequentialminus": [
            [
             0,
             "#0d0887"
            ],
            [
             0.1111111111111111,
             "#46039f"
            ],
            [
             0.2222222222222222,
             "#7201a8"
            ],
            [
             0.3333333333333333,
             "#9c179e"
            ],
            [
             0.4444444444444444,
             "#bd3786"
            ],
            [
             0.5555555555555556,
             "#d8576b"
            ],
            [
             0.6666666666666666,
             "#ed7953"
            ],
            [
             0.7777777777777778,
             "#fb9f3a"
            ],
            [
             0.8888888888888888,
             "#fdca26"
            ],
            [
             1,
             "#f0f921"
            ]
           ]
          },
          "colorway": [
           "#636efa",
           "#EF553B",
           "#00cc96",
           "#ab63fa",
           "#FFA15A",
           "#19d3f3",
           "#FF6692",
           "#B6E880",
           "#FF97FF",
           "#FECB52"
          ],
          "font": {
           "color": "#2a3f5f"
          },
          "geo": {
           "bgcolor": "white",
           "lakecolor": "white",
           "landcolor": "white",
           "showlakes": true,
           "showland": true,
           "subunitcolor": "#C8D4E3"
          },
          "hoverlabel": {
           "align": "left"
          },
          "hovermode": "closest",
          "mapbox": {
           "style": "light"
          },
          "paper_bgcolor": "white",
          "plot_bgcolor": "white",
          "polar": {
           "angularaxis": {
            "gridcolor": "#EBF0F8",
            "linecolor": "#EBF0F8",
            "ticks": ""
           },
           "bgcolor": "white",
           "radialaxis": {
            "gridcolor": "#EBF0F8",
            "linecolor": "#EBF0F8",
            "ticks": ""
           }
          },
          "scene": {
           "xaxis": {
            "backgroundcolor": "white",
            "gridcolor": "#DFE8F3",
            "gridwidth": 2,
            "linecolor": "#EBF0F8",
            "showbackground": true,
            "ticks": "",
            "zerolinecolor": "#EBF0F8"
           },
           "yaxis": {
            "backgroundcolor": "white",
            "gridcolor": "#DFE8F3",
            "gridwidth": 2,
            "linecolor": "#EBF0F8",
            "showbackground": true,
            "ticks": "",
            "zerolinecolor": "#EBF0F8"
           },
           "zaxis": {
            "backgroundcolor": "white",
            "gridcolor": "#DFE8F3",
            "gridwidth": 2,
            "linecolor": "#EBF0F8",
            "showbackground": true,
            "ticks": "",
            "zerolinecolor": "#EBF0F8"
           }
          },
          "shapedefaults": {
           "line": {
            "color": "#2a3f5f"
           }
          },
          "ternary": {
           "aaxis": {
            "gridcolor": "#DFE8F3",
            "linecolor": "#A2B1C6",
            "ticks": ""
           },
           "baxis": {
            "gridcolor": "#DFE8F3",
            "linecolor": "#A2B1C6",
            "ticks": ""
           },
           "bgcolor": "white",
           "caxis": {
            "gridcolor": "#DFE8F3",
            "linecolor": "#A2B1C6",
            "ticks": ""
           }
          },
          "title": {
           "x": 0.05
          },
          "xaxis": {
           "automargin": true,
           "gridcolor": "#EBF0F8",
           "linecolor": "#EBF0F8",
           "ticks": "",
           "title": {
            "standoff": 15
           },
           "zerolinecolor": "#EBF0F8",
           "zerolinewidth": 2
          },
          "yaxis": {
           "automargin": true,
           "gridcolor": "#EBF0F8",
           "linecolor": "#EBF0F8",
           "ticks": "",
           "title": {
            "standoff": 15
           },
           "zerolinecolor": "#EBF0F8",
           "zerolinewidth": 2
          }
         }
        },
        "title": {
         "font": {
          "color": "Black",
          "size": 22
         },
         "text": "<b>Topic Word Scores",
         "x": 0.5,
         "xanchor": "center",
         "yanchor": "top"
        },
        "width": 1000,
        "xaxis": {
         "anchor": "y",
         "domain": [
          0,
          0.175
         ],
         "showgrid": true
        },
        "xaxis2": {
         "anchor": "y2",
         "domain": [
          0.275,
          0.45
         ],
         "showgrid": true
        },
        "xaxis3": {
         "anchor": "y3",
         "domain": [
          0.55,
          0.7250000000000001
         ],
         "showgrid": true
        },
        "xaxis4": {
         "anchor": "y4",
         "domain": [
          0.825,
          1
         ],
         "showgrid": true
        },
        "xaxis5": {
         "anchor": "y5",
         "domain": [
          0,
          0.175
         ],
         "showgrid": true
        },
        "xaxis6": {
         "anchor": "y6",
         "domain": [
          0.275,
          0.45
         ],
         "showgrid": true
        },
        "xaxis7": {
         "anchor": "y7",
         "domain": [
          0.55,
          0.7250000000000001
         ],
         "showgrid": true
        },
        "xaxis8": {
         "anchor": "y8",
         "domain": [
          0.825,
          1
         ],
         "showgrid": true
        },
        "yaxis": {
         "anchor": "x",
         "domain": [
          0.6000000000000001,
          1
         ],
         "showgrid": true
        },
        "yaxis2": {
         "anchor": "x2",
         "domain": [
          0.6000000000000001,
          1
         ],
         "showgrid": true
        },
        "yaxis3": {
         "anchor": "x3",
         "domain": [
          0.6000000000000001,
          1
         ],
         "showgrid": true
        },
        "yaxis4": {
         "anchor": "x4",
         "domain": [
          0.6000000000000001,
          1
         ],
         "showgrid": true
        },
        "yaxis5": {
         "anchor": "x5",
         "domain": [
          0,
          0.4
         ],
         "showgrid": true
        },
        "yaxis6": {
         "anchor": "x6",
         "domain": [
          0,
          0.4
         ],
         "showgrid": true
        },
        "yaxis7": {
         "anchor": "x7",
         "domain": [
          0,
          0.4
         ],
         "showgrid": true
        },
        "yaxis8": {
         "anchor": "x8",
         "domain": [
          0,
          0.4
         ],
         "showgrid": true
        }
       }
      }
     },
     "metadata": {},
     "output_type": "display_data"
    }
   ],
   "source": [
    "topic_model.visualize_barchart()"
   ]
  },
  {
   "cell_type": "code",
   "execution_count": 4,
   "id": "1c45c470",
   "metadata": {},
   "outputs": [
    {
     "data": {
      "application/vnd.plotly.v1+json": {
       "config": {
        "plotlyServerURL": "https://plot.ly"
       },
       "data": [
        {
         "coloraxis": "coloraxis",
         "hovertemplate": "x: %{x}<br>y: %{y}<br>Similarity Score: %{z}<extra></extra>",
         "name": "0",
         "type": "heatmap",
         "x": [
          "-1_of the_in the_to the",
          "0_of the_in the_to the",
          "1_sarpadian empires_empires...",
          "2_the cabal_ixidor reality_...",
          "3_the kami_of kamigawa_kami...",
          "4_jace beleren_into the_unq...",
          "5_expeditionary house_exped...",
          "6_the slivers_riptide proje...",
          "7_designed by_the light_lif...",
          "8_nicol bolas_punish you_on...",
          "9_to gerrard_youve failed_t...",
          "10_the consulate_the consul...",
          "11_the land_people lie_word...",
          "12_the necromancer_limdl th...",
          "13_of ravnica_in ravnica_or...",
          "14_an eye_involuntary refle...",
          "15_gideon jura_we still_jur...",
          "16_lovisa coldeyes_balduvia...",
          "17_signals to_need signals_...",
          "18_the drakes_drakes are_th...",
          "19_every vine_swift steed_c..."
         ],
         "xaxis": "x",
         "y": [
          "-1_of the_in the_to the",
          "0_of the_in the_to the",
          "1_sarpadian empires_empires...",
          "2_the cabal_ixidor reality_...",
          "3_the kami_of kamigawa_kami...",
          "4_jace beleren_into the_unq...",
          "5_expeditionary house_exped...",
          "6_the slivers_riptide proje...",
          "7_designed by_the light_lif...",
          "8_nicol bolas_punish you_on...",
          "9_to gerrard_youve failed_t...",
          "10_the consulate_the consul...",
          "11_the land_people lie_word...",
          "12_the necromancer_limdl th...",
          "13_of ravnica_in ravnica_or...",
          "14_an eye_involuntary refle...",
          "15_gideon jura_we still_jur...",
          "16_lovisa coldeyes_balduvia...",
          "17_signals to_need signals_...",
          "18_the drakes_drakes are_th...",
          "19_every vine_swift steed_c..."
         ],
         "yaxis": "y",
         "z": [
          [
           1,
           0.9865630124595037,
           0.36200921617164916,
           0.4591179828341816,
           0.5603419907135497,
           0.6223431350501137,
           0.34850734839637076,
           0.49254357751180516,
           0.5690050869414377,
           0.4744152246224061,
           0.4927435249725371,
           0.47660903448406033,
           0.5638990737157636,
           0.47705624825459875,
           0.45503386179407823,
           0.37672406320423213,
           0.40904530124103217,
           0.37817763049807035,
           0.5703321496425389,
           0.5208779207460471,
           0.4405833458917179
          ],
          [
           0.9865630124595037,
           1.0000000000000004,
           0.36926193904675003,
           0.4726128116670383,
           0.5706456216825586,
           0.6102651282318712,
           0.34854944482778333,
           0.5026478677136839,
           0.5705913339951479,
           0.4672446141546452,
           0.5002255649718964,
           0.5008844481783246,
           0.582721488958345,
           0.4901310597998965,
           0.4519186716132628,
           0.3726360108669228,
           0.42154985337013584,
           0.3854890235836484,
           0.5735812795240136,
           0.533010272111635,
           0.44344338143081613
          ],
          [
           0.36200921617164916,
           0.36926193904675003,
           0.9999999999999993,
           0.4506116306150604,
           0.5508168465086479,
           0.5005576241118717,
           0.569692420632259,
           0.47508950902665803,
           0.43265123619252643,
           0.3870721821764056,
           0.2991519039631194,
           0.45749447054879094,
           0.3911787214762149,
           0.40789229827281215,
           0.4542138847208907,
           0.29845943062938,
           0.41998495083660414,
           0.5154337935448793,
           0.4019828174767425,
           0.3892450649328847,
           0.3939990892924645
          ],
          [
           0.4591179828341816,
           0.4726128116670383,
           0.4506116306150604,
           1,
           0.5155356024945056,
           0.5579580761713268,
           0.48179444315269676,
           0.5484775730332133,
           0.5453018015236232,
           0.4642671133943805,
           0.402609303892872,
           0.4447568926372819,
           0.48724934951397086,
           0.5305851520490665,
           0.4431741689859067,
           0.4547362526269579,
           0.5495846710484994,
           0.4911300666004908,
           0.4701682942583499,
           0.5452175121060834,
           0.49307603633019065
          ],
          [
           0.5603419907135497,
           0.5706456216825586,
           0.5508168465086479,
           0.5155356024945056,
           1,
           0.5551726996891932,
           0.5764501091561228,
           0.5716027620912608,
           0.5236785369939385,
           0.48030735522475243,
           0.45082221234503167,
           0.5161405978431507,
           0.49429287159872626,
           0.464659262309486,
           0.46907704548414136,
           0.34711027420166485,
           0.5057893569244419,
           0.4961145347116452,
           0.5404707174778194,
           0.4442830707927975,
           0.5079902074416748
          ],
          [
           0.6223431350501137,
           0.6102651282318712,
           0.5005576241118717,
           0.5579580761713268,
           0.5551726996891932,
           1.0000000000000002,
           0.5312006618226265,
           0.5336465857337458,
           0.5576455247730572,
           0.5489269897662127,
           0.5006172938262331,
           0.5174042670053941,
           0.5198708366702186,
           0.4867341505089531,
           0.5046198952638986,
           0.4172667470786363,
           0.49726223656185176,
           0.44750367598868823,
           0.5574115573551263,
           0.5477555305303256,
           0.5084279289798298
          ],
          [
           0.34850734839637076,
           0.34854944482778333,
           0.569692420632259,
           0.48179444315269676,
           0.5764501091561228,
           0.5312006618226265,
           1,
           0.4397874980618885,
           0.44153908007701526,
           0.39862937229582324,
           0.36580607995094017,
           0.5247617014323309,
           0.3818723148087607,
           0.41244548818824905,
           0.4025757546932341,
           0.2712735882937087,
           0.4549669266487092,
           0.49659544824132845,
           0.400852081791314,
           0.3980142190189528,
           0.4852022187832258
          ],
          [
           0.49254357751180516,
           0.5026478677136839,
           0.47508950902665803,
           0.5484775730332133,
           0.5716027620912608,
           0.5336465857337458,
           0.4397874980618885,
           1.0000000000000004,
           0.5823737944579164,
           0.4311666981443653,
           0.49983510580733936,
           0.5732182592600497,
           0.4927171124389576,
           0.5726024218578744,
           0.4942976482013932,
           0.42159093579225454,
           0.4544905562199284,
           0.44204555704624243,
           0.5253616152324749,
           0.5390723102539329,
           0.5274484282583888
          ],
          [
           0.5690050869414377,
           0.5705913339951479,
           0.43265123619252643,
           0.5453018015236232,
           0.5236785369939385,
           0.5576455247730572,
           0.44153908007701526,
           0.5823737944579164,
           1.0000000000000004,
           0.46715672027247446,
           0.5046393496390792,
           0.4747977226872113,
           0.5362583884822218,
           0.5286351629883397,
           0.46871404923998927,
           0.5182821356254406,
           0.4262072245216924,
           0.4107180862141141,
           0.547210914688145,
           0.558236012387271,
           0.51123093641999
          ],
          [
           0.4744152246224061,
           0.4672446141546452,
           0.3870721821764056,
           0.4642671133943805,
           0.48030735522475243,
           0.5489269897662127,
           0.39862937229582324,
           0.4311666981443653,
           0.46715672027247446,
           1.0000000000000004,
           0.47151106419627403,
           0.374949401745524,
           0.4411536416830635,
           0.4324577696358083,
           0.4526612416713425,
           0.40081562194304754,
           0.5689064224562789,
           0.4237241285447004,
           0.4849491274833196,
           0.46137124213816805,
           0.429129616173382
          ],
          [
           0.4927435249725371,
           0.5002255649718964,
           0.2991519039631194,
           0.402609303892872,
           0.45082221234503167,
           0.5006172938262331,
           0.36580607995094017,
           0.49983510580733936,
           0.5046393496390792,
           0.47151106419627403,
           0.9999999999999998,
           0.4029398855739006,
           0.43494269939994556,
           0.4588305471736869,
           0.4211252138233116,
           0.3490249439161321,
           0.41239032387264474,
           0.34695280296311354,
           0.5044707744272987,
           0.4362505036345239,
           0.4410168721847225
          ],
          [
           0.47660903448406033,
           0.5008844481783246,
           0.45749447054879094,
           0.4447568926372819,
           0.5161405978431507,
           0.5174042670053941,
           0.5247617014323309,
           0.5732182592600497,
           0.4747977226872113,
           0.374949401745524,
           0.4029398855739006,
           1.0000000000000004,
           0.4281846899165602,
           0.5146026730923754,
           0.4558641525031974,
           0.3787791530571277,
           0.44319005651084403,
           0.41849072428087464,
           0.48344203409974235,
           0.4604925503584194,
           0.4994031634580909
          ],
          [
           0.5638990737157636,
           0.582721488958345,
           0.3911787214762149,
           0.48724934951397086,
           0.49429287159872626,
           0.5198708366702186,
           0.3818723148087607,
           0.4927171124389576,
           0.5362583884822218,
           0.4411536416830635,
           0.43494269939994556,
           0.4281846899165602,
           1.0000000000000002,
           0.44403538984337176,
           0.37115755156479807,
           0.3808198891947735,
           0.4159671315266781,
           0.4016632031854385,
           0.5548417189729463,
           0.5187319777015683,
           0.430831441280483
          ],
          [
           0.47705624825459875,
           0.4901310597998965,
           0.40789229827281215,
           0.5305851520490665,
           0.464659262309486,
           0.4867341505089531,
           0.41244548818824905,
           0.5726024218578744,
           0.5286351629883397,
           0.4324577696358083,
           0.4588305471736869,
           0.5146026730923754,
           0.44403538984337176,
           0.9999999999999999,
           0.4047910570681693,
           0.3484208069918941,
           0.45571021984449217,
           0.42584148422869506,
           0.5098487969842502,
           0.4905235738679445,
           0.44021381754523076
          ],
          [
           0.45503386179407823,
           0.4519186716132628,
           0.4542138847208907,
           0.4431741689859067,
           0.46907704548414136,
           0.5046198952638986,
           0.4025757546932341,
           0.4942976482013932,
           0.46871404923998927,
           0.4526612416713425,
           0.4211252138233116,
           0.4558641525031974,
           0.37115755156479807,
           0.4047910570681693,
           1.0000000000000007,
           0.32264171885126125,
           0.40484869071634255,
           0.5117789825473554,
           0.3521070168705881,
           0.3887248493516317,
           0.5340943764915463
          ],
          [
           0.37672406320423213,
           0.3726360108669228,
           0.29845943062938,
           0.4547362526269579,
           0.34711027420166485,
           0.4172667470786363,
           0.2712735882937087,
           0.42159093579225454,
           0.5182821356254406,
           0.40081562194304754,
           0.3490249439161321,
           0.3787791530571277,
           0.3808198891947735,
           0.3484208069918941,
           0.32264171885126125,
           0.9999999999999998,
           0.36020777931488646,
           0.34306315890901196,
           0.4754780273575614,
           0.4118574625538982,
           0.30949865395241866
          ],
          [
           0.40904530124103217,
           0.42154985337013584,
           0.41998495083660414,
           0.5495846710484994,
           0.5057893569244419,
           0.49726223656185176,
           0.4549669266487092,
           0.4544905562199284,
           0.4262072245216924,
           0.5689064224562789,
           0.41239032387264474,
           0.44319005651084403,
           0.4159671315266781,
           0.45571021984449217,
           0.40484869071634255,
           0.36020777931488646,
           0.9999999999999998,
           0.43200567936429013,
           0.4603113626531118,
           0.4816497405365496,
           0.5102306979439841
          ],
          [
           0.37817763049807035,
           0.3854890235836484,
           0.5154337935448793,
           0.4911300666004908,
           0.4961145347116452,
           0.44750367598868823,
           0.49659544824132845,
           0.44204555704624243,
           0.4107180862141141,
           0.4237241285447004,
           0.34695280296311354,
           0.41849072428087464,
           0.4016632031854385,
           0.42584148422869506,
           0.5117789825473554,
           0.34306315890901196,
           0.43200567936429013,
           1.0000000000000007,
           0.3850929055367766,
           0.466485597951831,
           0.43573428794927715
          ],
          [
           0.5703321496425389,
           0.5735812795240136,
           0.4019828174767425,
           0.4701682942583499,
           0.5404707174778194,
           0.5574115573551263,
           0.400852081791314,
           0.5253616152324749,
           0.547210914688145,
           0.4849491274833196,
           0.5044707744272987,
           0.48344203409974235,
           0.5548417189729463,
           0.5098487969842502,
           0.3521070168705881,
           0.4754780273575614,
           0.4603113626531118,
           0.3850929055367766,
           0.9999999999999999,
           0.5339831484298105,
           0.4698898171108817
          ],
          [
           0.5208779207460471,
           0.533010272111635,
           0.3892450649328847,
           0.5452175121060834,
           0.4442830707927975,
           0.5477555305303256,
           0.3980142190189528,
           0.5390723102539329,
           0.558236012387271,
           0.46137124213816805,
           0.4362505036345239,
           0.4604925503584194,
           0.5187319777015683,
           0.4905235738679445,
           0.3887248493516317,
           0.4118574625538982,
           0.4816497405365496,
           0.466485597951831,
           0.5339831484298105,
           0.9999999999999993,
           0.5139189554694583
          ],
          [
           0.4405833458917179,
           0.44344338143081613,
           0.3939990892924645,
           0.49307603633019065,
           0.5079902074416748,
           0.5084279289798298,
           0.4852022187832258,
           0.5274484282583888,
           0.51123093641999,
           0.429129616173382,
           0.4410168721847225,
           0.4994031634580909,
           0.430831441280483,
           0.44021381754523076,
           0.5340943764915463,
           0.30949865395241866,
           0.5102306979439841,
           0.43573428794927715,
           0.4698898171108817,
           0.5139189554694583,
           1.0000000000000004
          ]
         ]
        }
       ],
       "layout": {
        "coloraxis": {
         "colorbar": {
          "title": {
           "text": "Similarity Score"
          }
         },
         "colorscale": [
          [
           0,
           "rgb(247,252,240)"
          ],
          [
           0.125,
           "rgb(224,243,219)"
          ],
          [
           0.25,
           "rgb(204,235,197)"
          ],
          [
           0.375,
           "rgb(168,221,181)"
          ],
          [
           0.5,
           "rgb(123,204,196)"
          ],
          [
           0.625,
           "rgb(78,179,211)"
          ],
          [
           0.75,
           "rgb(43,140,190)"
          ],
          [
           0.875,
           "rgb(8,104,172)"
          ],
          [
           1,
           "rgb(8,64,129)"
          ]
         ]
        },
        "height": 800,
        "hoverlabel": {
         "bgcolor": "white",
         "font": {
          "family": "Rockwell",
          "size": 16
         }
        },
        "legend": {
         "title": {
          "text": "Trend"
         }
        },
        "margin": {
         "t": 60
        },
        "showlegend": true,
        "template": {
         "data": {
          "bar": [
           {
            "error_x": {
             "color": "#2a3f5f"
            },
            "error_y": {
             "color": "#2a3f5f"
            },
            "marker": {
             "line": {
              "color": "#E5ECF6",
              "width": 0.5
             },
             "pattern": {
              "fillmode": "overlay",
              "size": 10,
              "solidity": 0.2
             }
            },
            "type": "bar"
           }
          ],
          "barpolar": [
           {
            "marker": {
             "line": {
              "color": "#E5ECF6",
              "width": 0.5
             },
             "pattern": {
              "fillmode": "overlay",
              "size": 10,
              "solidity": 0.2
             }
            },
            "type": "barpolar"
           }
          ],
          "carpet": [
           {
            "aaxis": {
             "endlinecolor": "#2a3f5f",
             "gridcolor": "white",
             "linecolor": "white",
             "minorgridcolor": "white",
             "startlinecolor": "#2a3f5f"
            },
            "baxis": {
             "endlinecolor": "#2a3f5f",
             "gridcolor": "white",
             "linecolor": "white",
             "minorgridcolor": "white",
             "startlinecolor": "#2a3f5f"
            },
            "type": "carpet"
           }
          ],
          "choropleth": [
           {
            "colorbar": {
             "outlinewidth": 0,
             "ticks": ""
            },
            "type": "choropleth"
           }
          ],
          "contour": [
           {
            "colorbar": {
             "outlinewidth": 0,
             "ticks": ""
            },
            "colorscale": [
             [
              0,
              "#0d0887"
             ],
             [
              0.1111111111111111,
              "#46039f"
             ],
             [
              0.2222222222222222,
              "#7201a8"
             ],
             [
              0.3333333333333333,
              "#9c179e"
             ],
             [
              0.4444444444444444,
              "#bd3786"
             ],
             [
              0.5555555555555556,
              "#d8576b"
             ],
             [
              0.6666666666666666,
              "#ed7953"
             ],
             [
              0.7777777777777778,
              "#fb9f3a"
             ],
             [
              0.8888888888888888,
              "#fdca26"
             ],
             [
              1,
              "#f0f921"
             ]
            ],
            "type": "contour"
           }
          ],
          "contourcarpet": [
           {
            "colorbar": {
             "outlinewidth": 0,
             "ticks": ""
            },
            "type": "contourcarpet"
           }
          ],
          "heatmap": [
           {
            "colorbar": {
             "outlinewidth": 0,
             "ticks": ""
            },
            "colorscale": [
             [
              0,
              "#0d0887"
             ],
             [
              0.1111111111111111,
              "#46039f"
             ],
             [
              0.2222222222222222,
              "#7201a8"
             ],
             [
              0.3333333333333333,
              "#9c179e"
             ],
             [
              0.4444444444444444,
              "#bd3786"
             ],
             [
              0.5555555555555556,
              "#d8576b"
             ],
             [
              0.6666666666666666,
              "#ed7953"
             ],
             [
              0.7777777777777778,
              "#fb9f3a"
             ],
             [
              0.8888888888888888,
              "#fdca26"
             ],
             [
              1,
              "#f0f921"
             ]
            ],
            "type": "heatmap"
           }
          ],
          "heatmapgl": [
           {
            "colorbar": {
             "outlinewidth": 0,
             "ticks": ""
            },
            "colorscale": [
             [
              0,
              "#0d0887"
             ],
             [
              0.1111111111111111,
              "#46039f"
             ],
             [
              0.2222222222222222,
              "#7201a8"
             ],
             [
              0.3333333333333333,
              "#9c179e"
             ],
             [
              0.4444444444444444,
              "#bd3786"
             ],
             [
              0.5555555555555556,
              "#d8576b"
             ],
             [
              0.6666666666666666,
              "#ed7953"
             ],
             [
              0.7777777777777778,
              "#fb9f3a"
             ],
             [
              0.8888888888888888,
              "#fdca26"
             ],
             [
              1,
              "#f0f921"
             ]
            ],
            "type": "heatmapgl"
           }
          ],
          "histogram": [
           {
            "marker": {
             "pattern": {
              "fillmode": "overlay",
              "size": 10,
              "solidity": 0.2
             }
            },
            "type": "histogram"
           }
          ],
          "histogram2d": [
           {
            "colorbar": {
             "outlinewidth": 0,
             "ticks": ""
            },
            "colorscale": [
             [
              0,
              "#0d0887"
             ],
             [
              0.1111111111111111,
              "#46039f"
             ],
             [
              0.2222222222222222,
              "#7201a8"
             ],
             [
              0.3333333333333333,
              "#9c179e"
             ],
             [
              0.4444444444444444,
              "#bd3786"
             ],
             [
              0.5555555555555556,
              "#d8576b"
             ],
             [
              0.6666666666666666,
              "#ed7953"
             ],
             [
              0.7777777777777778,
              "#fb9f3a"
             ],
             [
              0.8888888888888888,
              "#fdca26"
             ],
             [
              1,
              "#f0f921"
             ]
            ],
            "type": "histogram2d"
           }
          ],
          "histogram2dcontour": [
           {
            "colorbar": {
             "outlinewidth": 0,
             "ticks": ""
            },
            "colorscale": [
             [
              0,
              "#0d0887"
             ],
             [
              0.1111111111111111,
              "#46039f"
             ],
             [
              0.2222222222222222,
              "#7201a8"
             ],
             [
              0.3333333333333333,
              "#9c179e"
             ],
             [
              0.4444444444444444,
              "#bd3786"
             ],
             [
              0.5555555555555556,
              "#d8576b"
             ],
             [
              0.6666666666666666,
              "#ed7953"
             ],
             [
              0.7777777777777778,
              "#fb9f3a"
             ],
             [
              0.8888888888888888,
              "#fdca26"
             ],
             [
              1,
              "#f0f921"
             ]
            ],
            "type": "histogram2dcontour"
           }
          ],
          "mesh3d": [
           {
            "colorbar": {
             "outlinewidth": 0,
             "ticks": ""
            },
            "type": "mesh3d"
           }
          ],
          "parcoords": [
           {
            "line": {
             "colorbar": {
              "outlinewidth": 0,
              "ticks": ""
             }
            },
            "type": "parcoords"
           }
          ],
          "pie": [
           {
            "automargin": true,
            "type": "pie"
           }
          ],
          "scatter": [
           {
            "fillpattern": {
             "fillmode": "overlay",
             "size": 10,
             "solidity": 0.2
            },
            "type": "scatter"
           }
          ],
          "scatter3d": [
           {
            "line": {
             "colorbar": {
              "outlinewidth": 0,
              "ticks": ""
             }
            },
            "marker": {
             "colorbar": {
              "outlinewidth": 0,
              "ticks": ""
             }
            },
            "type": "scatter3d"
           }
          ],
          "scattercarpet": [
           {
            "marker": {
             "colorbar": {
              "outlinewidth": 0,
              "ticks": ""
             }
            },
            "type": "scattercarpet"
           }
          ],
          "scattergeo": [
           {
            "marker": {
             "colorbar": {
              "outlinewidth": 0,
              "ticks": ""
             }
            },
            "type": "scattergeo"
           }
          ],
          "scattergl": [
           {
            "marker": {
             "colorbar": {
              "outlinewidth": 0,
              "ticks": ""
             }
            },
            "type": "scattergl"
           }
          ],
          "scattermapbox": [
           {
            "marker": {
             "colorbar": {
              "outlinewidth": 0,
              "ticks": ""
             }
            },
            "type": "scattermapbox"
           }
          ],
          "scatterpolar": [
           {
            "marker": {
             "colorbar": {
              "outlinewidth": 0,
              "ticks": ""
             }
            },
            "type": "scatterpolar"
           }
          ],
          "scatterpolargl": [
           {
            "marker": {
             "colorbar": {
              "outlinewidth": 0,
              "ticks": ""
             }
            },
            "type": "scatterpolargl"
           }
          ],
          "scatterternary": [
           {
            "marker": {
             "colorbar": {
              "outlinewidth": 0,
              "ticks": ""
             }
            },
            "type": "scatterternary"
           }
          ],
          "surface": [
           {
            "colorbar": {
             "outlinewidth": 0,
             "ticks": ""
            },
            "colorscale": [
             [
              0,
              "#0d0887"
             ],
             [
              0.1111111111111111,
              "#46039f"
             ],
             [
              0.2222222222222222,
              "#7201a8"
             ],
             [
              0.3333333333333333,
              "#9c179e"
             ],
             [
              0.4444444444444444,
              "#bd3786"
             ],
             [
              0.5555555555555556,
              "#d8576b"
             ],
             [
              0.6666666666666666,
              "#ed7953"
             ],
             [
              0.7777777777777778,
              "#fb9f3a"
             ],
             [
              0.8888888888888888,
              "#fdca26"
             ],
             [
              1,
              "#f0f921"
             ]
            ],
            "type": "surface"
           }
          ],
          "table": [
           {
            "cells": {
             "fill": {
              "color": "#EBF0F8"
             },
             "line": {
              "color": "white"
             }
            },
            "header": {
             "fill": {
              "color": "#C8D4E3"
             },
             "line": {
              "color": "white"
             }
            },
            "type": "table"
           }
          ]
         },
         "layout": {
          "annotationdefaults": {
           "arrowcolor": "#2a3f5f",
           "arrowhead": 0,
           "arrowwidth": 1
          },
          "autotypenumbers": "strict",
          "coloraxis": {
           "colorbar": {
            "outlinewidth": 0,
            "ticks": ""
           }
          },
          "colorscale": {
           "diverging": [
            [
             0,
             "#8e0152"
            ],
            [
             0.1,
             "#c51b7d"
            ],
            [
             0.2,
             "#de77ae"
            ],
            [
             0.3,
             "#f1b6da"
            ],
            [
             0.4,
             "#fde0ef"
            ],
            [
             0.5,
             "#f7f7f7"
            ],
            [
             0.6,
             "#e6f5d0"
            ],
            [
             0.7,
             "#b8e186"
            ],
            [
             0.8,
             "#7fbc41"
            ],
            [
             0.9,
             "#4d9221"
            ],
            [
             1,
             "#276419"
            ]
           ],
           "sequential": [
            [
             0,
             "#0d0887"
            ],
            [
             0.1111111111111111,
             "#46039f"
            ],
            [
             0.2222222222222222,
             "#7201a8"
            ],
            [
             0.3333333333333333,
             "#9c179e"
            ],
            [
             0.4444444444444444,
             "#bd3786"
            ],
            [
             0.5555555555555556,
             "#d8576b"
            ],
            [
             0.6666666666666666,
             "#ed7953"
            ],
            [
             0.7777777777777778,
             "#fb9f3a"
            ],
            [
             0.8888888888888888,
             "#fdca26"
            ],
            [
             1,
             "#f0f921"
            ]
           ],
           "sequentialminus": [
            [
             0,
             "#0d0887"
            ],
            [
             0.1111111111111111,
             "#46039f"
            ],
            [
             0.2222222222222222,
             "#7201a8"
            ],
            [
             0.3333333333333333,
             "#9c179e"
            ],
            [
             0.4444444444444444,
             "#bd3786"
            ],
            [
             0.5555555555555556,
             "#d8576b"
            ],
            [
             0.6666666666666666,
             "#ed7953"
            ],
            [
             0.7777777777777778,
             "#fb9f3a"
            ],
            [
             0.8888888888888888,
             "#fdca26"
            ],
            [
             1,
             "#f0f921"
            ]
           ]
          },
          "colorway": [
           "#636efa",
           "#EF553B",
           "#00cc96",
           "#ab63fa",
           "#FFA15A",
           "#19d3f3",
           "#FF6692",
           "#B6E880",
           "#FF97FF",
           "#FECB52"
          ],
          "font": {
           "color": "#2a3f5f"
          },
          "geo": {
           "bgcolor": "white",
           "lakecolor": "white",
           "landcolor": "#E5ECF6",
           "showlakes": true,
           "showland": true,
           "subunitcolor": "white"
          },
          "hoverlabel": {
           "align": "left"
          },
          "hovermode": "closest",
          "mapbox": {
           "style": "light"
          },
          "paper_bgcolor": "white",
          "plot_bgcolor": "#E5ECF6",
          "polar": {
           "angularaxis": {
            "gridcolor": "white",
            "linecolor": "white",
            "ticks": ""
           },
           "bgcolor": "#E5ECF6",
           "radialaxis": {
            "gridcolor": "white",
            "linecolor": "white",
            "ticks": ""
           }
          },
          "scene": {
           "xaxis": {
            "backgroundcolor": "#E5ECF6",
            "gridcolor": "white",
            "gridwidth": 2,
            "linecolor": "white",
            "showbackground": true,
            "ticks": "",
            "zerolinecolor": "white"
           },
           "yaxis": {
            "backgroundcolor": "#E5ECF6",
            "gridcolor": "white",
            "gridwidth": 2,
            "linecolor": "white",
            "showbackground": true,
            "ticks": "",
            "zerolinecolor": "white"
           },
           "zaxis": {
            "backgroundcolor": "#E5ECF6",
            "gridcolor": "white",
            "gridwidth": 2,
            "linecolor": "white",
            "showbackground": true,
            "ticks": "",
            "zerolinecolor": "white"
           }
          },
          "shapedefaults": {
           "line": {
            "color": "#2a3f5f"
           }
          },
          "ternary": {
           "aaxis": {
            "gridcolor": "white",
            "linecolor": "white",
            "ticks": ""
           },
           "baxis": {
            "gridcolor": "white",
            "linecolor": "white",
            "ticks": ""
           },
           "bgcolor": "#E5ECF6",
           "caxis": {
            "gridcolor": "white",
            "linecolor": "white",
            "ticks": ""
           }
          },
          "title": {
           "x": 0.05
          },
          "xaxis": {
           "automargin": true,
           "gridcolor": "white",
           "linecolor": "white",
           "ticks": "",
           "title": {
            "standoff": 15
           },
           "zerolinecolor": "white",
           "zerolinewidth": 2
          },
          "yaxis": {
           "automargin": true,
           "gridcolor": "white",
           "linecolor": "white",
           "ticks": "",
           "title": {
            "standoff": 15
           },
           "zerolinecolor": "white",
           "zerolinewidth": 2
          }
         }
        },
        "title": {
         "font": {
          "color": "Black",
          "size": 22
         },
         "text": "<b>Similarity Matrix",
         "x": 0.55,
         "xanchor": "center",
         "y": 0.95,
         "yanchor": "top"
        },
        "width": 800,
        "xaxis": {
         "anchor": "y",
         "constrain": "domain",
         "domain": [
          0,
          1
         ],
         "scaleanchor": "y"
        },
        "yaxis": {
         "anchor": "x",
         "autorange": "reversed",
         "constrain": "domain",
         "domain": [
          0,
          1
         ]
        }
       }
      }
     },
     "metadata": {},
     "output_type": "display_data"
    }
   ],
   "source": [
    "topic_model.visualize_heatmap()"
   ]
  },
  {
   "cell_type": "code",
   "execution_count": 5,
   "id": "458f461c",
   "metadata": {},
   "outputs": [
    {
     "data": {
      "application/vnd.plotly.v1+json": {
       "config": {
        "plotlyServerURL": "https://plot.ly"
       },
       "data": [
        {
         "customdata": [
          [
           2,
           "the cabal | ixidor reality | reality sculptor | her voice | voice is",
           110
          ],
          [
           3,
           "the kami | of kamigawa | kami war | the war | the history",
           104
          ],
          [
           4,
           "jace beleren | into the | unquiet past | great unknown | west into",
           96
          ],
          [
           5,
           "expeditionary house | expedition leader | sea gate | gate expeditionary | gada halimar",
           89
          ],
          [
           6,
           "the slivers | riptide project | the hive | rukarumel field | field journal",
           89
          ],
          [
           7,
           "designed by | the light | life and | and death | absence follow",
           86
          ],
          [
           8,
           "nicol bolas | punish you | on nicol | flee on | when punish",
           85
          ],
          [
           9,
           "to gerrard | youve failed | the legacy | gerrard to | the weatherlight",
           82
          ],
          [
           10,
           "the consulate | the consulates | consulate engineers | the eleven | some of",
           81
          ],
          [
           11,
           "the land | people lie | words lie | lie people | land tells",
           81
          ],
          [
           12,
           "the necromancer | limdl the | leshrac my | liege grant | killing and",
           80
          ],
          [
           13,
           "of ravnica | in ravnica | or another | nikya of | another they",
           79
          ],
          [
           14,
           "an eye | involuntary reflex | alarm is | like blinking | responding to",
           73
          ],
          [
           15,
           "gideon jura | we still | jura the | sea gate | declared your",
           71
          ],
          [
           16,
           "lovisa coldeyes | balduvian chieftain | coldeyes balduvian | chieftain the | spirit of",
           69
          ],
          [
           17,
           "signals to | need signals | the keldons | when to | them when",
           67
          ],
          [
           18,
           "the drakes | drakes are | the drake | the perfect | ship is",
           67
          ],
          [
           19,
           "every vine | swift steed | crossroads every | vine swift | branch crossroads",
           67
          ]
         ],
         "hovertemplate": "<b>Topic %{customdata[0]}</b><br>Words: %{customdata[1]}<br>Size: %{customdata[2]}",
         "legendgroup": "",
         "marker": {
          "color": "#B0BEC5",
          "line": {
           "color": "DarkSlateGrey",
           "width": 2
          },
          "size": [
           110,
           104,
           96,
           89,
           89,
           86,
           85,
           82,
           81,
           81,
           80,
           79,
           73,
           71,
           69,
           67,
           67,
           67
          ],
          "sizemode": "area",
          "sizeref": 0.06875,
          "symbol": "circle"
         },
         "mode": "markers",
         "name": "",
         "orientation": "v",
         "showlegend": false,
         "type": "scatter",
         "x": [
          6.685293674468994,
          11.504121780395508,
          -3.6030898094177246,
          -3.180633306503296,
          7.461661338806152,
          14.788735389709473,
          6.4542036056518555,
          -3.4956178665161133,
          6.718730449676514,
          15.554326057434082,
          -3.983823299407959,
          15.79978084564209,
          15.023138046264648,
          -3.6801087856292725,
          16.1103458404541,
          -3.3639183044433594,
          7.042395114898682,
          16.35430908203125
         ],
         "xaxis": "x",
         "y": [
          12.616929054260254,
          7.083589553833008,
          6.752377033233643,
          6.671285152435303,
          13.879132270812988,
          -6.449735641479492,
          12.924662590026855,
          6.493712425231934,
          13.413926124572754,
          -6.414010047912598,
          5.863398551940918,
          -6.620025634765625,
          -6.488373279571533,
          5.971367835998535,
          -7.09459114074707,
          5.64804744720459,
          13.700419425964355,
          -7.360912799835205
         ],
         "yaxis": "y"
        }
       ],
       "layout": {
        "annotations": [
         {
          "showarrow": false,
          "text": "D1",
          "x": -4.5813967943191525,
          "y": 3.7479761958122255,
          "yshift": 10
         },
         {
          "showarrow": false,
          "text": "D2",
          "x": 7.113029325008392,
          "xshift": 10,
          "y": 15.961002111434937
         }
        ],
        "height": 650,
        "hoverlabel": {
         "bgcolor": "white",
         "font": {
          "family": "Rockwell",
          "size": 16
         }
        },
        "legend": {
         "itemsizing": "constant",
         "tracegroupgap": 0
        },
        "margin": {
         "t": 60
        },
        "shapes": [
         {
          "line": {
           "color": "#CFD8DC",
           "width": 2
          },
          "type": "line",
          "x0": 7.113029325008392,
          "x1": 7.113029325008392,
          "y0": -8.465049719810485,
          "y1": 15.961002111434937
         },
         {
          "line": {
           "color": "#9E9E9E",
           "width": 2
          },
          "type": "line",
          "x0": -4.5813967943191525,
          "x1": 18.807455444335936,
          "y0": 3.7479761958122255,
          "y1": 3.7479761958122255
         }
        ],
        "sliders": [
         {
          "active": 0,
          "pad": {
           "t": 50
          },
          "steps": [
           {
            "args": [
             {
              "marker.color": [
               [
                "red",
                "#B0BEC5",
                "#B0BEC5",
                "#B0BEC5",
                "#B0BEC5",
                "#B0BEC5",
                "#B0BEC5",
                "#B0BEC5",
                "#B0BEC5",
                "#B0BEC5",
                "#B0BEC5",
                "#B0BEC5",
                "#B0BEC5",
                "#B0BEC5",
                "#B0BEC5",
                "#B0BEC5",
                "#B0BEC5",
                "#B0BEC5"
               ]
              ]
             }
            ],
            "label": "Topic 2",
            "method": "update"
           },
           {
            "args": [
             {
              "marker.color": [
               [
                "#B0BEC5",
                "red",
                "#B0BEC5",
                "#B0BEC5",
                "#B0BEC5",
                "#B0BEC5",
                "#B0BEC5",
                "#B0BEC5",
                "#B0BEC5",
                "#B0BEC5",
                "#B0BEC5",
                "#B0BEC5",
                "#B0BEC5",
                "#B0BEC5",
                "#B0BEC5",
                "#B0BEC5",
                "#B0BEC5",
                "#B0BEC5"
               ]
              ]
             }
            ],
            "label": "Topic 3",
            "method": "update"
           },
           {
            "args": [
             {
              "marker.color": [
               [
                "#B0BEC5",
                "#B0BEC5",
                "red",
                "#B0BEC5",
                "#B0BEC5",
                "#B0BEC5",
                "#B0BEC5",
                "#B0BEC5",
                "#B0BEC5",
                "#B0BEC5",
                "#B0BEC5",
                "#B0BEC5",
                "#B0BEC5",
                "#B0BEC5",
                "#B0BEC5",
                "#B0BEC5",
                "#B0BEC5",
                "#B0BEC5"
               ]
              ]
             }
            ],
            "label": "Topic 4",
            "method": "update"
           },
           {
            "args": [
             {
              "marker.color": [
               [
                "#B0BEC5",
                "#B0BEC5",
                "#B0BEC5",
                "red",
                "#B0BEC5",
                "#B0BEC5",
                "#B0BEC5",
                "#B0BEC5",
                "#B0BEC5",
                "#B0BEC5",
                "#B0BEC5",
                "#B0BEC5",
                "#B0BEC5",
                "#B0BEC5",
                "#B0BEC5",
                "#B0BEC5",
                "#B0BEC5",
                "#B0BEC5"
               ]
              ]
             }
            ],
            "label": "Topic 5",
            "method": "update"
           },
           {
            "args": [
             {
              "marker.color": [
               [
                "#B0BEC5",
                "#B0BEC5",
                "#B0BEC5",
                "#B0BEC5",
                "red",
                "#B0BEC5",
                "#B0BEC5",
                "#B0BEC5",
                "#B0BEC5",
                "#B0BEC5",
                "#B0BEC5",
                "#B0BEC5",
                "#B0BEC5",
                "#B0BEC5",
                "#B0BEC5",
                "#B0BEC5",
                "#B0BEC5",
                "#B0BEC5"
               ]
              ]
             }
            ],
            "label": "Topic 6",
            "method": "update"
           },
           {
            "args": [
             {
              "marker.color": [
               [
                "#B0BEC5",
                "#B0BEC5",
                "#B0BEC5",
                "#B0BEC5",
                "#B0BEC5",
                "red",
                "#B0BEC5",
                "#B0BEC5",
                "#B0BEC5",
                "#B0BEC5",
                "#B0BEC5",
                "#B0BEC5",
                "#B0BEC5",
                "#B0BEC5",
                "#B0BEC5",
                "#B0BEC5",
                "#B0BEC5",
                "#B0BEC5"
               ]
              ]
             }
            ],
            "label": "Topic 7",
            "method": "update"
           },
           {
            "args": [
             {
              "marker.color": [
               [
                "#B0BEC5",
                "#B0BEC5",
                "#B0BEC5",
                "#B0BEC5",
                "#B0BEC5",
                "#B0BEC5",
                "red",
                "#B0BEC5",
                "#B0BEC5",
                "#B0BEC5",
                "#B0BEC5",
                "#B0BEC5",
                "#B0BEC5",
                "#B0BEC5",
                "#B0BEC5",
                "#B0BEC5",
                "#B0BEC5",
                "#B0BEC5"
               ]
              ]
             }
            ],
            "label": "Topic 8",
            "method": "update"
           },
           {
            "args": [
             {
              "marker.color": [
               [
                "#B0BEC5",
                "#B0BEC5",
                "#B0BEC5",
                "#B0BEC5",
                "#B0BEC5",
                "#B0BEC5",
                "#B0BEC5",
                "red",
                "#B0BEC5",
                "#B0BEC5",
                "#B0BEC5",
                "#B0BEC5",
                "#B0BEC5",
                "#B0BEC5",
                "#B0BEC5",
                "#B0BEC5",
                "#B0BEC5",
                "#B0BEC5"
               ]
              ]
             }
            ],
            "label": "Topic 9",
            "method": "update"
           },
           {
            "args": [
             {
              "marker.color": [
               [
                "#B0BEC5",
                "#B0BEC5",
                "#B0BEC5",
                "#B0BEC5",
                "#B0BEC5",
                "#B0BEC5",
                "#B0BEC5",
                "#B0BEC5",
                "red",
                "#B0BEC5",
                "#B0BEC5",
                "#B0BEC5",
                "#B0BEC5",
                "#B0BEC5",
                "#B0BEC5",
                "#B0BEC5",
                "#B0BEC5",
                "#B0BEC5"
               ]
              ]
             }
            ],
            "label": "Topic 10",
            "method": "update"
           },
           {
            "args": [
             {
              "marker.color": [
               [
                "#B0BEC5",
                "#B0BEC5",
                "#B0BEC5",
                "#B0BEC5",
                "#B0BEC5",
                "#B0BEC5",
                "#B0BEC5",
                "#B0BEC5",
                "#B0BEC5",
                "red",
                "#B0BEC5",
                "#B0BEC5",
                "#B0BEC5",
                "#B0BEC5",
                "#B0BEC5",
                "#B0BEC5",
                "#B0BEC5",
                "#B0BEC5"
               ]
              ]
             }
            ],
            "label": "Topic 11",
            "method": "update"
           },
           {
            "args": [
             {
              "marker.color": [
               [
                "#B0BEC5",
                "#B0BEC5",
                "#B0BEC5",
                "#B0BEC5",
                "#B0BEC5",
                "#B0BEC5",
                "#B0BEC5",
                "#B0BEC5",
                "#B0BEC5",
                "#B0BEC5",
                "red",
                "#B0BEC5",
                "#B0BEC5",
                "#B0BEC5",
                "#B0BEC5",
                "#B0BEC5",
                "#B0BEC5",
                "#B0BEC5"
               ]
              ]
             }
            ],
            "label": "Topic 12",
            "method": "update"
           },
           {
            "args": [
             {
              "marker.color": [
               [
                "#B0BEC5",
                "#B0BEC5",
                "#B0BEC5",
                "#B0BEC5",
                "#B0BEC5",
                "#B0BEC5",
                "#B0BEC5",
                "#B0BEC5",
                "#B0BEC5",
                "#B0BEC5",
                "#B0BEC5",
                "red",
                "#B0BEC5",
                "#B0BEC5",
                "#B0BEC5",
                "#B0BEC5",
                "#B0BEC5",
                "#B0BEC5"
               ]
              ]
             }
            ],
            "label": "Topic 13",
            "method": "update"
           },
           {
            "args": [
             {
              "marker.color": [
               [
                "#B0BEC5",
                "#B0BEC5",
                "#B0BEC5",
                "#B0BEC5",
                "#B0BEC5",
                "#B0BEC5",
                "#B0BEC5",
                "#B0BEC5",
                "#B0BEC5",
                "#B0BEC5",
                "#B0BEC5",
                "#B0BEC5",
                "red",
                "#B0BEC5",
                "#B0BEC5",
                "#B0BEC5",
                "#B0BEC5",
                "#B0BEC5"
               ]
              ]
             }
            ],
            "label": "Topic 14",
            "method": "update"
           },
           {
            "args": [
             {
              "marker.color": [
               [
                "#B0BEC5",
                "#B0BEC5",
                "#B0BEC5",
                "#B0BEC5",
                "#B0BEC5",
                "#B0BEC5",
                "#B0BEC5",
                "#B0BEC5",
                "#B0BEC5",
                "#B0BEC5",
                "#B0BEC5",
                "#B0BEC5",
                "#B0BEC5",
                "red",
                "#B0BEC5",
                "#B0BEC5",
                "#B0BEC5",
                "#B0BEC5"
               ]
              ]
             }
            ],
            "label": "Topic 15",
            "method": "update"
           },
           {
            "args": [
             {
              "marker.color": [
               [
                "#B0BEC5",
                "#B0BEC5",
                "#B0BEC5",
                "#B0BEC5",
                "#B0BEC5",
                "#B0BEC5",
                "#B0BEC5",
                "#B0BEC5",
                "#B0BEC5",
                "#B0BEC5",
                "#B0BEC5",
                "#B0BEC5",
                "#B0BEC5",
                "#B0BEC5",
                "red",
                "#B0BEC5",
                "#B0BEC5",
                "#B0BEC5"
               ]
              ]
             }
            ],
            "label": "Topic 16",
            "method": "update"
           },
           {
            "args": [
             {
              "marker.color": [
               [
                "#B0BEC5",
                "#B0BEC5",
                "#B0BEC5",
                "#B0BEC5",
                "#B0BEC5",
                "#B0BEC5",
                "#B0BEC5",
                "#B0BEC5",
                "#B0BEC5",
                "#B0BEC5",
                "#B0BEC5",
                "#B0BEC5",
                "#B0BEC5",
                "#B0BEC5",
                "#B0BEC5",
                "red",
                "#B0BEC5",
                "#B0BEC5"
               ]
              ]
             }
            ],
            "label": "Topic 17",
            "method": "update"
           },
           {
            "args": [
             {
              "marker.color": [
               [
                "#B0BEC5",
                "#B0BEC5",
                "#B0BEC5",
                "#B0BEC5",
                "#B0BEC5",
                "#B0BEC5",
                "#B0BEC5",
                "#B0BEC5",
                "#B0BEC5",
                "#B0BEC5",
                "#B0BEC5",
                "#B0BEC5",
                "#B0BEC5",
                "#B0BEC5",
                "#B0BEC5",
                "#B0BEC5",
                "red",
                "#B0BEC5"
               ]
              ]
             }
            ],
            "label": "Topic 18",
            "method": "update"
           },
           {
            "args": [
             {
              "marker.color": [
               [
                "#B0BEC5",
                "#B0BEC5",
                "#B0BEC5",
                "#B0BEC5",
                "#B0BEC5",
                "#B0BEC5",
                "#B0BEC5",
                "#B0BEC5",
                "#B0BEC5",
                "#B0BEC5",
                "#B0BEC5",
                "#B0BEC5",
                "#B0BEC5",
                "#B0BEC5",
                "#B0BEC5",
                "#B0BEC5",
                "#B0BEC5",
                "red"
               ]
              ]
             }
            ],
            "label": "Topic 19",
            "method": "update"
           }
          ]
         }
        ],
        "template": {
         "data": {
          "bar": [
           {
            "error_x": {
             "color": "rgb(36,36,36)"
            },
            "error_y": {
             "color": "rgb(36,36,36)"
            },
            "marker": {
             "line": {
              "color": "white",
              "width": 0.5
             },
             "pattern": {
              "fillmode": "overlay",
              "size": 10,
              "solidity": 0.2
             }
            },
            "type": "bar"
           }
          ],
          "barpolar": [
           {
            "marker": {
             "line": {
              "color": "white",
              "width": 0.5
             },
             "pattern": {
              "fillmode": "overlay",
              "size": 10,
              "solidity": 0.2
             }
            },
            "type": "barpolar"
           }
          ],
          "carpet": [
           {
            "aaxis": {
             "endlinecolor": "rgb(36,36,36)",
             "gridcolor": "white",
             "linecolor": "white",
             "minorgridcolor": "white",
             "startlinecolor": "rgb(36,36,36)"
            },
            "baxis": {
             "endlinecolor": "rgb(36,36,36)",
             "gridcolor": "white",
             "linecolor": "white",
             "minorgridcolor": "white",
             "startlinecolor": "rgb(36,36,36)"
            },
            "type": "carpet"
           }
          ],
          "choropleth": [
           {
            "colorbar": {
             "outlinewidth": 1,
             "tickcolor": "rgb(36,36,36)",
             "ticks": "outside"
            },
            "type": "choropleth"
           }
          ],
          "contour": [
           {
            "colorbar": {
             "outlinewidth": 1,
             "tickcolor": "rgb(36,36,36)",
             "ticks": "outside"
            },
            "colorscale": [
             [
              0,
              "#440154"
             ],
             [
              0.1111111111111111,
              "#482878"
             ],
             [
              0.2222222222222222,
              "#3e4989"
             ],
             [
              0.3333333333333333,
              "#31688e"
             ],
             [
              0.4444444444444444,
              "#26828e"
             ],
             [
              0.5555555555555556,
              "#1f9e89"
             ],
             [
              0.6666666666666666,
              "#35b779"
             ],
             [
              0.7777777777777778,
              "#6ece58"
             ],
             [
              0.8888888888888888,
              "#b5de2b"
             ],
             [
              1,
              "#fde725"
             ]
            ],
            "type": "contour"
           }
          ],
          "contourcarpet": [
           {
            "colorbar": {
             "outlinewidth": 1,
             "tickcolor": "rgb(36,36,36)",
             "ticks": "outside"
            },
            "type": "contourcarpet"
           }
          ],
          "heatmap": [
           {
            "colorbar": {
             "outlinewidth": 1,
             "tickcolor": "rgb(36,36,36)",
             "ticks": "outside"
            },
            "colorscale": [
             [
              0,
              "#440154"
             ],
             [
              0.1111111111111111,
              "#482878"
             ],
             [
              0.2222222222222222,
              "#3e4989"
             ],
             [
              0.3333333333333333,
              "#31688e"
             ],
             [
              0.4444444444444444,
              "#26828e"
             ],
             [
              0.5555555555555556,
              "#1f9e89"
             ],
             [
              0.6666666666666666,
              "#35b779"
             ],
             [
              0.7777777777777778,
              "#6ece58"
             ],
             [
              0.8888888888888888,
              "#b5de2b"
             ],
             [
              1,
              "#fde725"
             ]
            ],
            "type": "heatmap"
           }
          ],
          "heatmapgl": [
           {
            "colorbar": {
             "outlinewidth": 1,
             "tickcolor": "rgb(36,36,36)",
             "ticks": "outside"
            },
            "colorscale": [
             [
              0,
              "#440154"
             ],
             [
              0.1111111111111111,
              "#482878"
             ],
             [
              0.2222222222222222,
              "#3e4989"
             ],
             [
              0.3333333333333333,
              "#31688e"
             ],
             [
              0.4444444444444444,
              "#26828e"
             ],
             [
              0.5555555555555556,
              "#1f9e89"
             ],
             [
              0.6666666666666666,
              "#35b779"
             ],
             [
              0.7777777777777778,
              "#6ece58"
             ],
             [
              0.8888888888888888,
              "#b5de2b"
             ],
             [
              1,
              "#fde725"
             ]
            ],
            "type": "heatmapgl"
           }
          ],
          "histogram": [
           {
            "marker": {
             "line": {
              "color": "white",
              "width": 0.6
             }
            },
            "type": "histogram"
           }
          ],
          "histogram2d": [
           {
            "colorbar": {
             "outlinewidth": 1,
             "tickcolor": "rgb(36,36,36)",
             "ticks": "outside"
            },
            "colorscale": [
             [
              0,
              "#440154"
             ],
             [
              0.1111111111111111,
              "#482878"
             ],
             [
              0.2222222222222222,
              "#3e4989"
             ],
             [
              0.3333333333333333,
              "#31688e"
             ],
             [
              0.4444444444444444,
              "#26828e"
             ],
             [
              0.5555555555555556,
              "#1f9e89"
             ],
             [
              0.6666666666666666,
              "#35b779"
             ],
             [
              0.7777777777777778,
              "#6ece58"
             ],
             [
              0.8888888888888888,
              "#b5de2b"
             ],
             [
              1,
              "#fde725"
             ]
            ],
            "type": "histogram2d"
           }
          ],
          "histogram2dcontour": [
           {
            "colorbar": {
             "outlinewidth": 1,
             "tickcolor": "rgb(36,36,36)",
             "ticks": "outside"
            },
            "colorscale": [
             [
              0,
              "#440154"
             ],
             [
              0.1111111111111111,
              "#482878"
             ],
             [
              0.2222222222222222,
              "#3e4989"
             ],
             [
              0.3333333333333333,
              "#31688e"
             ],
             [
              0.4444444444444444,
              "#26828e"
             ],
             [
              0.5555555555555556,
              "#1f9e89"
             ],
             [
              0.6666666666666666,
              "#35b779"
             ],
             [
              0.7777777777777778,
              "#6ece58"
             ],
             [
              0.8888888888888888,
              "#b5de2b"
             ],
             [
              1,
              "#fde725"
             ]
            ],
            "type": "histogram2dcontour"
           }
          ],
          "mesh3d": [
           {
            "colorbar": {
             "outlinewidth": 1,
             "tickcolor": "rgb(36,36,36)",
             "ticks": "outside"
            },
            "type": "mesh3d"
           }
          ],
          "parcoords": [
           {
            "line": {
             "colorbar": {
              "outlinewidth": 1,
              "tickcolor": "rgb(36,36,36)",
              "ticks": "outside"
             }
            },
            "type": "parcoords"
           }
          ],
          "pie": [
           {
            "automargin": true,
            "type": "pie"
           }
          ],
          "scatter": [
           {
            "fillpattern": {
             "fillmode": "overlay",
             "size": 10,
             "solidity": 0.2
            },
            "type": "scatter"
           }
          ],
          "scatter3d": [
           {
            "line": {
             "colorbar": {
              "outlinewidth": 1,
              "tickcolor": "rgb(36,36,36)",
              "ticks": "outside"
             }
            },
            "marker": {
             "colorbar": {
              "outlinewidth": 1,
              "tickcolor": "rgb(36,36,36)",
              "ticks": "outside"
             }
            },
            "type": "scatter3d"
           }
          ],
          "scattercarpet": [
           {
            "marker": {
             "colorbar": {
              "outlinewidth": 1,
              "tickcolor": "rgb(36,36,36)",
              "ticks": "outside"
             }
            },
            "type": "scattercarpet"
           }
          ],
          "scattergeo": [
           {
            "marker": {
             "colorbar": {
              "outlinewidth": 1,
              "tickcolor": "rgb(36,36,36)",
              "ticks": "outside"
             }
            },
            "type": "scattergeo"
           }
          ],
          "scattergl": [
           {
            "marker": {
             "colorbar": {
              "outlinewidth": 1,
              "tickcolor": "rgb(36,36,36)",
              "ticks": "outside"
             }
            },
            "type": "scattergl"
           }
          ],
          "scattermapbox": [
           {
            "marker": {
             "colorbar": {
              "outlinewidth": 1,
              "tickcolor": "rgb(36,36,36)",
              "ticks": "outside"
             }
            },
            "type": "scattermapbox"
           }
          ],
          "scatterpolar": [
           {
            "marker": {
             "colorbar": {
              "outlinewidth": 1,
              "tickcolor": "rgb(36,36,36)",
              "ticks": "outside"
             }
            },
            "type": "scatterpolar"
           }
          ],
          "scatterpolargl": [
           {
            "marker": {
             "colorbar": {
              "outlinewidth": 1,
              "tickcolor": "rgb(36,36,36)",
              "ticks": "outside"
             }
            },
            "type": "scatterpolargl"
           }
          ],
          "scatterternary": [
           {
            "marker": {
             "colorbar": {
              "outlinewidth": 1,
              "tickcolor": "rgb(36,36,36)",
              "ticks": "outside"
             }
            },
            "type": "scatterternary"
           }
          ],
          "surface": [
           {
            "colorbar": {
             "outlinewidth": 1,
             "tickcolor": "rgb(36,36,36)",
             "ticks": "outside"
            },
            "colorscale": [
             [
              0,
              "#440154"
             ],
             [
              0.1111111111111111,
              "#482878"
             ],
             [
              0.2222222222222222,
              "#3e4989"
             ],
             [
              0.3333333333333333,
              "#31688e"
             ],
             [
              0.4444444444444444,
              "#26828e"
             ],
             [
              0.5555555555555556,
              "#1f9e89"
             ],
             [
              0.6666666666666666,
              "#35b779"
             ],
             [
              0.7777777777777778,
              "#6ece58"
             ],
             [
              0.8888888888888888,
              "#b5de2b"
             ],
             [
              1,
              "#fde725"
             ]
            ],
            "type": "surface"
           }
          ],
          "table": [
           {
            "cells": {
             "fill": {
              "color": "rgb(237,237,237)"
             },
             "line": {
              "color": "white"
             }
            },
            "header": {
             "fill": {
              "color": "rgb(217,217,217)"
             },
             "line": {
              "color": "white"
             }
            },
            "type": "table"
           }
          ]
         },
         "layout": {
          "annotationdefaults": {
           "arrowhead": 0,
           "arrowwidth": 1
          },
          "autotypenumbers": "strict",
          "coloraxis": {
           "colorbar": {
            "outlinewidth": 1,
            "tickcolor": "rgb(36,36,36)",
            "ticks": "outside"
           }
          },
          "colorscale": {
           "diverging": [
            [
             0,
             "rgb(103,0,31)"
            ],
            [
             0.1,
             "rgb(178,24,43)"
            ],
            [
             0.2,
             "rgb(214,96,77)"
            ],
            [
             0.3,
             "rgb(244,165,130)"
            ],
            [
             0.4,
             "rgb(253,219,199)"
            ],
            [
             0.5,
             "rgb(247,247,247)"
            ],
            [
             0.6,
             "rgb(209,229,240)"
            ],
            [
             0.7,
             "rgb(146,197,222)"
            ],
            [
             0.8,
             "rgb(67,147,195)"
            ],
            [
             0.9,
             "rgb(33,102,172)"
            ],
            [
             1,
             "rgb(5,48,97)"
            ]
           ],
           "sequential": [
            [
             0,
             "#440154"
            ],
            [
             0.1111111111111111,
             "#482878"
            ],
            [
             0.2222222222222222,
             "#3e4989"
            ],
            [
             0.3333333333333333,
             "#31688e"
            ],
            [
             0.4444444444444444,
             "#26828e"
            ],
            [
             0.5555555555555556,
             "#1f9e89"
            ],
            [
             0.6666666666666666,
             "#35b779"
            ],
            [
             0.7777777777777778,
             "#6ece58"
            ],
            [
             0.8888888888888888,
             "#b5de2b"
            ],
            [
             1,
             "#fde725"
            ]
           ],
           "sequentialminus": [
            [
             0,
             "#440154"
            ],
            [
             0.1111111111111111,
             "#482878"
            ],
            [
             0.2222222222222222,
             "#3e4989"
            ],
            [
             0.3333333333333333,
             "#31688e"
            ],
            [
             0.4444444444444444,
             "#26828e"
            ],
            [
             0.5555555555555556,
             "#1f9e89"
            ],
            [
             0.6666666666666666,
             "#35b779"
            ],
            [
             0.7777777777777778,
             "#6ece58"
            ],
            [
             0.8888888888888888,
             "#b5de2b"
            ],
            [
             1,
             "#fde725"
            ]
           ]
          },
          "colorway": [
           "#1F77B4",
           "#FF7F0E",
           "#2CA02C",
           "#D62728",
           "#9467BD",
           "#8C564B",
           "#E377C2",
           "#7F7F7F",
           "#BCBD22",
           "#17BECF"
          ],
          "font": {
           "color": "rgb(36,36,36)"
          },
          "geo": {
           "bgcolor": "white",
           "lakecolor": "white",
           "landcolor": "white",
           "showlakes": true,
           "showland": true,
           "subunitcolor": "white"
          },
          "hoverlabel": {
           "align": "left"
          },
          "hovermode": "closest",
          "mapbox": {
           "style": "light"
          },
          "paper_bgcolor": "white",
          "plot_bgcolor": "white",
          "polar": {
           "angularaxis": {
            "gridcolor": "rgb(232,232,232)",
            "linecolor": "rgb(36,36,36)",
            "showgrid": false,
            "showline": true,
            "ticks": "outside"
           },
           "bgcolor": "white",
           "radialaxis": {
            "gridcolor": "rgb(232,232,232)",
            "linecolor": "rgb(36,36,36)",
            "showgrid": false,
            "showline": true,
            "ticks": "outside"
           }
          },
          "scene": {
           "xaxis": {
            "backgroundcolor": "white",
            "gridcolor": "rgb(232,232,232)",
            "gridwidth": 2,
            "linecolor": "rgb(36,36,36)",
            "showbackground": true,
            "showgrid": false,
            "showline": true,
            "ticks": "outside",
            "zeroline": false,
            "zerolinecolor": "rgb(36,36,36)"
           },
           "yaxis": {
            "backgroundcolor": "white",
            "gridcolor": "rgb(232,232,232)",
            "gridwidth": 2,
            "linecolor": "rgb(36,36,36)",
            "showbackground": true,
            "showgrid": false,
            "showline": true,
            "ticks": "outside",
            "zeroline": false,
            "zerolinecolor": "rgb(36,36,36)"
           },
           "zaxis": {
            "backgroundcolor": "white",
            "gridcolor": "rgb(232,232,232)",
            "gridwidth": 2,
            "linecolor": "rgb(36,36,36)",
            "showbackground": true,
            "showgrid": false,
            "showline": true,
            "ticks": "outside",
            "zeroline": false,
            "zerolinecolor": "rgb(36,36,36)"
           }
          },
          "shapedefaults": {
           "fillcolor": "black",
           "line": {
            "width": 0
           },
           "opacity": 0.3
          },
          "ternary": {
           "aaxis": {
            "gridcolor": "rgb(232,232,232)",
            "linecolor": "rgb(36,36,36)",
            "showgrid": false,
            "showline": true,
            "ticks": "outside"
           },
           "baxis": {
            "gridcolor": "rgb(232,232,232)",
            "linecolor": "rgb(36,36,36)",
            "showgrid": false,
            "showline": true,
            "ticks": "outside"
           },
           "bgcolor": "white",
           "caxis": {
            "gridcolor": "rgb(232,232,232)",
            "linecolor": "rgb(36,36,36)",
            "showgrid": false,
            "showline": true,
            "ticks": "outside"
           }
          },
          "title": {
           "x": 0.05
          },
          "xaxis": {
           "automargin": true,
           "gridcolor": "rgb(232,232,232)",
           "linecolor": "rgb(36,36,36)",
           "showgrid": false,
           "showline": true,
           "ticks": "outside",
           "title": {
            "standoff": 15
           },
           "zeroline": false,
           "zerolinecolor": "rgb(36,36,36)"
          },
          "yaxis": {
           "automargin": true,
           "gridcolor": "rgb(232,232,232)",
           "linecolor": "rgb(36,36,36)",
           "showgrid": false,
           "showline": true,
           "ticks": "outside",
           "title": {
            "standoff": 15
           },
           "zeroline": false,
           "zerolinecolor": "rgb(36,36,36)"
          }
         }
        },
        "title": {
         "font": {
          "color": "Black",
          "size": 22
         },
         "text": "<b>Intertopic Distance Map",
         "x": 0.5,
         "xanchor": "center",
         "y": 0.95,
         "yanchor": "top"
        },
        "width": 650,
        "xaxis": {
         "anchor": "y",
         "domain": [
          0,
          1
         ],
         "range": [
          -4.5813967943191525,
          18.807455444335936
         ],
         "title": {
          "text": ""
         },
         "visible": false
        },
        "yaxis": {
         "anchor": "x",
         "domain": [
          0,
          1
         ],
         "range": [
          -8.465049719810485,
          15.961002111434937
         ],
         "title": {
          "text": ""
         },
         "visible": false
        }
       }
      }
     },
     "metadata": {},
     "output_type": "display_data"
    }
   ],
   "source": [
    "topic_model.visualize_topics([1,2,3,4,5,6,7,8,9,10,11,12,13,14,15,16,17,18,19])"
   ]
  },
  {
   "cell_type": "code",
   "execution_count": null,
   "id": "12369c27",
   "metadata": {},
   "outputs": [],
   "source": [
    "# hierarchical clustering\n"
   ]
  },
  {
   "cell_type": "markdown",
   "id": "b6839660",
   "metadata": {},
   "source": [
    "# what are some working names for each of the topics"
   ]
  },
  {
   "cell_type": "code",
   "execution_count": 54,
   "id": "d320139c",
   "metadata": {},
   "outputs": [],
   "source": [
    "release_date = mtg[['release_date', 'flavor_text']].dropna().drop(columns=['flavor_text'])\n",
    "\n",
    "# convert release date to list\n",
    "release_date = list(release_date['release_date'])"
   ]
  },
  {
   "cell_type": "code",
   "execution_count": 56,
   "id": "c21744be",
   "metadata": {},
   "outputs": [
    {
     "name": "stderr",
     "output_type": "stream",
     "text": [
      "0it [00:00, ?it/s]\n"
     ]
    },
    {
     "ename": "IndexError",
     "evalue": "index (129) out of range",
     "output_type": "error",
     "traceback": [
      "\u001b[0;31m---------------------------------------------------------------------------\u001b[0m",
      "\u001b[0;31mIndexError\u001b[0m                                Traceback (most recent call last)",
      "\u001b[1;32m/Users/yousufabdelfatah/Desktop/Spring_2022/text_as_data/text-data-spr22/homework/hw2-goals-approaches/yaa46/readme.ipynb Cell 17'\u001b[0m in \u001b[0;36m<cell line: 2>\u001b[0;34m()\u001b[0m\n\u001b[1;32m      <a href='vscode-notebook-cell:/Users/yousufabdelfatah/Desktop/Spring_2022/text_as_data/text-data-spr22/homework/hw2-goals-approaches/yaa46/readme.ipynb#ch0000015?line=0'>1</a>\u001b[0m \u001b[39m# create a dynamic topic model using release date columns as timestamps\u001b[39;00m\n\u001b[0;32m----> <a href='vscode-notebook-cell:/Users/yousufabdelfatah/Desktop/Spring_2022/text_as_data/text-data-spr22/homework/hw2-goals-approaches/yaa46/readme.ipynb#ch0000015?line=1'>2</a>\u001b[0m topics_over_time \u001b[39m=\u001b[39m topic_model\u001b[39m.\u001b[39;49mtopics_over_time(text, topics, release_date, nr_bins\u001b[39m=\u001b[39;49m\u001b[39m10\u001b[39;49m)\n",
      "File \u001b[0;32m~/opt/anaconda3/lib/python3.8/site-packages/bertopic/_bertopic.py:508\u001b[0m, in \u001b[0;36mBERTopic.topics_over_time\u001b[0;34m(self, docs, topics, timestamps, nr_bins, datetime_format, evolution_tuning, global_tuning)\u001b[0m\n\u001b[1;32m    <a href='file:///Users/yousufabdelfatah/opt/anaconda3/lib/python3.8/site-packages/bertopic/_bertopic.py?line=505'>506</a>\u001b[0m \u001b[39mif\u001b[39;00m global_tuning:\n\u001b[1;32m    <a href='file:///Users/yousufabdelfatah/opt/anaconda3/lib/python3.8/site-packages/bertopic/_bertopic.py?line=506'>507</a>\u001b[0m     selected_topics \u001b[39m=\u001b[39m [all_topics_indices[topic] \u001b[39mfor\u001b[39;00m topic \u001b[39min\u001b[39;00m documents_per_topic\u001b[39m.\u001b[39mTopic\u001b[39m.\u001b[39mvalues]\n\u001b[0;32m--> <a href='file:///Users/yousufabdelfatah/opt/anaconda3/lib/python3.8/site-packages/bertopic/_bertopic.py?line=507'>508</a>\u001b[0m     c_tf_idf \u001b[39m=\u001b[39m (global_c_tf_idf[selected_topics] \u001b[39m+\u001b[39m c_tf_idf) \u001b[39m/\u001b[39m \u001b[39m2.0\u001b[39m\n\u001b[1;32m    <a href='file:///Users/yousufabdelfatah/opt/anaconda3/lib/python3.8/site-packages/bertopic/_bertopic.py?line=509'>510</a>\u001b[0m \u001b[39m# Extract the words per topic\u001b[39;00m\n\u001b[1;32m    <a href='file:///Users/yousufabdelfatah/opt/anaconda3/lib/python3.8/site-packages/bertopic/_bertopic.py?line=510'>511</a>\u001b[0m labels \u001b[39m=\u001b[39m \u001b[39msorted\u001b[39m(\u001b[39mlist\u001b[39m(documents_per_topic\u001b[39m.\u001b[39mTopic\u001b[39m.\u001b[39munique()))\n",
      "File \u001b[0;32m~/opt/anaconda3/lib/python3.8/site-packages/scipy/sparse/_index.py:33\u001b[0m, in \u001b[0;36mIndexMixin.__getitem__\u001b[0;34m(self, key)\u001b[0m\n\u001b[1;32m     <a href='file:///Users/yousufabdelfatah/opt/anaconda3/lib/python3.8/site-packages/scipy/sparse/_index.py?line=31'>32</a>\u001b[0m \u001b[39mdef\u001b[39;00m \u001b[39m__getitem__\u001b[39m(\u001b[39mself\u001b[39m, key):\n\u001b[0;32m---> <a href='file:///Users/yousufabdelfatah/opt/anaconda3/lib/python3.8/site-packages/scipy/sparse/_index.py?line=32'>33</a>\u001b[0m     row, col \u001b[39m=\u001b[39m \u001b[39mself\u001b[39;49m\u001b[39m.\u001b[39;49m_validate_indices(key)\n\u001b[1;32m     <a href='file:///Users/yousufabdelfatah/opt/anaconda3/lib/python3.8/site-packages/scipy/sparse/_index.py?line=33'>34</a>\u001b[0m     \u001b[39m# Dispatch to specialized methods.\u001b[39;00m\n\u001b[1;32m     <a href='file:///Users/yousufabdelfatah/opt/anaconda3/lib/python3.8/site-packages/scipy/sparse/_index.py?line=34'>35</a>\u001b[0m     \u001b[39mif\u001b[39;00m \u001b[39misinstance\u001b[39m(row, INT_TYPES):\n",
      "File \u001b[0;32m~/opt/anaconda3/lib/python3.8/site-packages/scipy/sparse/_index.py:138\u001b[0m, in \u001b[0;36mIndexMixin._validate_indices\u001b[0;34m(self, key)\u001b[0m\n\u001b[1;32m    <a href='file:///Users/yousufabdelfatah/opt/anaconda3/lib/python3.8/site-packages/scipy/sparse/_index.py?line=135'>136</a>\u001b[0m         row \u001b[39m+\u001b[39m\u001b[39m=\u001b[39m M\n\u001b[1;32m    <a href='file:///Users/yousufabdelfatah/opt/anaconda3/lib/python3.8/site-packages/scipy/sparse/_index.py?line=136'>137</a>\u001b[0m \u001b[39melif\u001b[39;00m \u001b[39mnot\u001b[39;00m \u001b[39misinstance\u001b[39m(row, \u001b[39mslice\u001b[39m):\n\u001b[0;32m--> <a href='file:///Users/yousufabdelfatah/opt/anaconda3/lib/python3.8/site-packages/scipy/sparse/_index.py?line=137'>138</a>\u001b[0m     row \u001b[39m=\u001b[39m \u001b[39mself\u001b[39;49m\u001b[39m.\u001b[39;49m_asindices(row, M)\n\u001b[1;32m    <a href='file:///Users/yousufabdelfatah/opt/anaconda3/lib/python3.8/site-packages/scipy/sparse/_index.py?line=139'>140</a>\u001b[0m \u001b[39mif\u001b[39;00m isintlike(col):\n\u001b[1;32m    <a href='file:///Users/yousufabdelfatah/opt/anaconda3/lib/python3.8/site-packages/scipy/sparse/_index.py?line=140'>141</a>\u001b[0m     col \u001b[39m=\u001b[39m \u001b[39mint\u001b[39m(col)\n",
      "File \u001b[0;32m~/opt/anaconda3/lib/python3.8/site-packages/scipy/sparse/_index.py:170\u001b[0m, in \u001b[0;36mIndexMixin._asindices\u001b[0;34m(self, idx, length)\u001b[0m\n\u001b[1;32m    <a href='file:///Users/yousufabdelfatah/opt/anaconda3/lib/python3.8/site-packages/scipy/sparse/_index.py?line=167'>168</a>\u001b[0m max_indx \u001b[39m=\u001b[39m x\u001b[39m.\u001b[39mmax()\n\u001b[1;32m    <a href='file:///Users/yousufabdelfatah/opt/anaconda3/lib/python3.8/site-packages/scipy/sparse/_index.py?line=168'>169</a>\u001b[0m \u001b[39mif\u001b[39;00m max_indx \u001b[39m>\u001b[39m\u001b[39m=\u001b[39m length:\n\u001b[0;32m--> <a href='file:///Users/yousufabdelfatah/opt/anaconda3/lib/python3.8/site-packages/scipy/sparse/_index.py?line=169'>170</a>\u001b[0m     \u001b[39mraise\u001b[39;00m \u001b[39mIndexError\u001b[39;00m(\u001b[39m'\u001b[39m\u001b[39mindex (\u001b[39m\u001b[39m%d\u001b[39;00m\u001b[39m) out of range\u001b[39m\u001b[39m'\u001b[39m \u001b[39m%\u001b[39m max_indx)\n\u001b[1;32m    <a href='file:///Users/yousufabdelfatah/opt/anaconda3/lib/python3.8/site-packages/scipy/sparse/_index.py?line=171'>172</a>\u001b[0m min_indx \u001b[39m=\u001b[39m x\u001b[39m.\u001b[39mmin()\n\u001b[1;32m    <a href='file:///Users/yousufabdelfatah/opt/anaconda3/lib/python3.8/site-packages/scipy/sparse/_index.py?line=172'>173</a>\u001b[0m \u001b[39mif\u001b[39;00m min_indx \u001b[39m<\u001b[39m \u001b[39m0\u001b[39m:\n",
      "\u001b[0;31mIndexError\u001b[0m: index (129) out of range"
     ]
    }
   ],
   "source": [
    "# create a dynamic topic model using release date columns as timestamps\n",
    "topics_over_time = topic_model.topics_over_time(text, topics, release_date)"
   ]
  },
  {
   "cell_type": "code",
   "execution_count": null,
   "id": "cfeb0e4e",
   "metadata": {},
   "outputs": [],
   "source": [
    "#Describe! All the topics increase over time that's not helpful\n",
    "# normalize frequency"
   ]
  },
  {
   "cell_type": "code",
   "execution_count": null,
   "id": "be417e6d",
   "metadata": {},
   "outputs": [],
   "source": [
    "# topics_over_time.groupby('Timestamp')['Frequency'].transform()"
   ]
  },
  {
   "cell_type": "markdown",
   "id": "98e54c03",
   "metadata": {},
   "source": [
    "## Part 2 Supervised Classification\n",
    "\n",
    "Using only the `text` and `flavor_text` data, predict the color identity of cards: \n",
    "\n",
    "Follow the sklearn documentation covered in class on text data and Pipelines to create a classifier that predicts which of the colors a card is identified as. \n",
    "You will need to preprocess the target _`color_identity`_ labels depending on the task: \n",
    "\n",
    "- Source code for pipelines\n",
    "    - in `multiclass.py`, again load data and train a Pipeline that preprocesses the data and trains a multiclass classifier (`LinearSVC`), and saves the model pickel output once trained. target labels with more than one color should be _unlabeled_! \n",
    "    - in `multilabel.py`, do the same, but with a multilabel model (e.g. [here](https://scikit-learn.org/stable/auto_examples/miscellaneous/plot_multilabel.html#sphx-glr-auto-examples-miscellaneous-plot-multilabel-py)). You should now use the original `color_identity` data as-is, with special attention to the multi-color cards. \n",
    "- in `dvc.yaml`, add these as stages to take the data and scripts as input, with the trained/saved models as output. \n",
    "\n",
    "- in your notebook: \n",
    "    - Describe:  preprocessing steps (the tokenization done, the ngram_range, etc.), and why. \n",
    "    - load both models and plot the _confusion matrix_ for each model ([see here for the multilabel-specific version](https://scikit-learn.org/stable/modules/generated/sklearn.metrics.multilabel_confusion_matrix.html))\n",
    "    - Describe: what are the models succeeding at? Where are they struggling? How do you propose addressing these weaknesses next time?\n",
    "\n",
    "\n"
   ]
  },
  {
   "cell_type": "markdown",
   "id": "8e4ed6e3",
   "metadata": {},
   "source": [
    "Describe the pre-processing steps:\n"
   ]
  },
  {
   "cell_type": "code",
   "execution_count": 10,
   "id": "874439a0",
   "metadata": {},
   "outputs": [],
   "source": [
    "# plot confusion matrixes\n",
    "from sklearn.metrics import confusion_matrix\n",
    "from sklearn.metrics import multilabel_confusion_matrix, ConfusionMatrixDisplay"
   ]
  },
  {
   "cell_type": "code",
   "execution_count": 5,
   "id": "1f3584f1",
   "metadata": {},
   "outputs": [],
   "source": [
    "from multiclass import X_test as X_mc, y_test as y_mc\n",
    "from multilabel import X_test as X_ml, y_test as y_ml"
   ]
  },
  {
   "cell_type": "code",
   "execution_count": 6,
   "id": "c6308bc7",
   "metadata": {},
   "outputs": [],
   "source": [
    "import pickle\n",
    "file = open(\"mtg_classifier_multilabel.pkl\",'rb')\n",
    "mc_classifier = pickle.load(file)\n",
    "file.close()\n",
    "\n",
    "file = open(\"mtg_classifier.pkl\",'rb')\n",
    "ml_classifier = pickle.load(file)\n",
    "file.close()"
   ]
  },
  {
   "cell_type": "code",
   "execution_count": 7,
   "id": "744ccfac",
   "metadata": {},
   "outputs": [],
   "source": [
    "# get predictions\n",
    "y_mc_pred = mc_classifier.predict(X_mc)\n",
    "y_ml_pred = ml_classifier.predict(X_ml)"
   ]
  },
  {
   "cell_type": "code",
   "execution_count": 11,
   "id": "8ac8ccf8",
   "metadata": {},
   "outputs": [
    {
     "name": "stdout",
     "output_type": "stream",
     "text": [
      "Multiclass confusion matrix:\n",
      "[[  0   0   0   0   0   0   0   0   0   0   0   0   0   0]\n",
      " [  0   0   0   0   0   0   0   0   0   0   0   0   0   0]\n",
      " [  0   0   0   0   0   0   0   0   0   0   0   0   0   0]\n",
      " [  0   0   0   0   0   0   0   0   0   0   0   0   0   0]\n",
      " [  0   0   0   0   0   0   0   0   0   0   0   0   0   0]\n",
      " [  0   0   0   0   0   0   0   0   0   0   0   0   0   0]\n",
      " [  0   0   0   0   0   0   0   0   0   0   0   0   0   0]\n",
      " [  0   0   0   0   0   0   0   0   0   0   0   0   0   0]\n",
      " [  0   0   0   0   0   0   0   0   0   0   0   0   0   0]\n",
      " [  2   3   0   6   0   0   1 870   2   0   0   0   0   0]\n",
      " [  4   2   0 916   1   0   5   6   9   0   0   0   0   0]\n",
      " [  1 856   1   2   0   0   4   1   6   0   0   0   0   0]\n",
      " [  1   5   0   4   0   0 869   2   8   0   0   0   0   0]\n",
      " [  7   1   0   3   0   1   2   6 877   0   0   0   0   0]]\n",
      "Multilabel confusion matrix:\n",
      "[[[5.341e+03 0.000e+00]\n",
      "  [5.860e+02 0.000e+00]]\n",
      "\n",
      " [[5.050e+03 0.000e+00]\n",
      "  [8.770e+02 0.000e+00]]\n",
      "\n",
      " [[5.861e+03 0.000e+00]\n",
      "  [6.600e+01 0.000e+00]]\n",
      "\n",
      " [[5.911e+03 0.000e+00]\n",
      "  [1.600e+01 0.000e+00]]\n",
      "\n",
      " [[5.914e+03 0.000e+00]\n",
      "  [1.300e+01 0.000e+00]]\n",
      "\n",
      " [[5.925e+03 0.000e+00]\n",
      "  [2.000e+00 0.000e+00]]\n",
      "\n",
      " [[5.915e+03 0.000e+00]\n",
      "  [1.200e+01 0.000e+00]]\n",
      "\n",
      " [[5.916e+03 0.000e+00]\n",
      "  [1.100e+01 0.000e+00]]\n",
      "\n",
      " [[5.864e+03 0.000e+00]\n",
      "  [6.300e+01 0.000e+00]]\n",
      "\n",
      " [[5.913e+03 0.000e+00]\n",
      "  [1.400e+01 0.000e+00]]\n",
      "\n",
      " [[5.913e+03 0.000e+00]\n",
      "  [1.400e+01 0.000e+00]]\n",
      "\n",
      " [[5.853e+03 0.000e+00]\n",
      "  [7.400e+01 0.000e+00]]\n",
      "\n",
      " [[5.918e+03 0.000e+00]\n",
      "  [9.000e+00 0.000e+00]]\n",
      "\n",
      " [[5.851e+03 0.000e+00]\n",
      "  [7.600e+01 0.000e+00]]\n",
      "\n",
      " [[5.012e+03 0.000e+00]\n",
      "  [9.150e+02 0.000e+00]]\n",
      "\n",
      " [[5.846e+03 0.000e+00]\n",
      "  [8.100e+01 0.000e+00]]\n",
      "\n",
      " [[5.921e+03 0.000e+00]\n",
      "  [6.000e+00 0.000e+00]]\n",
      "\n",
      " [[5.912e+03 0.000e+00]\n",
      "  [1.500e+01 0.000e+00]]\n",
      "\n",
      " [[5.866e+03 0.000e+00]\n",
      "  [6.100e+01 0.000e+00]]\n",
      "\n",
      " [[5.906e+03 0.000e+00]\n",
      "  [2.100e+01 0.000e+00]]\n",
      "\n",
      " [[5.824e+03 0.000e+00]\n",
      "  [1.030e+02 0.000e+00]]\n",
      "\n",
      " [[5.023e+03 0.000e+00]\n",
      "  [9.040e+02 0.000e+00]]\n",
      "\n",
      " [[5.863e+03 0.000e+00]\n",
      "  [6.400e+01 0.000e+00]]\n",
      "\n",
      " [[5.913e+03 0.000e+00]\n",
      "  [1.400e+01 0.000e+00]]\n",
      "\n",
      " [[5.856e+03 0.000e+00]\n",
      "  [7.100e+01 0.000e+00]]\n",
      "\n",
      " [[5.082e+03 0.000e+00]\n",
      "  [8.450e+02 0.000e+00]]\n",
      "\n",
      " [[5.854e+03 0.000e+00]\n",
      "  [7.300e+01 0.000e+00]]\n",
      "\n",
      " [[5.006e+03 0.000e+00]\n",
      "  [9.210e+02 0.000e+00]]\n",
      "\n",
      " [[4.759e+03 1.168e+03]\n",
      "  [0.000e+00 0.000e+00]]\n",
      "\n",
      " [[4.663e+03 1.264e+03]\n",
      "  [0.000e+00 0.000e+00]]\n",
      "\n",
      " [[4.825e+03 1.102e+03]\n",
      "  [0.000e+00 0.000e+00]]\n",
      "\n",
      " [[4.792e+03 1.135e+03]\n",
      "  [0.000e+00 0.000e+00]]\n",
      "\n",
      " [[4.669e+03 1.258e+03]\n",
      "  [0.000e+00 0.000e+00]]]\n"
     ]
    }
   ],
   "source": [
    "# confusion matrixes\n",
    "print(\"Multiclass confusion matrix:\")\n",
    "print(confusion_matrix(y_mc, y_mc_pred))\n",
    "\n",
    "print(\"Multilabel confusion matrix:\")\n",
    "print(multilabel_confusion_matrix(y_ml, y_ml_pred))\n"
   ]
  },
  {
   "cell_type": "code",
   "execution_count": 13,
   "id": "18ca1d63",
   "metadata": {},
   "outputs": [
    {
     "data": {
      "text/plain": [
       "<sklearn.metrics._plot.confusion_matrix.ConfusionMatrixDisplay at 0x7fef094a4d60>"
      ]
     },
     "execution_count": 13,
     "metadata": {},
     "output_type": "execute_result"
    },
    {
     "data": {
      "image/png": "[encoded data removed]",
      "text/plain": [
       "<Figure size 432x288 with 2 Axes>"
      ]
     },
     "metadata": {
      "needs_background": "light"
     },
     "output_type": "display_data"
    }
   ],
   "source": [
    "# plot multiclass confusion matrix\n",
    "ConfusionMatrixDisplay(confusion_matrix=confusion_matrix(y_mc, y_mc_pred)).plot()"
   ]
  },
  {
   "cell_type": "code",
   "execution_count": 14,
   "id": "f59ff3ac",
   "metadata": {},
   "outputs": [
    {
     "ename": "TypeError",
     "evalue": "Invalid shape (33, 2, 2) for image data",
     "output_type": "error",
     "traceback": [
      "\u001b[0;31m---------------------------------------------------------------------------\u001b[0m",
      "\u001b[0;31mTypeError\u001b[0m                                 Traceback (most recent call last)",
      "\u001b[1;32m/Users/yousufabdelfatah/Desktop/Spring_2022/text_as_data/text-data-spr22/homework/hw2-goals-approaches/yaa46/readme.ipynb Cell 26'\u001b[0m in \u001b[0;36m<cell line: 2>\u001b[0;34m()\u001b[0m\n\u001b[1;32m      <a href='vscode-notebook-cell:/Users/yousufabdelfatah/Desktop/Spring_2022/text_as_data/text-data-spr22/homework/hw2-goals-approaches/yaa46/readme.ipynb#ch0000036?line=0'>1</a>\u001b[0m \u001b[39m# multilabel confusion matrix plot\u001b[39;00m\n\u001b[0;32m----> <a href='vscode-notebook-cell:/Users/yousufabdelfatah/Desktop/Spring_2022/text_as_data/text-data-spr22/homework/hw2-goals-approaches/yaa46/readme.ipynb#ch0000036?line=1'>2</a>\u001b[0m ConfusionMatrixDisplay(confusion_matrix\u001b[39m=\u001b[39;49mmultilabel_confusion_matrix(y_ml, y_ml_pred))\u001b[39m.\u001b[39;49mplot()\n",
      "File \u001b[0;32m~/opt/anaconda3/lib/python3.8/site-packages/sklearn/metrics/_plot/confusion_matrix.py:131\u001b[0m, in \u001b[0;36mConfusionMatrixDisplay.plot\u001b[0;34m(self, include_values, cmap, xticks_rotation, values_format, ax, colorbar)\u001b[0m\n\u001b[1;32m    <a href='file:///Users/yousufabdelfatah/opt/anaconda3/lib/python3.8/site-packages/sklearn/metrics/_plot/confusion_matrix.py?line=128'>129</a>\u001b[0m cm \u001b[39m=\u001b[39m \u001b[39mself\u001b[39m\u001b[39m.\u001b[39mconfusion_matrix\n\u001b[1;32m    <a href='file:///Users/yousufabdelfatah/opt/anaconda3/lib/python3.8/site-packages/sklearn/metrics/_plot/confusion_matrix.py?line=129'>130</a>\u001b[0m n_classes \u001b[39m=\u001b[39m cm\u001b[39m.\u001b[39mshape[\u001b[39m0\u001b[39m]\n\u001b[0;32m--> <a href='file:///Users/yousufabdelfatah/opt/anaconda3/lib/python3.8/site-packages/sklearn/metrics/_plot/confusion_matrix.py?line=130'>131</a>\u001b[0m \u001b[39mself\u001b[39m\u001b[39m.\u001b[39mim_ \u001b[39m=\u001b[39m ax\u001b[39m.\u001b[39;49mimshow(cm, interpolation\u001b[39m=\u001b[39;49m\u001b[39m\"\u001b[39;49m\u001b[39mnearest\u001b[39;49m\u001b[39m\"\u001b[39;49m, cmap\u001b[39m=\u001b[39;49mcmap)\n\u001b[1;32m    <a href='file:///Users/yousufabdelfatah/opt/anaconda3/lib/python3.8/site-packages/sklearn/metrics/_plot/confusion_matrix.py?line=131'>132</a>\u001b[0m \u001b[39mself\u001b[39m\u001b[39m.\u001b[39mtext_ \u001b[39m=\u001b[39m \u001b[39mNone\u001b[39;00m\n\u001b[1;32m    <a href='file:///Users/yousufabdelfatah/opt/anaconda3/lib/python3.8/site-packages/sklearn/metrics/_plot/confusion_matrix.py?line=132'>133</a>\u001b[0m cmap_min, cmap_max \u001b[39m=\u001b[39m \u001b[39mself\u001b[39m\u001b[39m.\u001b[39mim_\u001b[39m.\u001b[39mcmap(\u001b[39m0\u001b[39m), \u001b[39mself\u001b[39m\u001b[39m.\u001b[39mim_\u001b[39m.\u001b[39mcmap(\u001b[39m1.0\u001b[39m)\n",
      "File \u001b[0;32m~/opt/anaconda3/lib/python3.8/site-packages/matplotlib/_api/deprecation.py:456\u001b[0m, in \u001b[0;36mmake_keyword_only.<locals>.wrapper\u001b[0;34m(*args, **kwargs)\u001b[0m\n\u001b[1;32m    <a href='file:///Users/yousufabdelfatah/opt/anaconda3/lib/python3.8/site-packages/matplotlib/_api/deprecation.py?line=449'>450</a>\u001b[0m \u001b[39mif\u001b[39;00m \u001b[39mlen\u001b[39m(args) \u001b[39m>\u001b[39m name_idx:\n\u001b[1;32m    <a href='file:///Users/yousufabdelfatah/opt/anaconda3/lib/python3.8/site-packages/matplotlib/_api/deprecation.py?line=450'>451</a>\u001b[0m     warn_deprecated(\n\u001b[1;32m    <a href='file:///Users/yousufabdelfatah/opt/anaconda3/lib/python3.8/site-packages/matplotlib/_api/deprecation.py?line=451'>452</a>\u001b[0m         since, message\u001b[39m=\u001b[39m\u001b[39m\"\u001b[39m\u001b[39mPassing the \u001b[39m\u001b[39m%(name)s\u001b[39;00m\u001b[39m \u001b[39m\u001b[39m%(obj_type)s\u001b[39;00m\u001b[39m \u001b[39m\u001b[39m\"\u001b[39m\n\u001b[1;32m    <a href='file:///Users/yousufabdelfatah/opt/anaconda3/lib/python3.8/site-packages/matplotlib/_api/deprecation.py?line=452'>453</a>\u001b[0m         \u001b[39m\"\u001b[39m\u001b[39mpositionally is deprecated since Matplotlib \u001b[39m\u001b[39m%(since)s\u001b[39;00m\u001b[39m; the \u001b[39m\u001b[39m\"\u001b[39m\n\u001b[1;32m    <a href='file:///Users/yousufabdelfatah/opt/anaconda3/lib/python3.8/site-packages/matplotlib/_api/deprecation.py?line=453'>454</a>\u001b[0m         \u001b[39m\"\u001b[39m\u001b[39mparameter will become keyword-only \u001b[39m\u001b[39m%(removal)s\u001b[39;00m\u001b[39m.\u001b[39m\u001b[39m\"\u001b[39m,\n\u001b[1;32m    <a href='file:///Users/yousufabdelfatah/opt/anaconda3/lib/python3.8/site-packages/matplotlib/_api/deprecation.py?line=454'>455</a>\u001b[0m         name\u001b[39m=\u001b[39mname, obj_type\u001b[39m=\u001b[39m\u001b[39mf\u001b[39m\u001b[39m\"\u001b[39m\u001b[39mparameter of \u001b[39m\u001b[39m{\u001b[39;00mfunc\u001b[39m.\u001b[39m\u001b[39m__name__\u001b[39m\u001b[39m}\u001b[39;00m\u001b[39m()\u001b[39m\u001b[39m\"\u001b[39m)\n\u001b[0;32m--> <a href='file:///Users/yousufabdelfatah/opt/anaconda3/lib/python3.8/site-packages/matplotlib/_api/deprecation.py?line=455'>456</a>\u001b[0m \u001b[39mreturn\u001b[39;00m func(\u001b[39m*\u001b[39;49margs, \u001b[39m*\u001b[39;49m\u001b[39m*\u001b[39;49mkwargs)\n",
      "File \u001b[0;32m~/opt/anaconda3/lib/python3.8/site-packages/matplotlib/__init__.py:1412\u001b[0m, in \u001b[0;36m_preprocess_data.<locals>.inner\u001b[0;34m(ax, data, *args, **kwargs)\u001b[0m\n\u001b[1;32m   <a href='file:///Users/yousufabdelfatah/opt/anaconda3/lib/python3.8/site-packages/matplotlib/__init__.py?line=1408'>1409</a>\u001b[0m \u001b[39m@functools\u001b[39m\u001b[39m.\u001b[39mwraps(func)\n\u001b[1;32m   <a href='file:///Users/yousufabdelfatah/opt/anaconda3/lib/python3.8/site-packages/matplotlib/__init__.py?line=1409'>1410</a>\u001b[0m \u001b[39mdef\u001b[39;00m \u001b[39minner\u001b[39m(ax, \u001b[39m*\u001b[39margs, data\u001b[39m=\u001b[39m\u001b[39mNone\u001b[39;00m, \u001b[39m*\u001b[39m\u001b[39m*\u001b[39mkwargs):\n\u001b[1;32m   <a href='file:///Users/yousufabdelfatah/opt/anaconda3/lib/python3.8/site-packages/matplotlib/__init__.py?line=1410'>1411</a>\u001b[0m     \u001b[39mif\u001b[39;00m data \u001b[39mis\u001b[39;00m \u001b[39mNone\u001b[39;00m:\n\u001b[0;32m-> <a href='file:///Users/yousufabdelfatah/opt/anaconda3/lib/python3.8/site-packages/matplotlib/__init__.py?line=1411'>1412</a>\u001b[0m         \u001b[39mreturn\u001b[39;00m func(ax, \u001b[39m*\u001b[39;49m\u001b[39mmap\u001b[39;49m(sanitize_sequence, args), \u001b[39m*\u001b[39;49m\u001b[39m*\u001b[39;49mkwargs)\n\u001b[1;32m   <a href='file:///Users/yousufabdelfatah/opt/anaconda3/lib/python3.8/site-packages/matplotlib/__init__.py?line=1413'>1414</a>\u001b[0m     bound \u001b[39m=\u001b[39m new_sig\u001b[39m.\u001b[39mbind(ax, \u001b[39m*\u001b[39margs, \u001b[39m*\u001b[39m\u001b[39m*\u001b[39mkwargs)\n\u001b[1;32m   <a href='file:///Users/yousufabdelfatah/opt/anaconda3/lib/python3.8/site-packages/matplotlib/__init__.py?line=1414'>1415</a>\u001b[0m     auto_label \u001b[39m=\u001b[39m (bound\u001b[39m.\u001b[39marguments\u001b[39m.\u001b[39mget(label_namer)\n\u001b[1;32m   <a href='file:///Users/yousufabdelfatah/opt/anaconda3/lib/python3.8/site-packages/matplotlib/__init__.py?line=1415'>1416</a>\u001b[0m                   \u001b[39mor\u001b[39;00m bound\u001b[39m.\u001b[39mkwargs\u001b[39m.\u001b[39mget(label_namer))\n",
      "File \u001b[0;32m~/opt/anaconda3/lib/python3.8/site-packages/matplotlib/axes/_axes.py:5488\u001b[0m, in \u001b[0;36mAxes.imshow\u001b[0;34m(self, X, cmap, norm, aspect, interpolation, alpha, vmin, vmax, origin, extent, interpolation_stage, filternorm, filterrad, resample, url, **kwargs)\u001b[0m\n\u001b[1;32m   <a href='file:///Users/yousufabdelfatah/opt/anaconda3/lib/python3.8/site-packages/matplotlib/axes/_axes.py?line=5480'>5481</a>\u001b[0m \u001b[39mself\u001b[39m\u001b[39m.\u001b[39mset_aspect(aspect)\n\u001b[1;32m   <a href='file:///Users/yousufabdelfatah/opt/anaconda3/lib/python3.8/site-packages/matplotlib/axes/_axes.py?line=5481'>5482</a>\u001b[0m im \u001b[39m=\u001b[39m mimage\u001b[39m.\u001b[39mAxesImage(\u001b[39mself\u001b[39m, cmap, norm, interpolation,\n\u001b[1;32m   <a href='file:///Users/yousufabdelfatah/opt/anaconda3/lib/python3.8/site-packages/matplotlib/axes/_axes.py?line=5482'>5483</a>\u001b[0m                       origin, extent, filternorm\u001b[39m=\u001b[39mfilternorm,\n\u001b[1;32m   <a href='file:///Users/yousufabdelfatah/opt/anaconda3/lib/python3.8/site-packages/matplotlib/axes/_axes.py?line=5483'>5484</a>\u001b[0m                       filterrad\u001b[39m=\u001b[39mfilterrad, resample\u001b[39m=\u001b[39mresample,\n\u001b[1;32m   <a href='file:///Users/yousufabdelfatah/opt/anaconda3/lib/python3.8/site-packages/matplotlib/axes/_axes.py?line=5484'>5485</a>\u001b[0m                       interpolation_stage\u001b[39m=\u001b[39minterpolation_stage,\n\u001b[1;32m   <a href='file:///Users/yousufabdelfatah/opt/anaconda3/lib/python3.8/site-packages/matplotlib/axes/_axes.py?line=5485'>5486</a>\u001b[0m                       \u001b[39m*\u001b[39m\u001b[39m*\u001b[39mkwargs)\n\u001b[0;32m-> <a href='file:///Users/yousufabdelfatah/opt/anaconda3/lib/python3.8/site-packages/matplotlib/axes/_axes.py?line=5487'>5488</a>\u001b[0m im\u001b[39m.\u001b[39;49mset_data(X)\n\u001b[1;32m   <a href='file:///Users/yousufabdelfatah/opt/anaconda3/lib/python3.8/site-packages/matplotlib/axes/_axes.py?line=5488'>5489</a>\u001b[0m im\u001b[39m.\u001b[39mset_alpha(alpha)\n\u001b[1;32m   <a href='file:///Users/yousufabdelfatah/opt/anaconda3/lib/python3.8/site-packages/matplotlib/axes/_axes.py?line=5489'>5490</a>\u001b[0m \u001b[39mif\u001b[39;00m im\u001b[39m.\u001b[39mget_clip_path() \u001b[39mis\u001b[39;00m \u001b[39mNone\u001b[39;00m:\n\u001b[1;32m   <a href='file:///Users/yousufabdelfatah/opt/anaconda3/lib/python3.8/site-packages/matplotlib/axes/_axes.py?line=5490'>5491</a>\u001b[0m     \u001b[39m# image does not already have clipping set, clip to axes patch\u001b[39;00m\n",
      "File \u001b[0;32m~/opt/anaconda3/lib/python3.8/site-packages/matplotlib/image.py:715\u001b[0m, in \u001b[0;36m_ImageBase.set_data\u001b[0;34m(self, A)\u001b[0m\n\u001b[1;32m    <a href='file:///Users/yousufabdelfatah/opt/anaconda3/lib/python3.8/site-packages/matplotlib/image.py?line=710'>711</a>\u001b[0m     \u001b[39mself\u001b[39m\u001b[39m.\u001b[39m_A \u001b[39m=\u001b[39m \u001b[39mself\u001b[39m\u001b[39m.\u001b[39m_A[:, :, \u001b[39m0\u001b[39m]\n\u001b[1;32m    <a href='file:///Users/yousufabdelfatah/opt/anaconda3/lib/python3.8/site-packages/matplotlib/image.py?line=712'>713</a>\u001b[0m \u001b[39mif\u001b[39;00m \u001b[39mnot\u001b[39;00m (\u001b[39mself\u001b[39m\u001b[39m.\u001b[39m_A\u001b[39m.\u001b[39mndim \u001b[39m==\u001b[39m \u001b[39m2\u001b[39m\n\u001b[1;32m    <a href='file:///Users/yousufabdelfatah/opt/anaconda3/lib/python3.8/site-packages/matplotlib/image.py?line=713'>714</a>\u001b[0m         \u001b[39mor\u001b[39;00m \u001b[39mself\u001b[39m\u001b[39m.\u001b[39m_A\u001b[39m.\u001b[39mndim \u001b[39m==\u001b[39m \u001b[39m3\u001b[39m \u001b[39mand\u001b[39;00m \u001b[39mself\u001b[39m\u001b[39m.\u001b[39m_A\u001b[39m.\u001b[39mshape[\u001b[39m-\u001b[39m\u001b[39m1\u001b[39m] \u001b[39min\u001b[39;00m [\u001b[39m3\u001b[39m, \u001b[39m4\u001b[39m]):\n\u001b[0;32m--> <a href='file:///Users/yousufabdelfatah/opt/anaconda3/lib/python3.8/site-packages/matplotlib/image.py?line=714'>715</a>\u001b[0m     \u001b[39mraise\u001b[39;00m \u001b[39mTypeError\u001b[39;00m(\u001b[39m\"\u001b[39m\u001b[39mInvalid shape \u001b[39m\u001b[39m{}\u001b[39;00m\u001b[39m for image data\u001b[39m\u001b[39m\"\u001b[39m\n\u001b[1;32m    <a href='file:///Users/yousufabdelfatah/opt/anaconda3/lib/python3.8/site-packages/matplotlib/image.py?line=715'>716</a>\u001b[0m                     \u001b[39m.\u001b[39mformat(\u001b[39mself\u001b[39m\u001b[39m.\u001b[39m_A\u001b[39m.\u001b[39mshape))\n\u001b[1;32m    <a href='file:///Users/yousufabdelfatah/opt/anaconda3/lib/python3.8/site-packages/matplotlib/image.py?line=717'>718</a>\u001b[0m \u001b[39mif\u001b[39;00m \u001b[39mself\u001b[39m\u001b[39m.\u001b[39m_A\u001b[39m.\u001b[39mndim \u001b[39m==\u001b[39m \u001b[39m3\u001b[39m:\n\u001b[1;32m    <a href='file:///Users/yousufabdelfatah/opt/anaconda3/lib/python3.8/site-packages/matplotlib/image.py?line=718'>719</a>\u001b[0m     \u001b[39m# If the input data has values outside the valid range (after\u001b[39;00m\n\u001b[1;32m    <a href='file:///Users/yousufabdelfatah/opt/anaconda3/lib/python3.8/site-packages/matplotlib/image.py?line=719'>720</a>\u001b[0m     \u001b[39m# normalisation), we issue a warning and then clip X to the bounds\u001b[39;00m\n\u001b[1;32m    <a href='file:///Users/yousufabdelfatah/opt/anaconda3/lib/python3.8/site-packages/matplotlib/image.py?line=720'>721</a>\u001b[0m     \u001b[39m# - otherwise casting wraps extreme values, hiding outliers and\u001b[39;00m\n\u001b[1;32m    <a href='file:///Users/yousufabdelfatah/opt/anaconda3/lib/python3.8/site-packages/matplotlib/image.py?line=721'>722</a>\u001b[0m     \u001b[39m# making reliable interpretation impossible.\u001b[39;00m\n\u001b[1;32m    <a href='file:///Users/yousufabdelfatah/opt/anaconda3/lib/python3.8/site-packages/matplotlib/image.py?line=722'>723</a>\u001b[0m     high \u001b[39m=\u001b[39m \u001b[39m255\u001b[39m \u001b[39mif\u001b[39;00m np\u001b[39m.\u001b[39missubdtype(\u001b[39mself\u001b[39m\u001b[39m.\u001b[39m_A\u001b[39m.\u001b[39mdtype, np\u001b[39m.\u001b[39minteger) \u001b[39melse\u001b[39;00m \u001b[39m1\u001b[39m\n",
      "\u001b[0;31mTypeError\u001b[0m: Invalid shape (33, 2, 2) for image data"
     ]
    },
    {
     "data": {
      "image/png": "[encoded data removed]",
      "text/plain": [
       "<Figure size 432x288 with 1 Axes>"
      ]
     },
     "metadata": {
      "needs_background": "light"
     },
     "output_type": "display_data"
    }
   ],
   "source": [
    "# multilabel confusion matrix plot\n",
    "ConfusionMatrixDisplay(confusion_matrix=multilabel_confusion_matrix(y_ml, y_ml_pred)).plot()"
   ]
  },
  {
   "cell_type": "code",
   "execution_count": null,
   "id": "788d8ca8",
   "metadata": {},
   "outputs": [],
   "source": [
    "# How are they doing? Let's look at scores!\n"
   ]
  },
  {
   "cell_type": "markdown",
   "id": "02985dfa",
   "metadata": {},
   "source": [
    "## Part 3: Regression?\n",
    "\n",
    "> Can we predict the EDHREC \"rank\" of the card using the data we have available? \n",
    "\n",
    "- Like above, add a script and dvc stage to create and train your model\n",
    "- in the notebook, aside from your descriptions, plot the `predicted` vs. `actual` rank, with a 45-deg line showing what \"perfect prediction\" should look like. \n",
    "- This is a freeform part, so think about the big picture and keep track of your decisions: \n",
    "    - what model did you choose? Why? \n",
    "    - What data did you use from the original dataset? How did you proprocess it? \n",
    "    - Can we see the importance of those features? e.g. logistic weights? \n",
    "    \n",
    "How did you do? What would you like to try if you had more time? \n"
   ]
  },
  {
   "cell_type": "code",
   "execution_count": null,
   "id": "13f2f79f",
   "metadata": {},
   "outputs": [],
   "source": [
    "# plot predicted vs actual"
   ]
  },
  {
   "cell_type": "code",
   "execution_count": null,
   "id": "a434f99e",
   "metadata": {},
   "outputs": [],
   "source": [
    "# what regression model did I choose\n",
    "Logistic regression in large part because it's interpretable "
   ]
  },
  {
   "cell_type": "code",
   "execution_count": null,
   "id": "659aafb2",
   "metadata": {},
   "outputs": [],
   "source": [
    "# what data do we use? "
   ]
  },
  {
   "cell_type": "code",
   "execution_count": null,
   "id": "18f8d964",
   "metadata": {},
   "outputs": [],
   "source": [
    "# feature importance!"
   ]
  }
 ],
 "metadata": {
  "interpreter": {
   "hash": "470f6f016bf309f80cf8017155ce6d7ccfc6ca9fae0b4a451c57f17a587998f9"
  },
  "jupytext": {
   "formats": "ipynb,md:myst",
   "text_representation": {
    "extension": ".md",
    "format_name": "myst",
    "format_version": 0.13,
    "jupytext_version": "1.11.5"
   }
  },
  "kernelspec": {
   "display_name": "Python [conda env:text-data-class]",
   "language": "python",
   "name": "python3"
  },
  "language_info": {
   "codemirror_mode": {
    "name": "ipython",
    "version": 3
   },
   "file_extension": ".py",
   "mimetype": "text/x-python",
   "name": "python",
   "nbconvert_exporter": "python",
   "pygments_lexer": "ipython3",
   "version": "3.8.12"
  }
 },
 "nbformat": 4,
 "nbformat_minor": 5
}
