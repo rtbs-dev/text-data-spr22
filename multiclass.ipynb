{
 "cells": [
  {
   "cell_type": "code",
   "execution_count": 3,
   "id": "2967ec98",
   "metadata": {},
   "outputs": [],
   "source": [
    "##Dependencies\n",
    "import pandas as pd\n",
    "from sklearn.feature_extraction.text import CountVectorizer\n",
    "from sklearn.feature_extraction.text import TfidfTransformer\n",
    "from sklearn.pipeline import Pipeline\n",
    "from sklearn.svm import LinearSVC\n",
    "# Import label encoder\n",
    "from sklearn import preprocessing\n",
    "from sklearn.model_selection import train_test_split\n",
    "import pickle\n",
    "#building a pipeline\n",
    "from sklearn.pipeline import Pipeline\n",
    "from sklearn.svm import LinearSVC"
   ]
  },
  {
   "cell_type": "code",
   "execution_count": 4,
   "id": "221efb0b",
   "metadata": {},
   "outputs": [
    {
     "data": {
      "text/html": [
       "<div>\n",
       "<style scoped>\n",
       "    .dataframe tbody tr th:only-of-type {\n",
       "        vertical-align: middle;\n",
       "    }\n",
       "\n",
       "    .dataframe tbody tr th {\n",
       "        vertical-align: top;\n",
       "    }\n",
       "\n",
       "    .dataframe thead th {\n",
       "        text-align: right;\n",
       "    }\n",
       "</style>\n",
       "<table border=\"1\" class=\"dataframe\">\n",
       "  <thead>\n",
       "    <tr style=\"text-align: right;\">\n",
       "      <th></th>\n",
       "      <th>name</th>\n",
       "      <th>text</th>\n",
       "      <th>mana_cost</th>\n",
       "      <th>flavor_text</th>\n",
       "      <th>release_date</th>\n",
       "      <th>edhrec_rank</th>\n",
       "      <th>color_identity</th>\n",
       "    </tr>\n",
       "  </thead>\n",
       "  <tbody>\n",
       "    <tr>\n",
       "      <th>0</th>\n",
       "      <td>Ancestor's Chosen</td>\n",
       "      <td>First strike (This creature deals combat damag...</td>\n",
       "      <td>[5, W, W]</td>\n",
       "      <td>&lt;NA&gt;</td>\n",
       "      <td>2007-07-13</td>\n",
       "      <td>16916.0</td>\n",
       "      <td>[W]</td>\n",
       "    </tr>\n",
       "    <tr>\n",
       "      <th>1</th>\n",
       "      <td>Angel of Mercy</td>\n",
       "      <td>Flying\n",
       "When Angel of Mercy enters the battlefi...</td>\n",
       "      <td>[4, W]</td>\n",
       "      <td>Every tear shed is a drop of immortality.</td>\n",
       "      <td>2007-07-13</td>\n",
       "      <td>14430.0</td>\n",
       "      <td>[W]</td>\n",
       "    </tr>\n",
       "    <tr>\n",
       "      <th>2</th>\n",
       "      <td>Aven Cloudchaser</td>\n",
       "      <td>Flying (This creature can't be blocked except ...</td>\n",
       "      <td>[3, W]</td>\n",
       "      <td>&lt;NA&gt;</td>\n",
       "      <td>2007-07-13</td>\n",
       "      <td>13098.0</td>\n",
       "      <td>[W]</td>\n",
       "    </tr>\n",
       "    <tr>\n",
       "      <th>3</th>\n",
       "      <td>Ballista Squad</td>\n",
       "      <td>{X}{W}, {T}: Ballista Squad deals X damage to ...</td>\n",
       "      <td>[3, W]</td>\n",
       "      <td>The perfect antidote for a tightly packed form...</td>\n",
       "      <td>2007-07-13</td>\n",
       "      <td>14972.0</td>\n",
       "      <td>[W]</td>\n",
       "    </tr>\n",
       "    <tr>\n",
       "      <th>4</th>\n",
       "      <td>Bandage</td>\n",
       "      <td>Prevent the next 1 damage that would be dealt ...</td>\n",
       "      <td>[W]</td>\n",
       "      <td>Life is measured in inches. To a healer, every...</td>\n",
       "      <td>2007-07-13</td>\n",
       "      <td>4980.0</td>\n",
       "      <td>[W]</td>\n",
       "    </tr>\n",
       "    <tr>\n",
       "      <th>...</th>\n",
       "      <td>...</td>\n",
       "      <td>...</td>\n",
       "      <td>...</td>\n",
       "      <td>...</td>\n",
       "      <td>...</td>\n",
       "      <td>...</td>\n",
       "      <td>...</td>\n",
       "    </tr>\n",
       "    <tr>\n",
       "      <th>56361</th>\n",
       "      <td>Roiling Regrowth</td>\n",
       "      <td>Sacrifice a land. Search your library for up t...</td>\n",
       "      <td>[2, G]</td>\n",
       "      <td>\"Roots find their way through rock, and even m...</td>\n",
       "      <td>2020-09-25</td>\n",
       "      <td>736.0</td>\n",
       "      <td>[G]</td>\n",
       "    </tr>\n",
       "    <tr>\n",
       "      <th>56362</th>\n",
       "      <td>Kargan Warleader</td>\n",
       "      <td>Other Warriors you control get +1/+1.</td>\n",
       "      <td>[1, R, W]</td>\n",
       "      <td>From rebellion against the Akoum Skyclave to f...</td>\n",
       "      <td>2020-09-25</td>\n",
       "      <td>8312.0</td>\n",
       "      <td>[R, W]</td>\n",
       "    </tr>\n",
       "    <tr>\n",
       "      <th>56363</th>\n",
       "      <td>A-Omnath, Locus of Creation</td>\n",
       "      <td>When Omnath, Locus of Creation enters the batt...</td>\n",
       "      <td>[1, R, G, W, U]</td>\n",
       "      <td>&lt;NA&gt;</td>\n",
       "      <td>2020-09-25</td>\n",
       "      <td>NaN</td>\n",
       "      <td>[G, R, U, W]</td>\n",
       "    </tr>\n",
       "    <tr>\n",
       "      <th>56364</th>\n",
       "      <td>A-Phylath, World Sculptor</td>\n",
       "      <td>Trample\n",
       "When Phylath, World Sculptor enters th...</td>\n",
       "      <td>[4, R, G]</td>\n",
       "      <td>&lt;NA&gt;</td>\n",
       "      <td>2020-09-25</td>\n",
       "      <td>NaN</td>\n",
       "      <td>[G, R]</td>\n",
       "    </tr>\n",
       "    <tr>\n",
       "      <th>56365</th>\n",
       "      <td>A-Luminarch Aspirant</td>\n",
       "      <td>At the beginning of your end step, put a +1/+1...</td>\n",
       "      <td>[1, W]</td>\n",
       "      <td>&lt;NA&gt;</td>\n",
       "      <td>2020-09-25</td>\n",
       "      <td>NaN</td>\n",
       "      <td>[W]</td>\n",
       "    </tr>\n",
       "  </tbody>\n",
       "</table>\n",
       "<p>56366 rows × 7 columns</p>\n",
       "</div>"
      ],
      "text/plain": [
       "                              name  \\\n",
       "0                Ancestor's Chosen   \n",
       "1                   Angel of Mercy   \n",
       "2                 Aven Cloudchaser   \n",
       "3                   Ballista Squad   \n",
       "4                          Bandage   \n",
       "...                            ...   \n",
       "56361             Roiling Regrowth   \n",
       "56362             Kargan Warleader   \n",
       "56363  A-Omnath, Locus of Creation   \n",
       "56364    A-Phylath, World Sculptor   \n",
       "56365         A-Luminarch Aspirant   \n",
       "\n",
       "                                                    text        mana_cost  \\\n",
       "0      First strike (This creature deals combat damag...        [5, W, W]   \n",
       "1      Flying\n",
       "When Angel of Mercy enters the battlefi...           [4, W]   \n",
       "2      Flying (This creature can't be blocked except ...           [3, W]   \n",
       "3      {X}{W}, {T}: Ballista Squad deals X damage to ...           [3, W]   \n",
       "4      Prevent the next 1 damage that would be dealt ...              [W]   \n",
       "...                                                  ...              ...   \n",
       "56361  Sacrifice a land. Search your library for up t...           [2, G]   \n",
       "56362              Other Warriors you control get +1/+1.        [1, R, W]   \n",
       "56363  When Omnath, Locus of Creation enters the batt...  [1, R, G, W, U]   \n",
       "56364  Trample\n",
       "When Phylath, World Sculptor enters th...        [4, R, G]   \n",
       "56365  At the beginning of your end step, put a +1/+1...           [1, W]   \n",
       "\n",
       "                                             flavor_text release_date  \\\n",
       "0                                                   <NA>   2007-07-13   \n",
       "1              Every tear shed is a drop of immortality.   2007-07-13   \n",
       "2                                                   <NA>   2007-07-13   \n",
       "3      The perfect antidote for a tightly packed form...   2007-07-13   \n",
       "4      Life is measured in inches. To a healer, every...   2007-07-13   \n",
       "...                                                  ...          ...   \n",
       "56361  \"Roots find their way through rock, and even m...   2020-09-25   \n",
       "56362  From rebellion against the Akoum Skyclave to f...   2020-09-25   \n",
       "56363                                               <NA>   2020-09-25   \n",
       "56364                                               <NA>   2020-09-25   \n",
       "56365                                               <NA>   2020-09-25   \n",
       "\n",
       "       edhrec_rank color_identity  \n",
       "0          16916.0            [W]  \n",
       "1          14430.0            [W]  \n",
       "2          13098.0            [W]  \n",
       "3          14972.0            [W]  \n",
       "4           4980.0            [W]  \n",
       "...            ...            ...  \n",
       "56361        736.0            [G]  \n",
       "56362       8312.0         [R, W]  \n",
       "56363          NaN   [G, R, U, W]  \n",
       "56364          NaN         [G, R]  \n",
       "56365          NaN            [W]  \n",
       "\n",
       "[56366 rows x 7 columns]"
      ]
     },
     "execution_count": 4,
     "metadata": {},
     "output_type": "execute_result"
    }
   ],
   "source": [
    "##Loading data\n",
    "df = (pd.read_feather('C:/Users/VIOLIN/Desktop/text-data-spr22/data/mtg.feather')[['name','text', 'mana_cost', 'flavor_text','release_date', 'edhrec_rank','color_identity']])\n",
    "df"
   ]
  },
  {
   "cell_type": "code",
   "execution_count": 5,
   "id": "31f8b738",
   "metadata": {},
   "outputs": [
    {
     "data": {
      "text/plain": [
       "(56366, 7)"
      ]
     },
     "execution_count": 5,
     "metadata": {},
     "output_type": "execute_result"
    }
   ],
   "source": [
    "df.shape #data exploration"
   ]
  },
  {
   "cell_type": "code",
   "execution_count": 6,
   "id": "7833bb2b",
   "metadata": {},
   "outputs": [
    {
     "data": {
      "text/plain": [
       "name                      object\n",
       "text                      string\n",
       "mana_cost                 object\n",
       "flavor_text               string\n",
       "release_date      datetime64[ns]\n",
       "edhrec_rank              float64\n",
       "color_identity            object\n",
       "dtype: object"
      ]
     },
     "execution_count": 6,
     "metadata": {},
     "output_type": "execute_result"
    }
   ],
   "source": [
    "df.dtypes#data exploration"
   ]
  },
  {
   "cell_type": "code",
   "execution_count": 7,
   "id": "054d5c99",
   "metadata": {},
   "outputs": [
    {
     "data": {
      "text/plain": [
       "name              False\n",
       "text              False\n",
       "mana_cost          True\n",
       "flavor_text        True\n",
       "release_date      False\n",
       "edhrec_rank        True\n",
       "color_identity    False\n",
       "dtype: bool"
      ]
     },
     "execution_count": 7,
     "metadata": {},
     "output_type": "execute_result"
    }
   ],
   "source": [
    "df.isnull().any() #data exploration"
   ]
  },
  {
   "cell_type": "code",
   "execution_count": 8,
   "id": "2d4a6f3c",
   "metadata": {},
   "outputs": [
    {
     "data": {
      "text/plain": [
       "name                  0\n",
       "text                  0\n",
       "mana_cost          7043\n",
       "flavor_text       26731\n",
       "release_date          0\n",
       "edhrec_rank        4123\n",
       "color_identity        0\n",
       "dtype: int64"
      ]
     },
     "execution_count": 8,
     "metadata": {},
     "output_type": "execute_result"
    }
   ],
   "source": [
    "df.isnull().sum()  #data exploration"
   ]
  },
  {
   "cell_type": "code",
   "execution_count": 9,
   "id": "84c0ab6f",
   "metadata": {},
   "outputs": [],
   "source": [
    "df = df.dropna() #data exploration"
   ]
  },
  {
   "cell_type": "code",
   "execution_count": 10,
   "id": "4ce533dc",
   "metadata": {},
   "outputs": [
    {
     "data": {
      "text/plain": [
       "name              False\n",
       "text              False\n",
       "mana_cost         False\n",
       "flavor_text       False\n",
       "release_date      False\n",
       "edhrec_rank       False\n",
       "color_identity    False\n",
       "dtype: bool"
      ]
     },
     "execution_count": 10,
     "metadata": {},
     "output_type": "execute_result"
    }
   ],
   "source": [
    "df.isnull().any() #data exploration"
   ]
  },
  {
   "cell_type": "code",
   "execution_count": 11,
   "id": "f59b1c90",
   "metadata": {},
   "outputs": [
    {
     "data": {
      "text/plain": [
       "(27821, 7)"
      ]
     },
     "execution_count": 11,
     "metadata": {},
     "output_type": "execute_result"
    }
   ],
   "source": [
    "df.shape #data exploration"
   ]
  },
  {
   "cell_type": "code",
   "execution_count": 12,
   "id": "04768099",
   "metadata": {},
   "outputs": [
    {
     "name": "stderr",
     "output_type": "stream",
     "text": [
      "C:\\Users\\VIOLIN\\AppData\\Local\\Temp/ipykernel_9060/935874284.py:1: SettingWithCopyWarning: \n",
      "A value is trying to be set on a copy of a slice from a DataFrame.\n",
      "Try using .loc[row_indexer,col_indexer] = value instead\n",
      "\n",
      "See the caveats in the documentation: https://pandas.pydata.org/pandas-docs/stable/user_guide/indexing.html#returning-a-view-versus-a-copy\n",
      "  df['full_text'] = df['text'] + df['flavor_text'] ##preparing predictor variable\n"
     ]
    }
   ],
   "source": [
    "df['full_text'] = df['text'] + df['flavor_text'] ##preparing predictor variable"
   ]
  },
  {
   "cell_type": "code",
   "execution_count": 13,
   "id": "1f083bd6",
   "metadata": {},
   "outputs": [
    {
     "data": {
      "text/plain": [
       "False"
      ]
     },
     "execution_count": 13,
     "metadata": {},
     "output_type": "execute_result"
    }
   ],
   "source": [
    "x = df['full_text'].fillna('') #handling nulls\n",
    "x.isnull().any()"
   ]
  },
  {
   "cell_type": "code",
   "execution_count": 15,
   "id": "12502ea9",
   "metadata": {},
   "outputs": [],
   "source": [
    "y = df['color_identity'] ##defining y for multiclass \n",
    "y = [list(i)[0] if len(i) == 1 else -1 for i in y] ##-1 for more than one color"
   ]
  },
  {
   "cell_type": "code",
   "execution_count": 16,
   "id": "f7689f86",
   "metadata": {},
   "outputs": [],
   "source": [
    "# label_encoder object knows how to understand word labels.\n",
    "label_encoder = preprocessing.LabelEncoder() \n",
    "y = label_encoder.fit_transform(y)"
   ]
  },
  {
   "cell_type": "code",
   "execution_count": 17,
   "id": "4cd4294a",
   "metadata": {},
   "outputs": [],
   "source": [
    "x_train, x_test, y_train, y_test = train_test_split(x, y) ##splitting the data"
   ]
  },
  {
   "cell_type": "code",
   "execution_count": 19,
   "id": "fe9ea80b",
   "metadata": {},
   "outputs": [],
   "source": [
    "##model pipeline\n",
    "text_clf = Pipeline([\n",
    "('vect', CountVectorizer(input='content',ngram_range=(1,1),max_df=25, min_df=5)), ##text preprocessing\n",
    "('tfidf', TfidfTransformer()), ##tfidf\n",
    "('clf', LinearSVC())]) #model"
   ]
  },
  {
   "cell_type": "code",
   "execution_count": 20,
   "id": "63b3af0e",
   "metadata": {},
   "outputs": [
    {
     "data": {
      "text/plain": [
       "Pipeline(steps=[('vect', CountVectorizer(max_df=25, min_df=5)),\n",
       "                ('tfidf', TfidfTransformer()), ('clf', LinearSVC())])"
      ]
     },
     "execution_count": 20,
     "metadata": {},
     "output_type": "execute_result"
    }
   ],
   "source": [
    "#fitting the data\n",
    "text_clf.fit(x_train, y_train)"
   ]
  },
  {
   "cell_type": "code",
   "execution_count": 21,
   "id": "d842b111",
   "metadata": {},
   "outputs": [],
   "source": [
    "pickle.dump(text_clf, open('multiclass.sav', 'wb')) #saving the model as object"
   ]
  },
  {
   "cell_type": "code",
   "execution_count": null,
   "id": "97f903b3",
   "metadata": {},
   "outputs": [],
   "source": []
  },
  {
   "cell_type": "code",
   "execution_count": null,
   "id": "92a7e654",
   "metadata": {},
   "outputs": [],
   "source": []
  },
  {
   "cell_type": "code",
   "execution_count": null,
   "id": "31ad9e40",
   "metadata": {},
   "outputs": [],
   "source": []
  },
  {
   "cell_type": "code",
   "execution_count": null,
   "id": "191c2ae2",
   "metadata": {},
   "outputs": [],
   "source": []
  },
  {
   "cell_type": "code",
   "execution_count": null,
   "id": "b299cb12",
   "metadata": {},
   "outputs": [],
   "source": []
  },
  {
   "cell_type": "code",
   "execution_count": null,
   "id": "935a5219",
   "metadata": {},
   "outputs": [],
   "source": []
  },
  {
   "cell_type": "code",
   "execution_count": null,
   "id": "be49a222",
   "metadata": {},
   "outputs": [],
   "source": []
  },
  {
   "cell_type": "code",
   "execution_count": null,
   "id": "38124921",
   "metadata": {},
   "outputs": [],
   "source": []
  }
 ],
 "metadata": {
  "kernelspec": {
   "display_name": "Python 3 (ipykernel)",
   "language": "python",
   "name": "python3"
  },
  "language_info": {
   "codemirror_mode": {
    "name": "ipython",
    "version": 3
   },
   "file_extension": ".py",
   "mimetype": "text/x-python",
   "name": "python",
   "nbconvert_exporter": "python",
   "pygments_lexer": "ipython3",
   "version": "3.9.7"
  }
 },
 "nbformat": 4,
 "nbformat_minor": 5
}
